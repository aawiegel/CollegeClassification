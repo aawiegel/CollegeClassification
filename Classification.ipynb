{
 "cells": [
  {
   "cell_type": "code",
   "execution_count": 271,
   "metadata": {
    "collapsed": true
   },
   "outputs": [],
   "source": [
    "from sqlalchemy import create_engine\n",
    "import numpy as np\n",
    "import pandas as pd\n",
    "import matplotlib.pyplot as plt\n",
    "import seaborn as sns\n",
    "from sklearn.model_selection import train_test_split\n",
    "from sklearn.linear_model import LogisticRegression\n",
    "from sklearn.metrics import accuracy_score, precision_score, recall_score, f1_score\n",
    "\n",
    "conn = create_engine('postgresql://ubuntu@52.53.236.232:5432/collegesc')\n",
    "\n",
    "%matplotlib inline"
   ]
  },
  {
   "cell_type": "markdown",
   "metadata": {},
   "source": [
    "## Helper functions and other definitions"
   ]
  },
  {
   "cell_type": "code",
   "execution_count": 54,
   "metadata": {
    "collapsed": true
   },
   "outputs": [],
   "source": [
    "def query_data_def(conn, var_name):\n",
    "    \"\"\"\n",
    "    var_name: name of column to query\n",
    "    returns query from datadefinitions table showing definition of data\n",
    "    \"\"\"\n",
    "    query = \"SELECT * FROM datadefinitions WHERE developername='\"+var_name+\"';\"\n",
    "    return conn.execute(query).fetchall()"
   ]
  },
  {
   "cell_type": "markdown",
   "metadata": {},
   "source": [
    "## Start with school table"
   ]
  },
  {
   "cell_type": "code",
   "execution_count": 211,
   "metadata": {
    "collapsed": true
   },
   "outputs": [],
   "source": [
    "school_all = \"\"\"SELECT * FROM school;\"\"\""
   ]
  },
  {
   "cell_type": "code",
   "execution_count": 212,
   "metadata": {
    "collapsed": true
   },
   "outputs": [],
   "source": [
    "school_df = pd.read_sql_query(school_all, conn)"
   ]
  },
  {
   "cell_type": "code",
   "execution_count": 213,
   "metadata": {},
   "outputs": [
    {
     "name": "stdout",
     "output_type": "stream",
     "text": [
      "<class 'pandas.core.frame.DataFrame'>\n",
      "RangeIndex: 7703 entries, 0 to 7702\n",
      "Data columns (total 43 columns):\n",
      "index                                   7703 non-null int64\n",
      "id                                      7703 non-null int64\n",
      "location.lat                            7703 non-null float64\n",
      "location.lon                            7703 non-null float64\n",
      "accreditor                              6805 non-null object\n",
      "alias                                   2178 non-null object\n",
      "branches                                7703 non-null int64\n",
      "carnegie_basic                          7282 non-null float64\n",
      "carnegie_size_setting                   7282 non-null float64\n",
      "carnegie_undergrad                      7282 non-null float64\n",
      "city                                    7703 non-null object\n",
      "degree_urbanization                     0 non-null object\n",
      "degrees_awarded.highest                 7703 non-null int64\n",
      "degrees_awarded.predominant             7703 non-null int64\n",
      "degrees_awarded.predominant_recoded     0 non-null object\n",
      "faculty_salary                          4546 non-null float64\n",
      "ft_faculty_rate                         4045 non-null float64\n",
      "institutional_characteristics.level     7703 non-null int64\n",
      "instructional_expenditure_per_fte       7270 non-null float64\n",
      "locale                                  7282 non-null float64\n",
      "main_campus                             7703 non-null int64\n",
      "men_only                                7282 non-null float64\n",
      "minority_serving.aanipi                 7282 non-null float64\n",
      "minority_serving.annh                   7282 non-null float64\n",
      "minority_serving.hispanic               7282 non-null float64\n",
      "minority_serving.historically_black     7282 non-null float64\n",
      "minority_serving.nant                   7282 non-null float64\n",
      "minority_serving.predominantly_black    7282 non-null float64\n",
      "minority_serving.tribal                 7282 non-null float64\n",
      "name                                    7703 non-null object\n",
      "online_only                             7282 non-null float64\n",
      "operating                               7703 non-null int64\n",
      "ownership                               7703 non-null int64\n",
      "price_calculator_url                    7158 non-null object\n",
      "region_id                               7703 non-null int64\n",
      "religious_affiliation                   7109 non-null float64\n",
      "url                                     7626 non-null object\n",
      "state                                   7703 non-null object\n",
      "state_fips                              7703 non-null int64\n",
      "tuition_revenue_per_fte                 7270 non-null float64\n",
      "under_investigation                     7703 non-null int64\n",
      "women_only                              7282 non-null float64\n",
      "zip                                     7703 non-null int64\n",
      "dtypes: float64(21), int64(13), object(9)\n",
      "memory usage: 2.5+ MB\n"
     ]
    }
   ],
   "source": [
    "school_df.info()"
   ]
  },
  {
   "cell_type": "code",
   "execution_count": 214,
   "metadata": {},
   "outputs": [
    {
     "data": {
      "text/plain": [
       "0    7467\n",
       "1     236\n",
       "Name: under_investigation, dtype: int64"
      ]
     },
     "execution_count": 214,
     "metadata": {},
     "output_type": "execute_result"
    }
   ],
   "source": [
    "school_df.under_investigation.value_counts()"
   ]
  },
  {
   "cell_type": "markdown",
   "metadata": {},
   "source": [
    "### Remove uninteresting columns or columns with explicit or encoded nulls"
   ]
  },
  {
   "cell_type": "code",
   "execution_count": 215,
   "metadata": {},
   "outputs": [],
   "source": [
    "school_columns = list(school_df.columns.values)"
   ]
  },
  {
   "cell_type": "code",
   "execution_count": 216,
   "metadata": {},
   "outputs": [],
   "source": [
    "school_columns.remove('index')\n",
    "school_columns.remove('alias')\n",
    "school_columns.remove('degree_urbanization')\n",
    "school_columns.remove('degrees_awarded.predominant_recoded')\n",
    "school_columns.remove('faculty_salary')\n",
    "school_columns.remove('ft_faculty_rate')\n",
    "school_columns.remove('price_calculator_url')\n",
    "school_columns.remove('url')\n",
    "school_columns.remove('zip')\n",
    "school_columns.remove('carnegie_basic')\n",
    "school_columns.remove('carnegie_size_setting')\n",
    "school_columns.remove('carnegie_undergrad')\n",
    "school_columns.remove('online_only')"
   ]
  },
  {
   "cell_type": "markdown",
   "metadata": {},
   "source": [
    "## Select only interesting features and add/recode features"
   ]
  },
  {
   "cell_type": "code",
   "execution_count": null,
   "metadata": {},
   "outputs": [],
   "source": []
  },
  {
   "cell_type": "code",
   "execution_count": 217,
   "metadata": {
    "collapsed": true
   },
   "outputs": [],
   "source": [
    "operating_query = 'SELECT \\n\"' + '\",\"'.join(school_columns) + '\"'\n",
    "operating_query += \"\"\"                       \n",
    "                    FROM \n",
    "                        school\"\"\""
   ]
  },
  {
   "cell_type": "code",
   "execution_count": 218,
   "metadata": {},
   "outputs": [],
   "source": [
    "school_df = pd.read_sql_query(operating_query, conn)"
   ]
  },
  {
   "cell_type": "code",
   "execution_count": 219,
   "metadata": {},
   "outputs": [
    {
     "name": "stdout",
     "output_type": "stream",
     "text": [
      "<class 'pandas.core.frame.DataFrame'>\n",
      "RangeIndex: 7703 entries, 0 to 7702\n",
      "Data columns (total 30 columns):\n",
      "id                                      7703 non-null int64\n",
      "location.lat                            7703 non-null float64\n",
      "location.lon                            7703 non-null float64\n",
      "accreditor                              6805 non-null object\n",
      "branches                                7703 non-null int64\n",
      "city                                    7703 non-null object\n",
      "degrees_awarded.highest                 7703 non-null int64\n",
      "degrees_awarded.predominant             7703 non-null int64\n",
      "institutional_characteristics.level     7703 non-null int64\n",
      "instructional_expenditure_per_fte       7270 non-null float64\n",
      "locale                                  7282 non-null float64\n",
      "main_campus                             7703 non-null int64\n",
      "men_only                                7282 non-null float64\n",
      "minority_serving.aanipi                 7282 non-null float64\n",
      "minority_serving.annh                   7282 non-null float64\n",
      "minority_serving.hispanic               7282 non-null float64\n",
      "minority_serving.historically_black     7282 non-null float64\n",
      "minority_serving.nant                   7282 non-null float64\n",
      "minority_serving.predominantly_black    7282 non-null float64\n",
      "minority_serving.tribal                 7282 non-null float64\n",
      "name                                    7703 non-null object\n",
      "operating                               7703 non-null int64\n",
      "ownership                               7703 non-null int64\n",
      "region_id                               7703 non-null int64\n",
      "religious_affiliation                   7109 non-null float64\n",
      "state                                   7703 non-null object\n",
      "state_fips                              7703 non-null int64\n",
      "tuition_revenue_per_fte                 7270 non-null float64\n",
      "under_investigation                     7703 non-null int64\n",
      "women_only                              7282 non-null float64\n",
      "dtypes: float64(15), int64(11), object(4)\n",
      "memory usage: 1.8+ MB\n"
     ]
    }
   ],
   "source": [
    "school_df.info()"
   ]
  },
  {
   "cell_type": "markdown",
   "metadata": {},
   "source": [
    "### Add whether college is accredited or not"
   ]
  },
  {
   "cell_type": "code",
   "execution_count": 220,
   "metadata": {},
   "outputs": [],
   "source": [
    "school_df['accredited'] = school_df.accreditor.map(lambda x: 1 if x else 0)"
   ]
  },
  {
   "cell_type": "code",
   "execution_count": 221,
   "metadata": {},
   "outputs": [
    {
     "data": {
      "text/plain": [
       "1    6805\n",
       "0     898\n",
       "Name: accredited, dtype: int64"
      ]
     },
     "execution_count": 221,
     "metadata": {},
     "output_type": "execute_result"
    }
   ],
   "source": [
    "school_df.accredited.value_counts()"
   ]
  },
  {
   "cell_type": "markdown",
   "metadata": {},
   "source": [
    "### Recode locale to 4 values instead of 12"
   ]
  },
  {
   "cell_type": "code",
   "execution_count": 222,
   "metadata": {},
   "outputs": [],
   "source": [
    "locale_recode = school_df.locale.astype(str).values"
   ]
  },
  {
   "cell_type": "code",
   "execution_count": 223,
   "metadata": {},
   "outputs": [],
   "source": [
    "locale_recode = [int(x[0]) if x[0] in ['1','2','3'] else 0 for x in locale_recode]"
   ]
  },
  {
   "cell_type": "code",
   "execution_count": 224,
   "metadata": {},
   "outputs": [],
   "source": [
    "school_df['locale_recode'] = locale_recode"
   ]
  },
  {
   "cell_type": "code",
   "execution_count": 225,
   "metadata": {},
   "outputs": [
    {
     "data": {
      "text/plain": [
       "1    3509\n",
       "2    2291\n",
       "0     986\n",
       "3     917\n",
       "Name: locale_recode, dtype: int64"
      ]
     },
     "execution_count": 225,
     "metadata": {},
     "output_type": "execute_result"
    }
   ],
   "source": [
    "school_df['locale_recode'].value_counts()"
   ]
  },
  {
   "cell_type": "markdown",
   "metadata": {},
   "source": [
    "### Recode religion to religious and non-religious"
   ]
  },
  {
   "cell_type": "code",
   "execution_count": 226,
   "metadata": {},
   "outputs": [],
   "source": [
    "religion_recode = (np.nan_to_num(school_df.religious_affiliation.values) > 0).astype(int)"
   ]
  },
  {
   "cell_type": "code",
   "execution_count": 227,
   "metadata": {},
   "outputs": [
    {
     "data": {
      "text/plain": [
       "array([0, 1])"
      ]
     },
     "execution_count": 227,
     "metadata": {},
     "output_type": "execute_result"
    }
   ],
   "source": [
    "np.unique(religion_recode)"
   ]
  },
  {
   "cell_type": "code",
   "execution_count": 228,
   "metadata": {
    "collapsed": true
   },
   "outputs": [],
   "source": [
    "school_df['religion_recode'] = religion_recode"
   ]
  },
  {
   "cell_type": "code",
   "execution_count": 229,
   "metadata": {},
   "outputs": [
    {
     "data": {
      "text/plain": [
       "0    6793\n",
       "1     910\n",
       "Name: religion_recode, dtype: int64"
      ]
     },
     "execution_count": 229,
     "metadata": {},
     "output_type": "execute_result"
    }
   ],
   "source": [
    "school_df.religion_recode.value_counts()"
   ]
  },
  {
   "cell_type": "markdown",
   "metadata": {},
   "source": [
    "### Check other variables"
   ]
  },
  {
   "cell_type": "code",
   "execution_count": 197,
   "metadata": {
    "scrolled": true
   },
   "outputs": [
    {
     "name": "stdout",
     "output_type": "stream",
     "text": [
      "id value counts\n",
      "217086      1\n",
      "216667      1\n",
      "177588      1\n",
      "449977      1\n",
      "179645      1\n",
      "236993      1\n",
      "476610      1\n",
      "107974      1\n",
      "171465      1\n",
      "150987      1\n",
      "130509      1\n",
      "169424      1\n",
      "155089      1\n",
      "156417      1\n",
      "226772      1\n",
      "452054      1\n",
      "191959      1\n",
      "161244      1\n",
      "213491      1\n",
      "480736      1\n",
      "175591      1\n",
      "417257      1\n",
      "181738      1\n",
      "194028      1\n",
      "409069      1\n",
      "372329      1\n",
      "431600      1\n",
      "230898      1\n",
      "152336      1\n",
      "478643      1\n",
      "           ..\n",
      "23368407    1\n",
      "197285      1\n",
      "449214      1\n",
      "187046      1\n",
      "189097      1\n",
      "203438      1\n",
      "418481      1\n",
      "190044      1\n",
      "139393      1\n",
      "201399      1\n",
      "261773      1\n",
      "467641      1\n",
      "457402      1\n",
      "461500      1\n",
      "459453      1\n",
      "476902      1\n",
      "127699      1\n",
      "230852      1\n",
      "213215      1\n",
      "209603      1\n",
      "182980      1\n",
      "16947910    1\n",
      "447175      1\n",
      "174792      1\n",
      "205513      1\n",
      "228042      1\n",
      "406219      1\n",
      "16947918    1\n",
      "234191      1\n",
      "149505      1\n",
      "Name: id, Length: 7703, dtype: int64\n",
      "location.lat value counts\n",
      "0.000000     421\n",
      "40.760050      2\n",
      "38.655362      2\n",
      "32.955170      2\n",
      "34.063020      2\n",
      "38.852320      2\n",
      "30.325700      2\n",
      "33.819000      2\n",
      "34.147050      2\n",
      "36.219220      2\n",
      "34.060510      2\n",
      "41.928952      2\n",
      "42.997500      1\n",
      "46.818896      1\n",
      "33.026326      1\n",
      "39.046353      1\n",
      "29.990492      1\n",
      "39.000270      1\n",
      "40.692220      1\n",
      "38.801695      1\n",
      "39.994442      1\n",
      "42.913045      1\n",
      "35.200390      1\n",
      "33.045208      1\n",
      "40.644102      1\n",
      "36.750310      1\n",
      "29.311333      1\n",
      "36.135301      1\n",
      "39.989483      1\n",
      "43.056383      1\n",
      "            ... \n",
      "42.686917      1\n",
      "41.879646      1\n",
      "40.568371      1\n",
      "39.608128      1\n",
      "47.656213      1\n",
      "40.454415      1\n",
      "36.150390      1\n",
      "33.901271      1\n",
      "39.305834      1\n",
      "38.291923      1\n",
      "41.941330      1\n",
      "30.282647      1\n",
      "39.697260      1\n",
      "40.635963      1\n",
      "34.107602      1\n",
      "44.969389      1\n",
      "32.675399      1\n",
      "47.909189      1\n",
      "40.692662      1\n",
      "39.717767      1\n",
      "33.435722      1\n",
      "40.912476      1\n",
      "29.679443      1\n",
      "43.101265      1\n",
      "45.041816      1\n",
      "18.010869      1\n",
      "39.831961      1\n",
      "32.297261      1\n",
      "41.556780      1\n",
      "30.414983      1\n",
      "Name: location.lat, Length: 7272, dtype: int64\n",
      "location.lon value counts\n",
      " 0.000000      421\n",
      "-87.962922       2\n",
      "-77.050211       2\n",
      "-86.697651       2\n",
      "-81.550041       2\n",
      "-117.803681      2\n",
      "-96.768511       2\n",
      "-118.299091      2\n",
      "-84.185929       1\n",
      "-104.801861      1\n",
      "-118.444038      1\n",
      "-74.426989       1\n",
      "-74.613311       1\n",
      "-91.189524       1\n",
      "-77.859781       1\n",
      "-75.546609       1\n",
      "-84.662606       1\n",
      "-76.458895       1\n",
      "-96.871882       1\n",
      "-93.287451       1\n",
      "-78.823535       1\n",
      "-67.154625       1\n",
      "-84.026195       1\n",
      "-119.986499      1\n",
      "-81.975445       1\n",
      "-66.159250       1\n",
      "-78.876077       1\n",
      "-97.457319       1\n",
      "-66.063039       1\n",
      "-86.895230       1\n",
      "              ... \n",
      "-84.207961       1\n",
      "-92.455064       1\n",
      "-81.976056       1\n",
      "-74.119981       1\n",
      "-81.070595       1\n",
      "-79.779980       1\n",
      "-73.934779       1\n",
      "-71.142082       1\n",
      "-94.425816       1\n",
      "-80.608996       1\n",
      "-95.281249       1\n",
      "-101.729564      1\n",
      "-88.258805       1\n",
      "-97.936392       1\n",
      "-78.872312       1\n",
      "-111.889544      1\n",
      "-86.781745       1\n",
      "-118.148751      1\n",
      "-71.261836       1\n",
      "-88.069391       1\n",
      "-119.699744      1\n",
      "-85.653541       1\n",
      "-97.361561       1\n",
      "-91.660609       1\n",
      "-92.466645       1\n",
      "-93.019755       1\n",
      "-71.115601       1\n",
      "-81.400296       1\n",
      "-86.059450       1\n",
      "-66.056334       1\n",
      "Name: location.lon, Length: 7276, dtype: int64\n",
      "accreditor value counts\n",
      "North Central Association of Colleges and Schools The Higher Learning Commission                                                                      1218\n",
      "National Accrediting Commission of Cosmetology Arts and Sciences                                                                                      1014\n",
      "Southern Association of Colleges and Schools Commission on Colleges                                                                                    859\n",
      "Middle States Commission on Higher Education                                                                                                           656\n",
      "Accrediting Commission of Career Schools and Colleges                                                                                                  555\n",
      "Accrediting Council for Independent Colleges and Schools                                                                                               476\n",
      "Council on Occupational Education                                                                                                                      472\n",
      "New England Association of Schools and Colleges Commission on Institutions of Higher Education                                                         235\n",
      "Western Association of Schools and Colleges Senior Colleges and University Commission                                                                  208\n",
      "Northwest Commission on Colleges and Universities                                                                                                      174\n",
      "Accrediting Bureau of Health Education Schools                                                                                                         169\n",
      "Western Association of Schools and Colleges Accrediting Commission for Community and Junior Colleges                                                   159\n",
      "Accrediting Council for Continuing Education & Training                                                                                                103\n",
      "Commission on Accrediting of the Association of Theological Schools                                                                                     76\n",
      "Association of Advanced Rabbinical and Talmudic Schools                                                                                                 62\n",
      "Association for Bibical Higher Educaiton                                                                                                                49\n",
      "Oklahoma State Board of Career and Technology Education                                                                                                 45\n",
      "Transnational Association of Christian Colleges and Schools                                                                                             41\n",
      "Accreditation Commission for Education in Nursing Inc.                                                                                                  40\n",
      "Commission on Massage Therapy Accreditation                                                                                                             30\n",
      "Accrediting Commission for Acupuncture and Oriental Medicine                                                                                            29\n",
      "American Bar Association                                                                                                                                20\n",
      "Middle States Commission on Secondary Education                                                                                                         15\n",
      "New York State Board of Regents State Education Department Office of the Professions (Public Postsecondary Vocational Education Practical Nursing)      14\n",
      "New York State Board of Regents and the Commissioner of Education                                                                                       13\n",
      "Distance Education Accrediting Commission                                                                                                               12\n",
      "National Association of Schools of Arts and Design                                                                                                       9\n",
      "Pennsylvania State Board of Vocational Education Bureau of Career and Technical Education                                                                7\n",
      "National Association of Schools of Theatre                                                                                                               7\n",
      "American Board of Funeral Service Education Committee on Accreditation                                                                                   7\n",
      "Joint Review Committee on Education in Radiologic Technology                                                                                             7\n",
      "National Association of Schools of Music                                                                                                                 6\n",
      "Puerto Rico State Agency for the Approval of Public Postsecondary Vocational Technical Institutions and Programs                                         4\n",
      "Midwifery Education Accreditation Council                                                                                                                4\n",
      "Montessori Accreditation Council for Teacher Education                                                                                                   3\n",
      "American Osteopathic Association                                                                                                                         3\n",
      "National Association of Schools of Dance                                                                                                                 2\n",
      "Council on Accreditation of Nurse Anesthesia Educational Programs                                                                                        1\n",
      "American Podiatric Medical Association                                                                                                                   1\n",
      "Name: accreditor, dtype: int64\n",
      "branches value counts\n",
      "1      5069\n",
      "2       642\n",
      "3       330\n",
      "4       243\n",
      "5       157\n",
      "142     142\n",
      "6       108\n",
      "33       99\n",
      "85       85\n",
      "9        82\n",
      "80       81\n",
      "14       71\n",
      "13       65\n",
      "7        64\n",
      "10       60\n",
      "15       60\n",
      "11       55\n",
      "12       49\n",
      "8        48\n",
      "23       47\n",
      "38       38\n",
      "18       37\n",
      "28       29\n",
      "25       25\n",
      "16       17\n",
      "Name: branches, dtype: int64\n",
      "city value counts\n",
      "New York            89\n",
      "Chicago             80\n",
      "Houston             75\n",
      "Los Angeles         57\n",
      "Miami               53\n",
      "San Antonio         52\n",
      "Dallas              48\n",
      "Philadelphia        46\n",
      "Brooklyn            46\n",
      "Atlanta             42\n",
      "Jacksonville        42\n",
      "Phoenix             41\n",
      "Springfield         41\n",
      "Portland            39\n",
      "Columbus            38\n",
      "Indianapolis        37\n",
      "Washington          34\n",
      "Pittsburgh          34\n",
      "Austin              34\n",
      "Nashville           33\n",
      "Boston              33\n",
      "San Diego           33\n",
      "Columbia            32\n",
      "Tampa               31\n",
      "Cincinnati          30\n",
      "Rochester           30\n",
      "Kansas City         30\n",
      "Charlotte           29\n",
      "Memphis             29\n",
      "Louisville          28\n",
      "                    ..\n",
      "Cranford             1\n",
      "Nyack                1\n",
      "Pewaukee             1\n",
      "New Wilmington       1\n",
      "Mexico               1\n",
      "Friendswood          1\n",
      "Spring Lake Park     1\n",
      "Fort Valley          1\n",
      "North Platte         1\n",
      "Philippi             1\n",
      "Gahanna              1\n",
      "Hatfield             1\n",
      "Alton                1\n",
      "Pocatello            1\n",
      "Bentonville          1\n",
      "ARTESIA              1\n",
      "Grafton              1\n",
      "Hornell              1\n",
      "Oregon City          1\n",
      "Randolph Center      1\n",
      "Natchitoches         1\n",
      "Morehead City        1\n",
      "Chipley              1\n",
      "DeFuniak Springs     1\n",
      "Phoenixville         1\n",
      "Albertville          1\n",
      "Marlboro             1\n",
      "New Boston           1\n",
      "Misenheimer          1\n",
      "Norco                1\n",
      "Name: city, Length: 2542, dtype: int64\n",
      "degrees_awarded.highest value counts\n",
      "1    2606\n",
      "4    2026\n",
      "2    1671\n",
      "3     937\n",
      "0     463\n",
      "Name: degrees_awarded.highest, dtype: int64\n",
      "degrees_awarded.predominant value counts\n",
      "1    3343\n",
      "3    2102\n",
      "2    1523\n",
      "0     443\n",
      "4     292\n",
      "Name: degrees_awarded.predominant, dtype: int64\n",
      "institutional_characteristics.level value counts\n",
      "1    3281\n",
      "2    2249\n",
      "3    2173\n",
      "Name: institutional_characteristics.level, dtype: int64\n",
      "instructional_expenditure_per_fte value counts\n",
      "4273.0     6\n",
      "3652.0     5\n",
      "3886.0     5\n",
      "7365.0     5\n",
      "5103.0     5\n",
      "2963.0     5\n",
      "5111.0     5\n",
      "5962.0     5\n",
      "8207.0     5\n",
      "3929.0     5\n",
      "4627.0     5\n",
      "2638.0     5\n",
      "5199.0     5\n",
      "2854.0     4\n",
      "4572.0     4\n",
      "3472.0     4\n",
      "6356.0     4\n",
      "5342.0     4\n",
      "7851.0     4\n",
      "3829.0     4\n",
      "3101.0     4\n",
      "4815.0     4\n",
      "6080.0     4\n",
      "5047.0     4\n",
      "2281.0     4\n",
      "4010.0     4\n",
      "9026.0     4\n",
      "4923.0     4\n",
      "8297.0     4\n",
      "3770.0     4\n",
      "          ..\n",
      "6304.0     1\n",
      "1776.0     1\n",
      "2036.0     1\n",
      "604.0      1\n",
      "8099.0     1\n",
      "21921.0    1\n",
      "10508.0    1\n",
      "2469.0     1\n",
      "5591.0     1\n",
      "12860.0    1\n",
      "3281.0     1\n",
      "4912.0     1\n",
      "1694.0     1\n",
      "2203.0     1\n",
      "9614.0     1\n",
      "5097.0     1\n",
      "2097.0     1\n",
      "11708.0    1\n",
      "8103.0     1\n",
      "4362.0     1\n",
      "10380.0    1\n",
      "5469.0     1\n",
      "4288.0     1\n",
      "16162.0    1\n",
      "10909.0    1\n",
      "1352.0     1\n",
      "1276.0     1\n",
      "11392.0    1\n",
      "972.0      1\n",
      "720.0      1\n",
      "Name: instructional_expenditure_per_fte, Length: 5446, dtype: int64\n",
      "locale value counts\n",
      " 21.0    1938\n",
      " 11.0    1657\n",
      " 13.0     984\n",
      " 12.0     868\n",
      " 32.0     454\n",
      " 41.0     381\n",
      " 33.0     340\n",
      " 22.0     213\n",
      " 23.0     140\n",
      " 31.0     123\n",
      " 42.0     119\n",
      " 43.0      62\n",
      "-3.0        3\n",
      "Name: locale, dtype: int64\n",
      "main_campus value counts\n",
      "1    5685\n",
      "0    2018\n",
      "Name: main_campus, dtype: int64\n",
      "men_only value counts\n",
      "0.0    7216\n",
      "1.0      66\n",
      "Name: men_only, dtype: int64\n",
      "minority_serving.aanipi value counts\n",
      "0.0    7151\n",
      "1.0     131\n",
      "Name: minority_serving.aanipi, dtype: int64\n",
      "minority_serving.annh value counts\n",
      "0.0    7246\n",
      "1.0      36\n",
      "Name: minority_serving.annh, dtype: int64\n",
      "minority_serving.hispanic value counts\n",
      "0.0    6928\n",
      "1.0     354\n",
      "Name: minority_serving.hispanic, dtype: int64\n",
      "minority_serving.historically_black value counts\n",
      "0.0    7178\n",
      "1.0     104\n",
      "Name: minority_serving.historically_black, dtype: int64\n",
      "minority_serving.nant value counts\n",
      "0.0    7249\n",
      "1.0      33\n",
      "Name: minority_serving.nant, dtype: int64\n",
      "minority_serving.predominantly_black value counts\n",
      "0.0    7187\n",
      "1.0      95\n",
      "Name: minority_serving.predominantly_black, dtype: int64\n",
      "minority_serving.tribal value counts\n",
      "0.0    7248\n",
      "1.0      34\n",
      "Name: minority_serving.tribal, dtype: int64\n",
      "name value counts\n",
      "UEI College                                          8\n",
      "McCann School of Business & Technology               7\n",
      "Stevens-Henager College                              7\n",
      "Columbia College                                     5\n",
      "Bryan University                                     5\n",
      "Wentworth Institute of Technology                    4\n",
      "Academy of Cosmetology                               4\n",
      "Unitek College                                       4\n",
      "Western Technical College                            3\n",
      "Cannella School of Hair Design-Chicago               3\n",
      "CC's Cosmetology College                             3\n",
      "Professional Hands Institute                         3\n",
      "Interactive College of Technology                    3\n",
      "Westminster College                                  3\n",
      "Union College                                        3\n",
      "Vista College                                        3\n",
      "Southwestern College                                 3\n",
      "Finger Lakes School of Massage                       3\n",
      "Cambridge Institute of Allied Health & Technology    3\n",
      "Westech College                                      3\n",
      "National Beauty College                              3\n",
      "Lincoln University                                   3\n",
      "ITT Technical Institute-Madison                      3\n",
      "Park West Barber School                              3\n",
      "Marian University                                    3\n",
      "Jenny Lea Academy of Cosmetology                     3\n",
      "ITT Technical Institute-Springfield                  3\n",
      "Wheaton College                                      2\n",
      "Aquinas College                                      2\n",
      "Institute of Technology Inc                          2\n",
      "                                                    ..\n",
      "Eastwick College-Ramsey                              1\n",
      "Dakota Wesleyan University                           1\n",
      "Germanna Community College                           1\n",
      "Millikin University                                  1\n",
      "Brown Mackie College-Salina                          1\n",
      "M State - Detroit Lakes Campus                       1\n",
      "Academy for Jewish Religion-California               1\n",
      "The Salon Professional Academy-Nashville             1\n",
      "Miami University-Hamilton                            1\n",
      "Arnolds Beauty School                                1\n",
      "North-West College-Long Beach                        1\n",
      "Georgia State University                             1\n",
      "Tennessee Career Institute                           1\n",
      "Oglala Lakota College                                1\n",
      "Career Training Academy-Lower Burrell                1\n",
      "City Colleges of Chicago-Olive-Harvey College        1\n",
      "Oceanside College of Beauty                          1\n",
      "Lancaster School of Cosmetology                      1\n",
      "Beau Monde College of Hair Design                    1\n",
      "Herzing University-Atlanta                           1\n",
      "Hollywood Cosmetology Center                         1\n",
      "Tidewater Community College                          1\n",
      "American College of Hairstyling-Des Moines           1\n",
      "Hutchinson Community College                         1\n",
      "The Salon Professional Academy-Onalaska              1\n",
      "Harrison College-Indianapolis East                   1\n",
      "Assemblies of God Theological Seminary               1\n",
      "Harrison College-Grove City                          1\n",
      "Wartburg College                                     1\n",
      "Everest Institute-Greenspoint                        1\n",
      "Name: name, Length: 7535, dtype: int64\n",
      "online_only value counts\n",
      "0.0    7242\n",
      "1.0      40\n",
      "Name: online_only, dtype: int64\n",
      "operating value counts\n",
      "1    6893\n",
      "0     810\n",
      "Name: operating, dtype: int64\n",
      "ownership value counts\n",
      "3    3703\n",
      "1    2044\n",
      "2    1956\n",
      "Name: ownership, dtype: int64\n",
      "region_id value counts\n",
      "5    1890\n",
      "2    1182\n",
      "3    1147\n",
      "8    1099\n",
      "6     821\n",
      "4     663\n",
      "1     442\n",
      "7     297\n",
      "9     161\n",
      "0       1\n",
      "Name: region_id, dtype: int64\n",
      "religious_affiliation value counts\n",
      "-2.0      6199\n",
      " 30.0      251\n",
      " 71.0       94\n",
      " 54.0       65\n",
      " 66.0       56\n",
      " 42.0       37\n",
      " 80.0       36\n",
      " 39.0       31\n",
      " 79.0       24\n",
      " 75.0       23\n",
      " 88.0       20\n",
      " 48.0       19\n",
      " 52.0       18\n",
      " 61.0       17\n",
      " 74.0       17\n",
      " 95.0       14\n",
      " 76.0       14\n",
      " 27.0       14\n",
      " 99.0       12\n",
      " 68.0       11\n",
      " 59.0       10\n",
      " 57.0       10\n",
      " 73.0        8\n",
      " 65.0        7\n",
      " 78.0        6\n",
      " 89.0        6\n",
      " 69.0        6\n",
      " 58.0        6\n",
      " 51.0        6\n",
      " 49.0        5\n",
      "          ... \n",
      " 55.0        4\n",
      " 34.0        4\n",
      " 94.0        4\n",
      " 24.0        3\n",
      " 41.0        3\n",
      " 28.0        3\n",
      " 35.0        3\n",
      " 67.0        3\n",
      " 81.0        3\n",
      " 84.0        2\n",
      " 37.0        2\n",
      " 93.0        2\n",
      " 33.0        2\n",
      " 38.0        2\n",
      " 103.0       2\n",
      " 97.0        2\n",
      " 43.0        2\n",
      " 47.0        2\n",
      " 44.0        2\n",
      " 60.0        2\n",
      " 87.0        1\n",
      " 22.0        1\n",
      " 91.0        1\n",
      " 100.0       1\n",
      " 105.0       1\n",
      " 50.0        1\n",
      " 92.0        1\n",
      " 102.0       1\n",
      " 36.0        1\n",
      " 45.0        1\n",
      "Name: religious_affiliation, Length: 61, dtype: int64\n",
      "state value counts\n",
      "CA    795\n",
      "TX    485\n",
      "NY    467\n",
      "FL    446\n",
      "PA    405\n",
      "OH    355\n",
      "IL    305\n",
      "NC    210\n",
      "MI    209\n",
      "MA    200\n",
      "MO    200\n",
      "VA    190\n",
      "GA    186\n",
      "TN    186\n",
      "NJ    165\n",
      "IN    162\n",
      "MN    157\n",
      "PR    151\n",
      "OK    150\n",
      "AZ    134\n",
      "CO    129\n",
      "WA    127\n",
      "LA    124\n",
      "WI    116\n",
      "SC    113\n",
      "KY    110\n",
      "KS    103\n",
      "CT    102\n",
      "MD    101\n",
      "AL     97\n",
      "OR     95\n",
      "IA     92\n",
      "AR     89\n",
      "UT     83\n",
      "WV     74\n",
      "MS     65\n",
      "NM     52\n",
      "NE     50\n",
      "NV     46\n",
      "ME     44\n",
      "NH     42\n",
      "ID     42\n",
      "MT     32\n",
      "SD     31\n",
      "ND     30\n",
      "VT     28\n",
      "HI     26\n",
      "RI     26\n",
      "DC     26\n",
      "DE     19\n",
      "WY     11\n",
      "AK     10\n",
      "GU      3\n",
      "VI      2\n",
      "MH      1\n",
      "MP      1\n",
      "PW      1\n",
      "AS      1\n",
      "FM      1\n",
      "Name: state, dtype: int64\n",
      "state_fips value counts\n",
      "6     795\n",
      "48    485\n",
      "36    467\n",
      "12    446\n",
      "42    405\n",
      "39    355\n",
      "17    305\n",
      "37    210\n",
      "26    209\n",
      "25    200\n",
      "29    200\n",
      "51    190\n",
      "47    186\n",
      "13    186\n",
      "34    165\n",
      "18    162\n",
      "27    157\n",
      "72    151\n",
      "40    150\n",
      "4     134\n",
      "8     129\n",
      "53    127\n",
      "22    124\n",
      "55    116\n",
      "45    113\n",
      "21    110\n",
      "20    103\n",
      "9     102\n",
      "24    101\n",
      "1      97\n",
      "41     95\n",
      "19     92\n",
      "5      89\n",
      "49     83\n",
      "54     74\n",
      "28     65\n",
      "35     52\n",
      "31     50\n",
      "32     46\n",
      "23     44\n",
      "33     42\n",
      "16     42\n",
      "30     32\n",
      "46     31\n",
      "38     30\n",
      "50     28\n",
      "11     26\n",
      "15     26\n",
      "44     26\n",
      "10     19\n",
      "56     11\n",
      "2      10\n",
      "66      3\n",
      "78      2\n",
      "60      1\n",
      "64      1\n",
      "69      1\n",
      "68      1\n",
      "70      1\n",
      "Name: state_fips, dtype: int64\n",
      "tuition_revenue_per_fte value counts\n",
      "0.0        8\n",
      "7383.0     5\n",
      "10081.0    5\n",
      "7985.0     4\n",
      "11544.0    4\n",
      "11161.0    4\n",
      "4733.0     4\n",
      "9557.0     4\n",
      "12525.0    4\n",
      "18787.0    4\n",
      "8413.0     4\n",
      "796.0      4\n",
      "1854.0     4\n",
      "8053.0     4\n",
      "7949.0     4\n",
      "12993.0    4\n",
      "7274.0     3\n",
      "9441.0     3\n",
      "2325.0     3\n",
      "9576.0     3\n",
      "1568.0     3\n",
      "5813.0     3\n",
      "2121.0     3\n",
      "9581.0     3\n",
      "9515.0     3\n",
      "11902.0    3\n",
      "10857.0    3\n",
      "10084.0    3\n",
      "18030.0    3\n",
      "9794.0     3\n",
      "          ..\n",
      "11699.0    1\n",
      "14998.0    1\n",
      "11891.0    1\n",
      "15950.0    1\n",
      "14967.0    1\n",
      "21395.0    1\n",
      "2683.0     1\n",
      "1100.0     1\n",
      "11108.0    1\n",
      "6069.0     1\n",
      "28464.0    1\n",
      "18485.0    1\n",
      "13411.0    1\n",
      "4107.0     1\n",
      "15303.0    1\n",
      "5288.0     1\n",
      "4655.0     1\n",
      "11077.0    1\n",
      "7917.0     1\n",
      "9077.0     1\n",
      "14281.0    1\n",
      "11777.0    1\n",
      "11272.0    1\n",
      "3893.0     1\n",
      "8664.0     1\n",
      "7171.0     1\n",
      "1261.0     1\n",
      "2799.0     1\n",
      "6044.0     1\n",
      "17398.0    1\n",
      "Name: tuition_revenue_per_fte, Length: 6162, dtype: int64\n",
      "under_investigation value counts\n",
      "0    7467\n",
      "1     236\n",
      "Name: under_investigation, dtype: int64\n",
      "women_only value counts\n",
      "0.0    7243\n",
      "1.0      39\n",
      "Name: women_only, dtype: int64\n",
      "accredited value counts\n",
      "1    6805\n",
      "0     898\n",
      "Name: accredited, dtype: int64\n",
      "locale_recode value counts\n",
      "1    3509\n",
      "2    2291\n",
      "0     986\n",
      "3     917\n",
      "Name: locale_recode, dtype: int64\n",
      "religion_recode value counts\n",
      "0    6793\n",
      "1     910\n",
      "Name: religion_recode, dtype: int64\n"
     ]
    }
   ],
   "source": [
    "for column in school_df.columns:\n",
    "    print(column+\" value counts\")\n",
    "    print(school_df[column].value_counts())"
   ]
  },
  {
   "cell_type": "markdown",
   "metadata": {},
   "source": [
    "### Recode gender-specific schools"
   ]
  },
  {
   "cell_type": "code",
   "execution_count": 230,
   "metadata": {
    "collapsed": true
   },
   "outputs": [],
   "source": [
    "school_df['gender_specific'] = np.nan_to_num((school_df.men_only + school_df.women_only).values)"
   ]
  },
  {
   "cell_type": "code",
   "execution_count": 231,
   "metadata": {},
   "outputs": [
    {
     "data": {
      "text/plain": [
       "0.0    7598\n",
       "1.0     105\n",
       "Name: gender_specific, dtype: int64"
      ]
     },
     "execution_count": 231,
     "metadata": {},
     "output_type": "execute_result"
    }
   ],
   "source": [
    "school_df.gender_specific.value_counts()"
   ]
  },
  {
   "cell_type": "markdown",
   "metadata": {},
   "source": [
    "### Recode minority-serving schools"
   ]
  },
  {
   "cell_type": "code",
   "execution_count": 232,
   "metadata": {
    "collapsed": true
   },
   "outputs": [],
   "source": [
    "minority_specific = np.nan_to_num((school_df['minority_serving.aanipi'] +\\\n",
    "                        school_df['minority_serving.annh'] +\\\n",
    "                        school_df['minority_serving.hispanic'] +\\\n",
    "                        school_df['minority_serving.historically_black'] +\\\n",
    "                        school_df['minority_serving.nant'] +\\\n",
    "                        school_df['minority_serving.predominantly_black'] +\\\n",
    "                        school_df['minority_serving.tribal']).values)"
   ]
  },
  {
   "cell_type": "code",
   "execution_count": 233,
   "metadata": {},
   "outputs": [],
   "source": [
    "minority_specific = (minority_specific > 0).astype(int)"
   ]
  },
  {
   "cell_type": "code",
   "execution_count": 234,
   "metadata": {
    "collapsed": true
   },
   "outputs": [],
   "source": [
    "school_df['minority_specific'] = minority_specific"
   ]
  },
  {
   "cell_type": "markdown",
   "metadata": {},
   "source": [
    "### Recode for-profit vs. non-profit (private or public) for initial classification"
   ]
  },
  {
   "cell_type": "code",
   "execution_count": 247,
   "metadata": {},
   "outputs": [],
   "source": [
    "school_df['for_profit'] = (school_df.ownership == 3).astype(int)"
   ]
  },
  {
   "cell_type": "code",
   "execution_count": 250,
   "metadata": {},
   "outputs": [
    {
     "data": {
      "text/plain": [
       "0    4000\n",
       "1    3703\n",
       "Name: for_profit, dtype: int64"
      ]
     },
     "execution_count": 250,
     "metadata": {},
     "output_type": "execute_result"
    }
   ],
   "source": [
    "school_df.for_profit.value_counts()"
   ]
  },
  {
   "cell_type": "code",
   "execution_count": 251,
   "metadata": {},
   "outputs": [
    {
     "name": "stdout",
     "output_type": "stream",
     "text": [
      "<class 'pandas.core.frame.DataFrame'>\n",
      "RangeIndex: 7703 entries, 0 to 7702\n",
      "Data columns (total 36 columns):\n",
      "id                                      7703 non-null int64\n",
      "location.lat                            7703 non-null float64\n",
      "location.lon                            7703 non-null float64\n",
      "accreditor                              6805 non-null object\n",
      "branches                                7703 non-null int64\n",
      "city                                    7703 non-null object\n",
      "degrees_awarded.highest                 7703 non-null int64\n",
      "degrees_awarded.predominant             7703 non-null int64\n",
      "institutional_characteristics.level     7703 non-null int64\n",
      "instructional_expenditure_per_fte       7270 non-null float64\n",
      "locale                                  7282 non-null float64\n",
      "main_campus                             7703 non-null int64\n",
      "men_only                                7282 non-null float64\n",
      "minority_serving.aanipi                 7282 non-null float64\n",
      "minority_serving.annh                   7282 non-null float64\n",
      "minority_serving.hispanic               7282 non-null float64\n",
      "minority_serving.historically_black     7282 non-null float64\n",
      "minority_serving.nant                   7282 non-null float64\n",
      "minority_serving.predominantly_black    7282 non-null float64\n",
      "minority_serving.tribal                 7282 non-null float64\n",
      "name                                    7703 non-null object\n",
      "operating                               7703 non-null int64\n",
      "ownership                               7703 non-null int64\n",
      "region_id                               7703 non-null int64\n",
      "religious_affiliation                   7109 non-null float64\n",
      "state                                   7703 non-null object\n",
      "state_fips                              7703 non-null int64\n",
      "tuition_revenue_per_fte                 7270 non-null float64\n",
      "under_investigation                     7703 non-null int64\n",
      "women_only                              7282 non-null float64\n",
      "accredited                              7703 non-null int64\n",
      "locale_recode                           7703 non-null int64\n",
      "religion_recode                         7703 non-null int64\n",
      "gender_specific                         7703 non-null float64\n",
      "minority_specific                       7703 non-null int64\n",
      "for_profit                              7703 non-null int64\n",
      "dtypes: float64(16), int64(16), object(4)\n",
      "memory usage: 2.1+ MB\n"
     ]
    }
   ],
   "source": [
    "school_df.info()"
   ]
  },
  {
   "cell_type": "markdown",
   "metadata": {},
   "source": [
    "### Pare down to relevant columns and remove nulls"
   ]
  },
  {
   "cell_type": "code",
   "execution_count": 253,
   "metadata": {},
   "outputs": [],
   "source": [
    "cleaned_school_df = school_df.drop(['accreditor', 'locale', 'men_only',\n",
    "                                    'minority_serving.aanipi', 'minority_serving.annh',\n",
    "                                    'minority_serving.hispanic', 'minority_serving.historically_black',\n",
    "                                    'minority_serving.nant', 'minority_serving.predominantly_black',\n",
    "                                    'minority_serving.tribal', 'religious_affiliation', 'state', \n",
    "                                    'state_fips','women_only'], axis = 1)"
   ]
  },
  {
   "cell_type": "code",
   "execution_count": 256,
   "metadata": {},
   "outputs": [],
   "source": [
    "cleaned_school_df = cleaned_school_df.loc[cleaned_school_df.tuition_revenue_per_fte.notnull()]"
   ]
  },
  {
   "cell_type": "code",
   "execution_count": 257,
   "metadata": {},
   "outputs": [
    {
     "name": "stdout",
     "output_type": "stream",
     "text": [
      "<class 'pandas.core.frame.DataFrame'>\n",
      "Int64Index: 7270 entries, 0 to 7702\n",
      "Data columns (total 22 columns):\n",
      "id                                     7270 non-null int64\n",
      "location.lat                           7270 non-null float64\n",
      "location.lon                           7270 non-null float64\n",
      "branches                               7270 non-null int64\n",
      "city                                   7270 non-null object\n",
      "degrees_awarded.highest                7270 non-null int64\n",
      "degrees_awarded.predominant            7270 non-null int64\n",
      "institutional_characteristics.level    7270 non-null int64\n",
      "instructional_expenditure_per_fte      7270 non-null float64\n",
      "main_campus                            7270 non-null int64\n",
      "name                                   7270 non-null object\n",
      "operating                              7270 non-null int64\n",
      "ownership                              7270 non-null int64\n",
      "region_id                              7270 non-null int64\n",
      "tuition_revenue_per_fte                7270 non-null float64\n",
      "under_investigation                    7270 non-null int64\n",
      "accredited                             7270 non-null int64\n",
      "locale_recode                          7270 non-null int64\n",
      "religion_recode                        7270 non-null int64\n",
      "gender_specific                        7270 non-null float64\n",
      "minority_specific                      7270 non-null int64\n",
      "for_profit                             7270 non-null int64\n",
      "dtypes: float64(5), int64(15), object(2)\n",
      "memory usage: 1.3+ MB\n"
     ]
    }
   ],
   "source": [
    "cleaned_school_df.info()"
   ]
  },
  {
   "cell_type": "markdown",
   "metadata": {},
   "source": [
    "## Select columns for classification\n"
   ]
  },
  {
   "cell_type": "code",
   "execution_count": 259,
   "metadata": {},
   "outputs": [],
   "source": [
    "X = cleaned_school_df.drop(['id', 'city', 'name', 'ownership', 'region_id', 'for_profit'], axis = 1)\n",
    "y = cleaned_school_df.for_profit"
   ]
  },
  {
   "cell_type": "code",
   "execution_count": 262,
   "metadata": {
    "scrolled": false
   },
   "outputs": [],
   "source": [
    "X_train, X_test, y_train, y_test = train_test_split(X, y, random_state=42, test_size=0.2)"
   ]
  },
  {
   "cell_type": "code",
   "execution_count": 263,
   "metadata": {
    "collapsed": true
   },
   "outputs": [],
   "source": [
    "log_model = LogisticRegression(penalty='l1')"
   ]
  },
  {
   "cell_type": "code",
   "execution_count": 264,
   "metadata": {},
   "outputs": [
    {
     "data": {
      "text/plain": [
       "LogisticRegression(C=1.0, class_weight=None, dual=False, fit_intercept=True,\n",
       "          intercept_scaling=1, max_iter=100, multi_class='ovr', n_jobs=1,\n",
       "          penalty='l1', random_state=None, solver='liblinear', tol=0.0001,\n",
       "          verbose=0, warm_start=False)"
      ]
     },
     "execution_count": 264,
     "metadata": {},
     "output_type": "execute_result"
    }
   ],
   "source": [
    "log_model.fit(X_train, y_train)"
   ]
  },
  {
   "cell_type": "code",
   "execution_count": 269,
   "metadata": {},
   "outputs": [],
   "source": [
    "pred_ownership = log_model.predict(X_test)"
   ]
  },
  {
   "cell_type": "code",
   "execution_count": 270,
   "metadata": {},
   "outputs": [
    {
     "data": {
      "text/plain": [
       "0.91746905089408526"
      ]
     },
     "execution_count": 270,
     "metadata": {},
     "output_type": "execute_result"
    }
   ],
   "source": [
    "accuracy_score(y_test, pred_ownership)"
   ]
  },
  {
   "cell_type": "code",
   "execution_count": 272,
   "metadata": {},
   "outputs": [
    {
     "data": {
      "text/plain": [
       "0.89914772727272729"
      ]
     },
     "execution_count": 272,
     "metadata": {},
     "output_type": "execute_result"
    }
   ],
   "source": [
    "precision_score(y_test, pred_ownership)"
   ]
  },
  {
   "cell_type": "code",
   "execution_count": 273,
   "metadata": {},
   "outputs": [
    {
     "data": {
      "text/plain": [
       "0.92815249266862165"
      ]
     },
     "execution_count": 273,
     "metadata": {},
     "output_type": "execute_result"
    }
   ],
   "source": [
    "recall_score(y_test, pred_ownership)"
   ]
  },
  {
   "cell_type": "code",
   "execution_count": 274,
   "metadata": {},
   "outputs": [
    {
     "data": {
      "text/plain": [
       "0.91341991341991347"
      ]
     },
     "execution_count": 274,
     "metadata": {},
     "output_type": "execute_result"
    }
   ],
   "source": [
    "f1_score(y_test, pred_ownership)"
   ]
  },
  {
   "cell_type": "code",
   "execution_count": 276,
   "metadata": {},
   "outputs": [
    {
     "data": {
      "text/plain": [
       "[('location.lat', -0.056715394249809988),\n",
       " ('location.lon', -0.018223139969331177),\n",
       " ('branches', 0.10757523176757297),\n",
       " ('degrees_awarded.highest', -0.45152923649317228),\n",
       " ('degrees_awarded.predominant', -0.99718814418267798),\n",
       " ('institutional_characteristics.level', 0.6739526444619196),\n",
       " ('instructional_expenditure_per_fte', -0.00037524157493103427),\n",
       " ('main_campus', -0.57040602366387405),\n",
       " ('operating', -2.3910830362947517),\n",
       " ('tuition_revenue_per_fte', 0.00027740487284229592),\n",
       " ('under_investigation', 1.2372291616364712),\n",
       " ('accredited', 0.91363119510898316),\n",
       " ('locale_recode', 0.063109823159900727),\n",
       " ('religion_recode', -5.5769982494035464),\n",
       " ('gender_specific', -0.13043050134489137),\n",
       " ('minority_specific', -5.948137078137365)]"
      ]
     },
     "execution_count": 276,
     "metadata": {},
     "output_type": "execute_result"
    }
   ],
   "source": [
    "list(zip(X.columns, log_model.coef_[0]))"
   ]
  },
  {
   "cell_type": "code",
   "execution_count": null,
   "metadata": {
    "collapsed": true
   },
   "outputs": [],
   "source": []
  }
 ],
 "metadata": {
  "kernelspec": {
   "display_name": "Python 3",
   "language": "python",
   "name": "python3"
  },
  "language_info": {
   "codemirror_mode": {
    "name": "ipython",
    "version": 3
   },
   "file_extension": ".py",
   "mimetype": "text/x-python",
   "name": "python",
   "nbconvert_exporter": "python",
   "pygments_lexer": "ipython3",
   "version": "3.6.1"
  }
 },
 "nbformat": 4,
 "nbformat_minor": 2
}
