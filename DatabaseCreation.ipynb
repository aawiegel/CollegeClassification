{
 "cells": [
  {
   "cell_type": "code",
   "execution_count": 214,
   "metadata": {
    "collapsed": true
   },
   "outputs": [],
   "source": [
    "from sqlalchemy import create_engine\n",
    "import os\n",
    "import time\n",
    "import requests\n",
    "import numpy as np\n",
    "import pandas as pd\n",
    "import matplotlib.pyplot as plt\n",
    "import seaborn as sns\n",
    "\n",
    "# Load API key for data.gov\n",
    "\n",
    "with open('data_gov_api.txt', 'r') as file:\n",
    "    api_key = file.read().split('\\n')[0] # Remove new line\n",
    "\n"
   ]
  },
  {
   "cell_type": "markdown",
   "metadata": {},
   "source": [
    "## Helper functions"
   ]
  },
  {
   "cell_type": "code",
   "execution_count": 2,
   "metadata": {
    "collapsed": true
   },
   "outputs": [],
   "source": [
    "def find_max_string_length(pd_series):\n",
    "    \"\"\"\n",
    "    For string column in pandas Series, find the maximum length of thes string\n",
    "    \"\"\"\n",
    "    return pd_series.map(lambda x: len(str(x))).max()"
   ]
  },
  {
   "cell_type": "markdown",
   "metadata": {},
   "source": [
    "## Download College Scorecard Data Dictionary"
   ]
  },
  {
   "cell_type": "code",
   "execution_count": 100,
   "metadata": {
    "collapsed": true
   },
   "outputs": [],
   "source": [
    "data_dir = os.path.join(os.path.curdir, \"data\")\n",
    "if not os.path.exists(data_dir):\n",
    "    os.makedirs(data_dir)\n",
    "\n",
    "data_dict_url = \"https://collegescorecard.ed.gov/assets/CollegeScorecardDataDictionary.xlsx\"\n",
    "\n",
    "data_dict_file = data_dict_url.split('/')[-1]\n",
    "\n",
    "data_dict_path = os.path.join(data_dir, data_dict_file)\n",
    "\n",
    "if not os.path.exists(data_dict_path):\n",
    "    req = requests.get(data_dict_url)\n",
    "    \n",
    "    with open(data_dict_path, 'wb') as file:\n",
    "        file.write(req.content)\n"
   ]
  },
  {
   "cell_type": "markdown",
   "metadata": {},
   "source": [
    "## Load into memory and create table to define variables"
   ]
  },
  {
   "cell_type": "code",
   "execution_count": 101,
   "metadata": {
    "collapsed": true
   },
   "outputs": [],
   "source": [
    "sc_data_dict = pd.read_excel(data_dict_path, sheetname='data_dictionary')"
   ]
  },
  {
   "cell_type": "code",
   "execution_count": 102,
   "metadata": {
    "scrolled": false
   },
   "outputs": [
    {
     "data": {
      "text/plain": [
       "NAME OF DATA ELEMENT       Percentage of degrees awarded in Architecture ...\n",
       "dev-category                                                       academics\n",
       "developer-friendly name                      program_percentage.architecture\n",
       "API data type                                                          float\n",
       "VARIABLE NAME                                                         PCIP04\n",
       "VALUE                                                                    NaN\n",
       "LABEL                                      Architecture and Related Services\n",
       "SOURCE                                                                 IPEDS\n",
       "NOTES                                        Shown/used on consumer website.\n",
       "Name: 300, dtype: object"
      ]
     },
     "execution_count": 102,
     "metadata": {},
     "output_type": "execute_result"
    }
   ],
   "source": [
    "sc_data_dict.iloc[300]"
   ]
  },
  {
   "cell_type": "code",
   "execution_count": 103,
   "metadata": {},
   "outputs": [
    {
     "data": {
      "text/html": [
       "<div>\n",
       "<style>\n",
       "    .dataframe thead tr:only-child th {\n",
       "        text-align: right;\n",
       "    }\n",
       "\n",
       "    .dataframe thead th {\n",
       "        text-align: left;\n",
       "    }\n",
       "\n",
       "    .dataframe tbody tr th {\n",
       "        vertical-align: top;\n",
       "    }\n",
       "</style>\n",
       "<table border=\"1\" class=\"dataframe\">\n",
       "  <thead>\n",
       "    <tr style=\"text-align: right;\">\n",
       "      <th></th>\n",
       "      <th>NAME OF DATA ELEMENT</th>\n",
       "      <th>dev-category</th>\n",
       "      <th>developer-friendly name</th>\n",
       "      <th>API data type</th>\n",
       "      <th>VARIABLE NAME</th>\n",
       "      <th>VALUE</th>\n",
       "      <th>LABEL</th>\n",
       "      <th>SOURCE</th>\n",
       "      <th>NOTES</th>\n",
       "    </tr>\n",
       "  </thead>\n",
       "  <tbody>\n",
       "    <tr>\n",
       "      <th>25</th>\n",
       "      <td>Control of institution</td>\n",
       "      <td>school</td>\n",
       "      <td>ownership</td>\n",
       "      <td>integer</td>\n",
       "      <td>CONTROL</td>\n",
       "      <td>1.0</td>\n",
       "      <td>Public</td>\n",
       "      <td>IPEDS</td>\n",
       "      <td>Shown/used on consumer website.</td>\n",
       "    </tr>\n",
       "    <tr>\n",
       "      <th>26</th>\n",
       "      <td>NaN</td>\n",
       "      <td>school</td>\n",
       "      <td>NaN</td>\n",
       "      <td>NaN</td>\n",
       "      <td>NaN</td>\n",
       "      <td>2.0</td>\n",
       "      <td>Private nonprofit</td>\n",
       "      <td>NaN</td>\n",
       "      <td>NaN</td>\n",
       "    </tr>\n",
       "    <tr>\n",
       "      <th>27</th>\n",
       "      <td>NaN</td>\n",
       "      <td>school</td>\n",
       "      <td>NaN</td>\n",
       "      <td>NaN</td>\n",
       "      <td>NaN</td>\n",
       "      <td>3.0</td>\n",
       "      <td>Private for-profit</td>\n",
       "      <td>NaN</td>\n",
       "      <td>NaN</td>\n",
       "    </tr>\n",
       "  </tbody>\n",
       "</table>\n",
       "</div>"
      ],
      "text/plain": [
       "      NAME OF DATA ELEMENT dev-category developer-friendly name API data type  \\\n",
       "25  Control of institution       school               ownership       integer   \n",
       "26                     NaN       school                     NaN           NaN   \n",
       "27                     NaN       school                     NaN           NaN   \n",
       "\n",
       "   VARIABLE NAME  VALUE               LABEL SOURCE  \\\n",
       "25       CONTROL    1.0              Public  IPEDS   \n",
       "26           NaN    2.0   Private nonprofit    NaN   \n",
       "27           NaN    3.0  Private for-profit    NaN   \n",
       "\n",
       "                              NOTES  \n",
       "25  Shown/used on consumer website.  \n",
       "26                              NaN  \n",
       "27                              NaN  "
      ]
     },
     "execution_count": 103,
     "metadata": {},
     "output_type": "execute_result"
    }
   ],
   "source": [
    "sc_data_dict.iloc[25:28, :]"
   ]
  },
  {
   "cell_type": "code",
   "execution_count": null,
   "metadata": {
    "collapsed": true
   },
   "outputs": [],
   "source": []
  },
  {
   "cell_type": "code",
   "execution_count": 104,
   "metadata": {
    "collapsed": true
   },
   "outputs": [],
   "source": [
    "sc_data_dict_nv = sc_data_dict.drop(['VALUE', 'LABEL'], axis = 1)"
   ]
  },
  {
   "cell_type": "code",
   "execution_count": 105,
   "metadata": {
    "collapsed": true
   },
   "outputs": [],
   "source": [
    "sc_data_dict_nv.columns = ['Name', 'DevCategory', 'DeveloperName', 'DataType', 'VarName', 'Source', 'Notes']"
   ]
  },
  {
   "cell_type": "code",
   "execution_count": 106,
   "metadata": {
    "collapsed": true
   },
   "outputs": [],
   "source": [
    "sc_data_dict_nv = sc_data_dict_nv[sc_data_dict_nv['Name'].notnull()]"
   ]
  },
  {
   "cell_type": "code",
   "execution_count": 107,
   "metadata": {},
   "outputs": [
    {
     "name": "stdout",
     "output_type": "stream",
     "text": [
      "<class 'pandas.core.frame.DataFrame'>\n",
      "Int64Index: 1734 entries, 0 to 1974\n",
      "Data columns (total 7 columns):\n",
      "Name             1734 non-null object\n",
      "DevCategory      1734 non-null object\n",
      "DeveloperName    1734 non-null object\n",
      "DataType         1734 non-null object\n",
      "VarName          1734 non-null object\n",
      "Source           1734 non-null object\n",
      "Notes            274 non-null object\n",
      "dtypes: object(7)\n",
      "memory usage: 108.4+ KB\n"
     ]
    }
   ],
   "source": [
    "sc_data_dict_nv.info()"
   ]
  },
  {
   "cell_type": "markdown",
   "metadata": {},
   "source": [
    "### Find maximum string length in each column so we can define SQL table"
   ]
  },
  {
   "cell_type": "code",
   "execution_count": 108,
   "metadata": {
    "collapsed": true
   },
   "outputs": [],
   "source": [
    "string_length_dict = dict()\n",
    "for column in sc_data_dict_nv.columns:\n",
    "    string_length_dict[column] = find_max_string_length(sc_data_dict_nv[column])"
   ]
  },
  {
   "cell_type": "code",
   "execution_count": 109,
   "metadata": {
    "collapsed": true
   },
   "outputs": [],
   "source": [
    "sc_data_dict_nv.to_csv('datadef.csv', index=False)"
   ]
  },
  {
   "cell_type": "code",
   "execution_count": 110,
   "metadata": {
    "collapsed": true
   },
   "outputs": [],
   "source": [
    "\n",
    "query = \"\"\"CREATE TABLE IF NOT EXISTS datadefinitions (\n",
    "\"\"\"\n",
    "for column, length in string_length_dict.items():\n",
    "    query += column + \" varchar(\"+str(length)+\") DEFAULT NULL,\\n\"\n",
    "    \n",
    "query += \"\"\"\n",
    "PRIMARY KEY (developername)\n",
    ");\"\"\""
   ]
  },
  {
   "cell_type": "code",
   "execution_count": 111,
   "metadata": {
    "collapsed": true
   },
   "outputs": [],
   "source": [
    "conn = create_engine('postgresql://ubuntu@52.53.236.232:5432/collegesc')"
   ]
  },
  {
   "cell_type": "code",
   "execution_count": 112,
   "metadata": {},
   "outputs": [
    {
     "data": {
      "text/plain": [
       "<sqlalchemy.engine.result.ResultProxy at 0x7f54e18d8358>"
      ]
     },
     "execution_count": 112,
     "metadata": {},
     "output_type": "execute_result"
    }
   ],
   "source": [
    "conn.execute(query)"
   ]
  },
  {
   "cell_type": "code",
   "execution_count": 130,
   "metadata": {},
   "outputs": [],
   "source": [
    "query2 = \"\"\"COPY datadefinitions FROM '/home/ubuntu/Notebooks/CollegeClassification/datadef.csv' DELIMITER ',' CSV HEADER;\"\"\""
   ]
  },
  {
   "cell_type": "code",
   "execution_count": 131,
   "metadata": {},
   "outputs": [
    {
     "data": {
      "text/plain": [
       "<sqlalchemy.engine.result.ResultProxy at 0x7f54e2e7eda0>"
      ]
     },
     "execution_count": 131,
     "metadata": {},
     "output_type": "execute_result"
    }
   ],
   "source": [
    "conn.execute(query2)"
   ]
  },
  {
   "cell_type": "code",
   "execution_count": null,
   "metadata": {},
   "outputs": [],
   "source": []
  },
  {
   "cell_type": "code",
   "execution_count": 132,
   "metadata": {
    "collapsed": true
   },
   "outputs": [],
   "source": [
    "query3 = \"\"\"SELECT * FROM datadefinitions;\"\"\""
   ]
  },
  {
   "cell_type": "code",
   "execution_count": 133,
   "metadata": {},
   "outputs": [],
   "source": [
    "data_definitions = pd.read_sql_query(query3, conn)"
   ]
  },
  {
   "cell_type": "markdown",
   "metadata": {},
   "source": [
    "## Use API to gather data for 2013"
   ]
  },
  {
   "cell_type": "code",
   "execution_count": 134,
   "metadata": {},
   "outputs": [
    {
     "data": {
      "text/plain": [
       "array(['root', 'school', 'admissions', 'academics', 'student', 'cost',\n",
       "       'completion', 'aid', 'repayment', 'earnings'], dtype=object)"
      ]
     },
     "execution_count": 134,
     "metadata": {},
     "output_type": "execute_result"
    }
   ],
   "source": [
    "data_definitions.devcategory.unique() # categories"
   ]
  },
  {
   "cell_type": "code",
   "execution_count": 135,
   "metadata": {
    "scrolled": false
   },
   "outputs": [
    {
     "data": {
      "text/html": [
       "<div>\n",
       "<style>\n",
       "    .dataframe thead tr:only-child th {\n",
       "        text-align: right;\n",
       "    }\n",
       "\n",
       "    .dataframe thead th {\n",
       "        text-align: left;\n",
       "    }\n",
       "\n",
       "    .dataframe tbody tr th {\n",
       "        vertical-align: top;\n",
       "    }\n",
       "</style>\n",
       "<table border=\"1\" class=\"dataframe\">\n",
       "  <thead>\n",
       "    <tr style=\"text-align: right;\">\n",
       "      <th></th>\n",
       "      <th>name</th>\n",
       "      <th>devcategory</th>\n",
       "      <th>developername</th>\n",
       "      <th>datatype</th>\n",
       "      <th>varname</th>\n",
       "      <th>source</th>\n",
       "      <th>notes</th>\n",
       "    </tr>\n",
       "  </thead>\n",
       "  <tbody>\n",
       "    <tr>\n",
       "      <th>1594</th>\n",
       "      <td>Count of students in the earnings cohort</td>\n",
       "      <td>earnings</td>\n",
       "      <td>student_count</td>\n",
       "      <td>integer</td>\n",
       "      <td>COUNT_ED</td>\n",
       "      <td>Treasury</td>\n",
       "      <td>None</td>\n",
       "    </tr>\n",
       "    <tr>\n",
       "      <th>1627</th>\n",
       "      <td>Number of students not working and not enrolle...</td>\n",
       "      <td>earnings</td>\n",
       "      <td>10_yrs_after_entry.not_working_not_enrolled.ov...</td>\n",
       "      <td>integer</td>\n",
       "      <td>COUNT_NWNE_P10</td>\n",
       "      <td>Treasury</td>\n",
       "      <td>None</td>\n",
       "    </tr>\n",
       "    <tr>\n",
       "      <th>1628</th>\n",
       "      <td>Number of students working and not enrolled 10...</td>\n",
       "      <td>earnings</td>\n",
       "      <td>10_yrs_after_entry.working_not_enrolled.overall</td>\n",
       "      <td>integer</td>\n",
       "      <td>COUNT_WNE_P10</td>\n",
       "      <td>Treasury</td>\n",
       "      <td>None</td>\n",
       "    </tr>\n",
       "    <tr>\n",
       "      <th>1629</th>\n",
       "      <td>Mean earnings of students working and not enro...</td>\n",
       "      <td>earnings</td>\n",
       "      <td>10_yrs_after_entry.working_not_enrolled.mean_e...</td>\n",
       "      <td>integer</td>\n",
       "      <td>MN_EARN_WNE_P10</td>\n",
       "      <td>Treasury</td>\n",
       "      <td>None</td>\n",
       "    </tr>\n",
       "    <tr>\n",
       "      <th>1630</th>\n",
       "      <td>Median earnings of students working and not en...</td>\n",
       "      <td>earnings</td>\n",
       "      <td>10_yrs_after_entry.median</td>\n",
       "      <td>integer</td>\n",
       "      <td>MD_EARN_WNE_P10</td>\n",
       "      <td>Treasury</td>\n",
       "      <td>Shown/used on consumer website.</td>\n",
       "    </tr>\n",
       "  </tbody>\n",
       "</table>\n",
       "</div>"
      ],
      "text/plain": [
       "                                                   name devcategory  \\\n",
       "1594           Count of students in the earnings cohort    earnings   \n",
       "1627  Number of students not working and not enrolle...    earnings   \n",
       "1628  Number of students working and not enrolled 10...    earnings   \n",
       "1629  Mean earnings of students working and not enro...    earnings   \n",
       "1630  Median earnings of students working and not en...    earnings   \n",
       "\n",
       "                                          developername datatype  \\\n",
       "1594                                      student_count  integer   \n",
       "1627  10_yrs_after_entry.not_working_not_enrolled.ov...  integer   \n",
       "1628    10_yrs_after_entry.working_not_enrolled.overall  integer   \n",
       "1629  10_yrs_after_entry.working_not_enrolled.mean_e...  integer   \n",
       "1630                          10_yrs_after_entry.median  integer   \n",
       "\n",
       "              varname    source                            notes  \n",
       "1594         COUNT_ED  Treasury                             None  \n",
       "1627   COUNT_NWNE_P10  Treasury                             None  \n",
       "1628    COUNT_WNE_P10  Treasury                             None  \n",
       "1629  MN_EARN_WNE_P10  Treasury                             None  \n",
       "1630  MD_EARN_WNE_P10  Treasury  Shown/used on consumer website.  "
      ]
     },
     "execution_count": 135,
     "metadata": {},
     "output_type": "execute_result"
    }
   ],
   "source": [
    "data_definitions[data_definitions.devcategory == 'earnings'].head()"
   ]
  },
  {
   "cell_type": "code",
   "execution_count": 56,
   "metadata": {},
   "outputs": [
    {
     "data": {
      "text/plain": [
       "['6_yrs_after_entry.not_working_not_enrolled.overall',\n",
       " '6_yrs_after_entry.working_not_enrolled.overall',\n",
       " '6_yrs_after_entry.working_not_enrolled.mean_earnings',\n",
       " '6_yrs_after_entry.median',\n",
       " '6_yrs_after_entry.working_not_enrolled.earnings_percentile.10',\n",
       " '6_yrs_after_entry.working_not_enrolled.earnings_percentile.25',\n",
       " '6_yrs_after_entry.working_not_enrolled.earnings_percentile.75',\n",
       " '6_yrs_after_entry.working_not_enrolled.earnings_percentile.90',\n",
       " '6_yrs_after_entry.working_not_enrolled.std_dev',\n",
       " '6_yrs_after_entry.working_not_enrolled.income.lowest_tercile',\n",
       " '6_yrs_after_entry.working_not_enrolled.income.middle_tercile',\n",
       " '6_yrs_after_entry.working_not_enrolled.income.highest_tercile',\n",
       " '6_yrs_after_entry.working_not_enrolled.dependent_students_lowest_tercile',\n",
       " '6_yrs_after_entry.working_not_enrolled.dependent_students',\n",
       " '6_yrs_after_entry.independent_students',\n",
       " '6_yrs_after_entry.female_students',\n",
       " '6_yrs_after_entry.male_students',\n",
       " '6_yrs_after_entry.percent_greater_than_25000',\n",
       " '6_yrs_after_entry.mean_earnings.lowest_tercile',\n",
       " '6_yrs_after_entry.mean_earnings.middle_tercile',\n",
       " '6_yrs_after_entry.mean_earnings.highest_tercile',\n",
       " '6_yrs_after_entry.mean_earnings.dependent_students_lowest_tercile',\n",
       " '6_yrs_after_entry.mean_earnings.dependent_students',\n",
       " '6_yrs_after_entry.mean_earnings.independent_students',\n",
       " '6_yrs_after_entry.mean_earnings.female_students',\n",
       " '6_yrs_after_entry.mean_earnings.male_students']"
      ]
     },
     "execution_count": 56,
     "metadata": {},
     "output_type": "execute_result"
    }
   ],
   "source": [
    "earnings_data = list(data_definitions[data_definitions.devcategory == 'earnings'].developername.values)[27:53]\n",
    "earnings_data"
   ]
  },
  {
   "cell_type": "code",
   "execution_count": 57,
   "metadata": {},
   "outputs": [
    {
     "data": {
      "text/plain": [
       "'6_yrs_after_entry.not_working_not_enrolled.overall,2013.earnings.6_yrs_after_entry.working_not_enrolled.overall,2013.earnings.6_yrs_after_entry.working_not_enrolled.mean_earnings,2013.earnings.6_yrs_after_entry.median,2013.earnings.6_yrs_after_entry.working_not_enrolled.earnings_percentile.10,2013.earnings.6_yrs_after_entry.working_not_enrolled.earnings_percentile.25,2013.earnings.6_yrs_after_entry.working_not_enrolled.earnings_percentile.75,2013.earnings.6_yrs_after_entry.working_not_enrolled.earnings_percentile.90,2013.earnings.6_yrs_after_entry.working_not_enrolled.std_dev,2013.earnings.6_yrs_after_entry.working_not_enrolled.income.lowest_tercile,2013.earnings.6_yrs_after_entry.working_not_enrolled.income.middle_tercile,2013.earnings.6_yrs_after_entry.working_not_enrolled.income.highest_tercile,2013.earnings.6_yrs_after_entry.working_not_enrolled.dependent_students_lowest_tercile,2013.earnings.6_yrs_after_entry.working_not_enrolled.dependent_students,2013.earnings.6_yrs_after_entry.independent_students,2013.earnings.6_yrs_after_entry.female_students,2013.earnings.6_yrs_after_entry.male_students,2013.earnings.6_yrs_after_entry.percent_greater_than_25000,2013.earnings.6_yrs_after_entry.mean_earnings.lowest_tercile,2013.earnings.6_yrs_after_entry.mean_earnings.middle_tercile,2013.earnings.6_yrs_after_entry.mean_earnings.highest_tercile,2013.earnings.6_yrs_after_entry.mean_earnings.dependent_students_lowest_tercile,2013.earnings.6_yrs_after_entry.mean_earnings.dependent_students,2013.earnings.6_yrs_after_entry.mean_earnings.independent_students,2013.earnings.6_yrs_after_entry.mean_earnings.female_students,2013.earnings.6_yrs_after_entry.mean_earnings.male_students'"
      ]
     },
     "execution_count": 57,
     "metadata": {},
     "output_type": "execute_result"
    }
   ],
   "source": [
    "earnings_string = ',2013.earnings.'.join(earnings_data)\n",
    "earnings_string"
   ]
  },
  {
   "cell_type": "code",
   "execution_count": 165,
   "metadata": {},
   "outputs": [],
   "source": [
    "collegesc_api = 'https://api.data.gov/ed/collegescorecard/v1/schools.json'\n",
    "payload = {'api_key' : api_key, '_fields' : 'id,school.name,2013.earnings.'+earnings_string} #'school.ownership' : 3,\n",
    "\n",
    "req = requests.get(collegesc_api, params=payload)"
   ]
  },
  {
   "cell_type": "code",
   "execution_count": 166,
   "metadata": {
    "scrolled": false
   },
   "outputs": [
    {
     "data": {
      "text/plain": [
       "{'2013.earnings.6_yrs_after_entry.female_students': None,\n",
       " '2013.earnings.6_yrs_after_entry.independent_students': None,\n",
       " '2013.earnings.6_yrs_after_entry.male_students': None,\n",
       " '2013.earnings.6_yrs_after_entry.mean_earnings.dependent_students': None,\n",
       " '2013.earnings.6_yrs_after_entry.mean_earnings.dependent_students_lowest_tercile': None,\n",
       " '2013.earnings.6_yrs_after_entry.mean_earnings.female_students': None,\n",
       " '2013.earnings.6_yrs_after_entry.mean_earnings.highest_tercile': None,\n",
       " '2013.earnings.6_yrs_after_entry.mean_earnings.independent_students': None,\n",
       " '2013.earnings.6_yrs_after_entry.mean_earnings.lowest_tercile': None,\n",
       " '2013.earnings.6_yrs_after_entry.mean_earnings.male_students': None,\n",
       " '2013.earnings.6_yrs_after_entry.mean_earnings.middle_tercile': None,\n",
       " '2013.earnings.6_yrs_after_entry.median': None,\n",
       " '2013.earnings.6_yrs_after_entry.not_working_not_enrolled.overall': None,\n",
       " '2013.earnings.6_yrs_after_entry.percent_greater_than_25000': None,\n",
       " '2013.earnings.6_yrs_after_entry.working_not_enrolled.dependent_students': None,\n",
       " '2013.earnings.6_yrs_after_entry.working_not_enrolled.dependent_students_lowest_tercile': None,\n",
       " '2013.earnings.6_yrs_after_entry.working_not_enrolled.earnings_percentile.10': None,\n",
       " '2013.earnings.6_yrs_after_entry.working_not_enrolled.earnings_percentile.25': None,\n",
       " '2013.earnings.6_yrs_after_entry.working_not_enrolled.earnings_percentile.75': None,\n",
       " '2013.earnings.6_yrs_after_entry.working_not_enrolled.earnings_percentile.90': None,\n",
       " '2013.earnings.6_yrs_after_entry.working_not_enrolled.income.highest_tercile': None,\n",
       " '2013.earnings.6_yrs_after_entry.working_not_enrolled.income.lowest_tercile': None,\n",
       " '2013.earnings.6_yrs_after_entry.working_not_enrolled.income.middle_tercile': None,\n",
       " '2013.earnings.6_yrs_after_entry.working_not_enrolled.mean_earnings': None,\n",
       " '2013.earnings.6_yrs_after_entry.working_not_enrolled.overall': None,\n",
       " '2013.earnings.6_yrs_after_entry.working_not_enrolled.std_dev': None,\n",
       " 'id': 121983,\n",
       " 'school.name': 'Argosy University-San Francisco Bay Area'}"
      ]
     },
     "execution_count": 166,
     "metadata": {},
     "output_type": "execute_result"
    }
   ],
   "source": [
    "req.json()['results'][0]"
   ]
  },
  {
   "cell_type": "markdown",
   "metadata": {},
   "source": [
    "This part of the data is relatively new, so it is not available for most schools."
   ]
  },
  {
   "cell_type": "code",
   "execution_count": 97,
   "metadata": {
    "scrolled": false
   },
   "outputs": [
    {
     "data": {
      "text/html": [
       "<div>\n",
       "<style>\n",
       "    .dataframe thead tr:only-child th {\n",
       "        text-align: right;\n",
       "    }\n",
       "\n",
       "    .dataframe thead th {\n",
       "        text-align: left;\n",
       "    }\n",
       "\n",
       "    .dataframe tbody tr th {\n",
       "        vertical-align: top;\n",
       "    }\n",
       "</style>\n",
       "<table border=\"1\" class=\"dataframe\">\n",
       "  <thead>\n",
       "    <tr style=\"text-align: right;\">\n",
       "      <th></th>\n",
       "      <th>name</th>\n",
       "      <th>devcategory</th>\n",
       "      <th>developername</th>\n",
       "      <th>datatype</th>\n",
       "      <th>varname</th>\n",
       "      <th>source</th>\n",
       "      <th>notes</th>\n",
       "    </tr>\n",
       "  </thead>\n",
       "  <tbody>\n",
       "    <tr>\n",
       "      <th>3</th>\n",
       "      <td>Institution name</td>\n",
       "      <td>school</td>\n",
       "      <td>name</td>\n",
       "      <td>autocomplete</td>\n",
       "      <td>INSTNM</td>\n",
       "      <td>IPEDS</td>\n",
       "      <td>Shown/used on consumer website.</td>\n",
       "    </tr>\n",
       "    <tr>\n",
       "      <th>4</th>\n",
       "      <td>City</td>\n",
       "      <td>school</td>\n",
       "      <td>city</td>\n",
       "      <td>autocomplete</td>\n",
       "      <td>CITY</td>\n",
       "      <td>IPEDS</td>\n",
       "      <td>Shown/used on consumer website.</td>\n",
       "    </tr>\n",
       "    <tr>\n",
       "      <th>5</th>\n",
       "      <td>State postcode</td>\n",
       "      <td>school</td>\n",
       "      <td>state</td>\n",
       "      <td>string</td>\n",
       "      <td>STABBR</td>\n",
       "      <td>IPEDS</td>\n",
       "      <td>Shown/used on consumer website.</td>\n",
       "    </tr>\n",
       "    <tr>\n",
       "      <th>6</th>\n",
       "      <td>ZIP code</td>\n",
       "      <td>school</td>\n",
       "      <td>zip</td>\n",
       "      <td>integer</td>\n",
       "      <td>ZIP</td>\n",
       "      <td>IPEDS</td>\n",
       "      <td>None</td>\n",
       "    </tr>\n",
       "    <tr>\n",
       "      <th>7</th>\n",
       "      <td>Accreditor for institution</td>\n",
       "      <td>school</td>\n",
       "      <td>accreditor</td>\n",
       "      <td>string</td>\n",
       "      <td>ACCREDAGENCY</td>\n",
       "      <td>FSA</td>\n",
       "      <td>None</td>\n",
       "    </tr>\n",
       "    <tr>\n",
       "      <th>8</th>\n",
       "      <td>URL for institution's homepage</td>\n",
       "      <td>school</td>\n",
       "      <td>school_url</td>\n",
       "      <td>string</td>\n",
       "      <td>INSTURL</td>\n",
       "      <td>IPEDS</td>\n",
       "      <td>Shown/used on consumer website.</td>\n",
       "    </tr>\n",
       "    <tr>\n",
       "      <th>9</th>\n",
       "      <td>URL for institution's net price calculator</td>\n",
       "      <td>school</td>\n",
       "      <td>price_calculator_url</td>\n",
       "      <td>string</td>\n",
       "      <td>NPCURL</td>\n",
       "      <td>IPEDS</td>\n",
       "      <td>Shown/used on consumer website.</td>\n",
       "    </tr>\n",
       "    <tr>\n",
       "      <th>10</th>\n",
       "      <td>Predominant degree awarded (recoded 0s and 4s)</td>\n",
       "      <td>school</td>\n",
       "      <td>degrees_awarded.predominant_recoded</td>\n",
       "      <td>integer</td>\n",
       "      <td>SCH_DEG</td>\n",
       "      <td>IPEDS/NSLDS</td>\n",
       "      <td>Missing values, 0s, and 4s from PREDDEG recode...</td>\n",
       "    </tr>\n",
       "    <tr>\n",
       "      <th>11</th>\n",
       "      <td>Schools that are on Heightened Cash Monitoring...</td>\n",
       "      <td>school</td>\n",
       "      <td>under_investigation</td>\n",
       "      <td>integer</td>\n",
       "      <td>HCM2</td>\n",
       "      <td>FSA</td>\n",
       "      <td>Shown/used on consumer website;    Flag (1=HCM2)</td>\n",
       "    </tr>\n",
       "    <tr>\n",
       "      <th>12</th>\n",
       "      <td>Flag for main campus</td>\n",
       "      <td>school</td>\n",
       "      <td>main_campus</td>\n",
       "      <td>integer</td>\n",
       "      <td>MAIN</td>\n",
       "      <td>IPEDS</td>\n",
       "      <td>None</td>\n",
       "    </tr>\n",
       "    <tr>\n",
       "      <th>13</th>\n",
       "      <td>Number of branch campuses</td>\n",
       "      <td>school</td>\n",
       "      <td>branches</td>\n",
       "      <td>integer</td>\n",
       "      <td>NUMBRANCH</td>\n",
       "      <td>IPEDS</td>\n",
       "      <td>None</td>\n",
       "    </tr>\n",
       "    <tr>\n",
       "      <th>14</th>\n",
       "      <td>Predominant undergraduate degree awarded\\n 0 N...</td>\n",
       "      <td>school</td>\n",
       "      <td>degrees_awarded.predominant</td>\n",
       "      <td>integer</td>\n",
       "      <td>PREDDEG</td>\n",
       "      <td>IPEDS</td>\n",
       "      <td>Shown/used on consumer website.</td>\n",
       "    </tr>\n",
       "    <tr>\n",
       "      <th>15</th>\n",
       "      <td>Highest degree awarded\\n 0 Non-degree-granting...</td>\n",
       "      <td>school</td>\n",
       "      <td>degrees_awarded.highest</td>\n",
       "      <td>integer</td>\n",
       "      <td>HIGHDEG</td>\n",
       "      <td>IPEDS</td>\n",
       "      <td>Shown/used on consumer website.</td>\n",
       "    </tr>\n",
       "    <tr>\n",
       "      <th>16</th>\n",
       "      <td>Control of institution</td>\n",
       "      <td>school</td>\n",
       "      <td>ownership</td>\n",
       "      <td>integer</td>\n",
       "      <td>CONTROL</td>\n",
       "      <td>IPEDS</td>\n",
       "      <td>Shown/used on consumer website.</td>\n",
       "    </tr>\n",
       "    <tr>\n",
       "      <th>17</th>\n",
       "      <td>FIPS code for state</td>\n",
       "      <td>school</td>\n",
       "      <td>state_fips</td>\n",
       "      <td>integer</td>\n",
       "      <td>ST_FIPS</td>\n",
       "      <td>IPEDS</td>\n",
       "      <td>None</td>\n",
       "    </tr>\n",
       "    <tr>\n",
       "      <th>18</th>\n",
       "      <td>Region (IPEDS)</td>\n",
       "      <td>school</td>\n",
       "      <td>region_id</td>\n",
       "      <td>integer</td>\n",
       "      <td>REGION</td>\n",
       "      <td>IPEDS</td>\n",
       "      <td>None</td>\n",
       "    </tr>\n",
       "    <tr>\n",
       "      <th>19</th>\n",
       "      <td>Locale of institution</td>\n",
       "      <td>school</td>\n",
       "      <td>locale</td>\n",
       "      <td>integer</td>\n",
       "      <td>LOCALE</td>\n",
       "      <td>IPEDS</td>\n",
       "      <td>Shown/used on consumer website.</td>\n",
       "    </tr>\n",
       "    <tr>\n",
       "      <th>20</th>\n",
       "      <td>Degree of urbanization of institution</td>\n",
       "      <td>school</td>\n",
       "      <td>degree_urbanization</td>\n",
       "      <td>integer</td>\n",
       "      <td>LOCALE2</td>\n",
       "      <td>IPEDS</td>\n",
       "      <td>None</td>\n",
       "    </tr>\n",
       "    <tr>\n",
       "      <th>23</th>\n",
       "      <td>Carnegie Classification -- basic</td>\n",
       "      <td>school</td>\n",
       "      <td>carnegie_basic</td>\n",
       "      <td>integer</td>\n",
       "      <td>CCBASIC</td>\n",
       "      <td>IPEDS</td>\n",
       "      <td>None</td>\n",
       "    </tr>\n",
       "    <tr>\n",
       "      <th>24</th>\n",
       "      <td>Carnegie Classification -- undergraduate profile</td>\n",
       "      <td>school</td>\n",
       "      <td>carnegie_undergrad</td>\n",
       "      <td>integer</td>\n",
       "      <td>CCUGPROF</td>\n",
       "      <td>IPEDS</td>\n",
       "      <td>None</td>\n",
       "    </tr>\n",
       "  </tbody>\n",
       "</table>\n",
       "</div>"
      ],
      "text/plain": [
       "                                                 name devcategory  \\\n",
       "3                                    Institution name      school   \n",
       "4                                                City      school   \n",
       "5                                      State postcode      school   \n",
       "6                                            ZIP code      school   \n",
       "7                          Accreditor for institution      school   \n",
       "8                      URL for institution's homepage      school   \n",
       "9          URL for institution's net price calculator      school   \n",
       "10     Predominant degree awarded (recoded 0s and 4s)      school   \n",
       "11  Schools that are on Heightened Cash Monitoring...      school   \n",
       "12                               Flag for main campus      school   \n",
       "13                          Number of branch campuses      school   \n",
       "14  Predominant undergraduate degree awarded\\n 0 N...      school   \n",
       "15  Highest degree awarded\\n 0 Non-degree-granting...      school   \n",
       "16                             Control of institution      school   \n",
       "17                                FIPS code for state      school   \n",
       "18                                     Region (IPEDS)      school   \n",
       "19                              Locale of institution      school   \n",
       "20              Degree of urbanization of institution      school   \n",
       "23                   Carnegie Classification -- basic      school   \n",
       "24   Carnegie Classification -- undergraduate profile      school   \n",
       "\n",
       "                          developername      datatype       varname  \\\n",
       "3                                  name  autocomplete        INSTNM   \n",
       "4                                  city  autocomplete          CITY   \n",
       "5                                 state        string        STABBR   \n",
       "6                                   zip       integer           ZIP   \n",
       "7                            accreditor        string  ACCREDAGENCY   \n",
       "8                            school_url        string       INSTURL   \n",
       "9                  price_calculator_url        string        NPCURL   \n",
       "10  degrees_awarded.predominant_recoded       integer       SCH_DEG   \n",
       "11                  under_investigation       integer          HCM2   \n",
       "12                          main_campus       integer          MAIN   \n",
       "13                             branches       integer     NUMBRANCH   \n",
       "14          degrees_awarded.predominant       integer       PREDDEG   \n",
       "15              degrees_awarded.highest       integer       HIGHDEG   \n",
       "16                            ownership       integer       CONTROL   \n",
       "17                           state_fips       integer       ST_FIPS   \n",
       "18                            region_id       integer        REGION   \n",
       "19                               locale       integer        LOCALE   \n",
       "20                  degree_urbanization       integer       LOCALE2   \n",
       "23                       carnegie_basic       integer       CCBASIC   \n",
       "24                   carnegie_undergrad       integer      CCUGPROF   \n",
       "\n",
       "         source                                              notes  \n",
       "3         IPEDS                    Shown/used on consumer website.  \n",
       "4         IPEDS                    Shown/used on consumer website.  \n",
       "5         IPEDS                    Shown/used on consumer website.  \n",
       "6         IPEDS                                               None  \n",
       "7           FSA                                               None  \n",
       "8         IPEDS                    Shown/used on consumer website.  \n",
       "9         IPEDS                    Shown/used on consumer website.  \n",
       "10  IPEDS/NSLDS  Missing values, 0s, and 4s from PREDDEG recode...  \n",
       "11          FSA   Shown/used on consumer website;    Flag (1=HCM2)  \n",
       "12        IPEDS                                               None  \n",
       "13        IPEDS                                               None  \n",
       "14        IPEDS                    Shown/used on consumer website.  \n",
       "15        IPEDS                    Shown/used on consumer website.  \n",
       "16        IPEDS                    Shown/used on consumer website.  \n",
       "17        IPEDS                                               None  \n",
       "18        IPEDS                                               None  \n",
       "19        IPEDS                    Shown/used on consumer website.  \n",
       "20        IPEDS                                               None  \n",
       "23        IPEDS                                               None  \n",
       "24        IPEDS                                               None  "
      ]
     },
     "execution_count": 97,
     "metadata": {},
     "output_type": "execute_result"
    }
   ],
   "source": [
    "data_definitions[data_definitions.devcategory == 'school'].head(20)"
   ]
  },
  {
   "cell_type": "code",
   "execution_count": 75,
   "metadata": {
    "collapsed": true
   },
   "outputs": [],
   "source": [
    "school_data = list(data_definitions[data_definitions.devcategory == 'school'].developername.values)"
   ]
  },
  {
   "cell_type": "code",
   "execution_count": 77,
   "metadata": {},
   "outputs": [
    {
     "data": {
      "text/plain": [
       "['name',\n",
       " 'city',\n",
       " 'state',\n",
       " 'zip',\n",
       " 'accreditor',\n",
       " 'school_url',\n",
       " 'price_calculator_url',\n",
       " 'degrees_awarded.predominant_recoded',\n",
       " 'under_investigation',\n",
       " 'main_campus',\n",
       " 'branches',\n",
       " 'degrees_awarded.predominant',\n",
       " 'degrees_awarded.highest',\n",
       " 'ownership',\n",
       " 'state_fips']"
      ]
     },
     "execution_count": 77,
     "metadata": {},
     "output_type": "execute_result"
    }
   ],
   "source": [
    "school_data[:15]"
   ]
  },
  {
   "cell_type": "code",
   "execution_count": 86,
   "metadata": {},
   "outputs": [],
   "source": [
    "school_string = \",school.\".join(school_data)"
   ]
  },
  {
   "cell_type": "code",
   "execution_count": 87,
   "metadata": {},
   "outputs": [
    {
     "data": {
      "text/plain": [
       "'name,school.city,school.state,school.zip,school.accreditor,school.school_url,school.price_calculator_url,school.degrees_awarded.predominant_recoded,school.under_investigation,school.main_campus,school.branches,school.degrees_awarded.predominant,school.degrees_awarded.highest,school.ownership,school.state_fips,school.region_id,school.locale,school.degree_urbanization,school.carnegie_basic,school.carnegie_undergrad,school.carnegie_size_setting,school.minority_serving.historically_black,school.minority_serving.predominantly_black,school.minority_serving.annh,school.minority_serving.tribal,school.minority_serving.aanipi,school.minority_serving.hispanic,school.minority_serving.nant,school.men_only,school.women_only,school.religious_affiliation,school.online_only,school.operating,school.tuition_revenue_per_fte,school.instructional_expenditure_per_fte,school.faculty_salary,school.ft_faculty_rate,school.alias,school.institutional_characteristics.level'"
      ]
     },
     "execution_count": 87,
     "metadata": {},
     "output_type": "execute_result"
    }
   ],
   "source": [
    "school_string"
   ]
  },
  {
   "cell_type": "code",
   "execution_count": 140,
   "metadata": {},
   "outputs": [],
   "source": [
    "payload = {'api_key' : api_key, '_fields' : 'id,school.'+school_string, '_per_page' : 50} #'school.ownership' : 3,\n",
    "\n",
    "req = requests.get(collegesc_api, params=payload)"
   ]
  },
  {
   "cell_type": "code",
   "execution_count": 153,
   "metadata": {
    "scrolled": false
   },
   "outputs": [],
   "source": [
    "school = pd.DataFrame(req.json()[\"results\"])"
   ]
  },
  {
   "cell_type": "code",
   "execution_count": 145,
   "metadata": {},
   "outputs": [],
   "source": [
    "metadata = req.json()[\"metadata\"]"
   ]
  },
  {
   "cell_type": "code",
   "execution_count": 156,
   "metadata": {},
   "outputs": [
    {
     "data": {
      "text/plain": [
       "{'page': 0, 'per_page': 50, 'total': 7703}"
      ]
     },
     "execution_count": 156,
     "metadata": {},
     "output_type": "execute_result"
    }
   ],
   "source": [
    "metadata"
   ]
  },
  {
   "cell_type": "code",
   "execution_count": 147,
   "metadata": {},
   "outputs": [
    {
     "data": {
      "text/plain": [
       "154"
      ]
     },
     "execution_count": 147,
     "metadata": {},
     "output_type": "execute_result"
    }
   ],
   "source": [
    "metadata['total'] // metadata['per_page']"
   ]
  },
  {
   "cell_type": "code",
   "execution_count": null,
   "metadata": {},
   "outputs": [],
   "source": []
  },
  {
   "cell_type": "code",
   "execution_count": 154,
   "metadata": {},
   "outputs": [],
   "source": [
    "school.columns = school.columns.str.replace(\"school.\", \"\")"
   ]
  },
  {
   "cell_type": "code",
   "execution_count": 155,
   "metadata": {},
   "outputs": [
    {
     "data": {
      "text/html": [
       "<div>\n",
       "<style>\n",
       "    .dataframe thead tr:only-child th {\n",
       "        text-align: right;\n",
       "    }\n",
       "\n",
       "    .dataframe thead th {\n",
       "        text-align: left;\n",
       "    }\n",
       "\n",
       "    .dataframe tbody tr th {\n",
       "        vertical-align: top;\n",
       "    }\n",
       "</style>\n",
       "<table border=\"1\" class=\"dataframe\">\n",
       "  <thead>\n",
       "    <tr style=\"text-align: right;\">\n",
       "      <th></th>\n",
       "      <th>id</th>\n",
       "      <th>accreditor</th>\n",
       "      <th>alias</th>\n",
       "      <th>branches</th>\n",
       "      <th>carnegie_basic</th>\n",
       "      <th>carnegie_size_setting</th>\n",
       "      <th>carnegie_undergrad</th>\n",
       "      <th>city</th>\n",
       "      <th>degree_urbanization</th>\n",
       "      <th>degrees_awarded.highest</th>\n",
       "      <th>...</th>\n",
       "      <th>price_calculator_url</th>\n",
       "      <th>region_id</th>\n",
       "      <th>religious_affiliation</th>\n",
       "      <th>url</th>\n",
       "      <th>state</th>\n",
       "      <th>state_fips</th>\n",
       "      <th>tuition_revenue_per_fte</th>\n",
       "      <th>under_investigation</th>\n",
       "      <th>women_only</th>\n",
       "      <th>zip</th>\n",
       "    </tr>\n",
       "  </thead>\n",
       "  <tbody>\n",
       "    <tr>\n",
       "      <th>0</th>\n",
       "      <td>121983</td>\n",
       "      <td>Western Association of Schools and Colleges Se...</td>\n",
       "      <td>None</td>\n",
       "      <td>28</td>\n",
       "      <td>26</td>\n",
       "      <td>6</td>\n",
       "      <td>5</td>\n",
       "      <td>Alameda</td>\n",
       "      <td>None</td>\n",
       "      <td>4</td>\n",
       "      <td>...</td>\n",
       "      <td>tcc.noellevitz.com/edmc/Argosy University Net ...</td>\n",
       "      <td>8</td>\n",
       "      <td>-2</td>\n",
       "      <td>www.argosy.edu/sanfrancisco</td>\n",
       "      <td>CA</td>\n",
       "      <td>6</td>\n",
       "      <td>12380</td>\n",
       "      <td>0</td>\n",
       "      <td>0</td>\n",
       "      <td>94501</td>\n",
       "    </tr>\n",
       "    <tr>\n",
       "      <th>1</th>\n",
       "      <td>120838</td>\n",
       "      <td>Accrediting Council for Independent Colleges a...</td>\n",
       "      <td>None</td>\n",
       "      <td>1</td>\n",
       "      <td>29</td>\n",
       "      <td>6</td>\n",
       "      <td>11</td>\n",
       "      <td>Los Angeles</td>\n",
       "      <td>None</td>\n",
       "      <td>4</td>\n",
       "      <td>...</td>\n",
       "      <td>www.psuca.edu/node/100</td>\n",
       "      <td>8</td>\n",
       "      <td>-2</td>\n",
       "      <td>www.psuca.edu</td>\n",
       "      <td>CA</td>\n",
       "      <td>6</td>\n",
       "      <td>13784</td>\n",
       "      <td>0</td>\n",
       "      <td>0</td>\n",
       "      <td>90010</td>\n",
       "    </tr>\n",
       "    <tr>\n",
       "      <th>2</th>\n",
       "      <td>434973</td>\n",
       "      <td>North Central Association of Colleges and Scho...</td>\n",
       "      <td>None</td>\n",
       "      <td>38</td>\n",
       "      <td>29</td>\n",
       "      <td>6</td>\n",
       "      <td>11</td>\n",
       "      <td>Columbia</td>\n",
       "      <td>None</td>\n",
       "      <td>4</td>\n",
       "      <td>...</td>\n",
       "      <td>www.phoenix.edu/tuition_and_financial_options/...</td>\n",
       "      <td>2</td>\n",
       "      <td>-2</td>\n",
       "      <td>www.phoenix.edu</td>\n",
       "      <td>MD</td>\n",
       "      <td>24</td>\n",
       "      <td>10131</td>\n",
       "      <td>0</td>\n",
       "      <td>0</td>\n",
       "      <td>21045</td>\n",
       "    </tr>\n",
       "    <tr>\n",
       "      <th>3</th>\n",
       "      <td>436012</td>\n",
       "      <td>None</td>\n",
       "      <td>None</td>\n",
       "      <td>2</td>\n",
       "      <td>-2</td>\n",
       "      <td>-2</td>\n",
       "      <td>-2</td>\n",
       "      <td>Hempstead</td>\n",
       "      <td>None</td>\n",
       "      <td>1</td>\n",
       "      <td>...</td>\n",
       "      <td>www.franklincareer.edu</td>\n",
       "      <td>2</td>\n",
       "      <td>-2</td>\n",
       "      <td>www.franklincareer.edu</td>\n",
       "      <td>NY</td>\n",
       "      <td>36</td>\n",
       "      <td>6935</td>\n",
       "      <td>0</td>\n",
       "      <td>0</td>\n",
       "      <td>11550</td>\n",
       "    </tr>\n",
       "    <tr>\n",
       "      <th>4</th>\n",
       "      <td>436021</td>\n",
       "      <td>Montessori Accreditation Council for Teacher E...</td>\n",
       "      <td>None</td>\n",
       "      <td>1</td>\n",
       "      <td>-2</td>\n",
       "      <td>-2</td>\n",
       "      <td>-2</td>\n",
       "      <td>Milwaukee</td>\n",
       "      <td>None</td>\n",
       "      <td>0</td>\n",
       "      <td>...</td>\n",
       "      <td>www.montessori6-12ami.org</td>\n",
       "      <td>3</td>\n",
       "      <td>-2</td>\n",
       "      <td>www.montessori6-12ami.org</td>\n",
       "      <td>WI</td>\n",
       "      <td>55</td>\n",
       "      <td>6063</td>\n",
       "      <td>0</td>\n",
       "      <td>0</td>\n",
       "      <td>53207</td>\n",
       "    </tr>\n",
       "  </tbody>\n",
       "</table>\n",
       "<p>5 rows × 40 columns</p>\n",
       "</div>"
      ],
      "text/plain": [
       "       id                                         accreditor alias  branches  \\\n",
       "0  121983  Western Association of Schools and Colleges Se...  None        28   \n",
       "1  120838  Accrediting Council for Independent Colleges a...  None         1   \n",
       "2  434973  North Central Association of Colleges and Scho...  None        38   \n",
       "3  436012                                               None  None         2   \n",
       "4  436021  Montessori Accreditation Council for Teacher E...  None         1   \n",
       "\n",
       "   carnegie_basic  carnegie_size_setting  carnegie_undergrad         city  \\\n",
       "0              26                      6                   5      Alameda   \n",
       "1              29                      6                  11  Los Angeles   \n",
       "2              29                      6                  11     Columbia   \n",
       "3              -2                     -2                  -2    Hempstead   \n",
       "4              -2                     -2                  -2    Milwaukee   \n",
       "\n",
       "  degree_urbanization  degrees_awarded.highest  ...    \\\n",
       "0                None                        4  ...     \n",
       "1                None                        4  ...     \n",
       "2                None                        4  ...     \n",
       "3                None                        1  ...     \n",
       "4                None                        0  ...     \n",
       "\n",
       "                                price_calculator_url region_id  \\\n",
       "0  tcc.noellevitz.com/edmc/Argosy University Net ...         8   \n",
       "1                             www.psuca.edu/node/100         8   \n",
       "2  www.phoenix.edu/tuition_and_financial_options/...         2   \n",
       "3                             www.franklincareer.edu         2   \n",
       "4                          www.montessori6-12ami.org         3   \n",
       "\n",
       "   religious_affiliation                          url  state  state_fips  \\\n",
       "0                     -2  www.argosy.edu/sanfrancisco     CA           6   \n",
       "1                     -2                www.psuca.edu     CA           6   \n",
       "2                     -2              www.phoenix.edu     MD          24   \n",
       "3                     -2       www.franklincareer.edu     NY          36   \n",
       "4                     -2    www.montessori6-12ami.org     WI          55   \n",
       "\n",
       "   tuition_revenue_per_fte  under_investigation  women_only    zip  \n",
       "0                    12380                    0           0  94501  \n",
       "1                    13784                    0           0  90010  \n",
       "2                    10131                    0           0  21045  \n",
       "3                     6935                    0           0  11550  \n",
       "4                     6063                    0           0  53207  \n",
       "\n",
       "[5 rows x 40 columns]"
      ]
     },
     "execution_count": 155,
     "metadata": {},
     "output_type": "execute_result"
    }
   ],
   "source": [
    "school.head()"
   ]
  },
  {
   "cell_type": "code",
   "execution_count": 229,
   "metadata": {
    "collapsed": true
   },
   "outputs": [],
   "source": [
    "def call_collegesc_api(category, api_key, conn, per_page = 50, year = 2013):\n",
    "    \"\"\"\n",
    "    category: the category to be downloaded\n",
    "    api_key: key for the college sc api\n",
    "    conn: sql_alchemy engine for querying data definitions\n",
    "    per_page: number of entries per api call (max: 100)\n",
    "    year: year to be called (default: 2013)\n",
    "    calls the college scordcard api given a particular category\n",
    "    and returns a dataframe transformed from json\n",
    "    \"\"\"\n",
    "    sql_query = \"\"\"SELECT\n",
    "                    developername\n",
    "                FROM \n",
    "                    datadefinitions \n",
    "                WHERE devcategory ='\"\"\"\n",
    "    \n",
    "    sql_query += category+\"';\"\n",
    "    \n",
    "    fields = [fields[0] for fields in conn.execute(sql_query).fetchall()]\n",
    "    \n",
    "    if(category == \"school\"):\n",
    "        join_string = \",\" + category + \".\"\n",
    "        fields_string = \"id\" + join_string + join_string.join(fields)\n",
    "    else:\n",
    "        join_string = \",\" + str(year) + \".\" + category + \".\"\n",
    "        fields_string = \"id\" + join_string + join_string.join(fields)\n",
    "    \n",
    "    \n",
    "    college_sc_url = 'https://api.data.gov/ed/collegescorecard/v1/schools.json'\n",
    "    api_query = {'api_key' : api_key, '_fields' : fields_string, '_per_page' : per_page}\n",
    "    \n",
    "    req = requests.get(college_sc_url, params=api_query)\n",
    "    \n",
    "    pages = req.json()[\"metadata\"][\"total\"] // per_page\n",
    "    \n",
    "    category_df = pd.DataFrame(req.json()[\"results\"])\n",
    "    \n",
    "    for page in range(1, pages+1):\n",
    "        \n",
    "        api_query[\"_page\"] = page\n",
    "        \n",
    "        req = requests.get(college_sc_url, params=api_query)\n",
    "        \n",
    "        temp_df = pd.DataFrame(req.json()[\"results\"])\n",
    "        \n",
    "        category_df = category_df.append(temp_df)\n",
    "        \n",
    "        time.sleep(1)\n",
    "    \n",
    "    category_df = category_df.reset_index()\n",
    "    \n",
    "    if(category == \"school\"):\n",
    "        category_df.columns = category_df.columns.str.replace(category+\".\", \"\")\n",
    "    else:\n",
    "        category_df.columns = category_df.columns.str.replace(str(year)+\".\"+category+\".\", \"\")\n",
    "        \n",
    "    \n",
    "    return category_df\n",
    "    "
   ]
  },
  {
   "cell_type": "code",
   "execution_count": 216,
   "metadata": {},
   "outputs": [],
   "source": [
    "school_df = call_collegesc_api('school', api_key, conn)"
   ]
  },
  {
   "cell_type": "code",
   "execution_count": 224,
   "metadata": {},
   "outputs": [],
   "source": [
    "school_df = school_df.reset_index()"
   ]
  },
  {
   "cell_type": "code",
   "execution_count": 227,
   "metadata": {},
   "outputs": [],
   "source": [
    "school_df.columns = school_df.columns.str.replace(\"school.\", \"\")"
   ]
  },
  {
   "cell_type": "code",
   "execution_count": 230,
   "metadata": {},
   "outputs": [],
   "source": [
    "category_file = os.path.join(data_dir, \"school.csv\")\n",
    "school_df.to_csv(category_file)"
   ]
  },
  {
   "cell_type": "code",
   "execution_count": 170,
   "metadata": {},
   "outputs": [],
   "source": [
    "category = \"school\"\n",
    "sql_query = \"\"\"SELECT\n",
    "                developername\n",
    "            FROM \n",
    "                datadefinitions \n",
    "            WHERE devcategory ='\"\"\"\n",
    "\n",
    "sql_query += category+\"';\""
   ]
  },
  {
   "cell_type": "code",
   "execution_count": 171,
   "metadata": {},
   "outputs": [
    {
     "data": {
      "text/plain": [
       "\"SELECT\\n                developername\\n            FROM \\n                datadefinitions \\n            WHERE devcategory ='school';\""
      ]
     },
     "execution_count": 171,
     "metadata": {},
     "output_type": "execute_result"
    }
   ],
   "source": [
    "sql_query"
   ]
  },
  {
   "cell_type": "code",
   "execution_count": 172,
   "metadata": {
    "collapsed": true
   },
   "outputs": [],
   "source": [
    "test = pd.read_sql_query(sql_query, conn)"
   ]
  },
  {
   "cell_type": "code",
   "execution_count": 177,
   "metadata": {},
   "outputs": [],
   "source": [
    "fields = [fields[0] for fields in conn.execute(sql_query).fetchall()]"
   ]
  },
  {
   "cell_type": "code",
   "execution_count": 178,
   "metadata": {},
   "outputs": [
    {
     "data": {
      "text/plain": [
       "['name',\n",
       " 'city',\n",
       " 'state',\n",
       " 'zip',\n",
       " 'accreditor',\n",
       " 'school_url',\n",
       " 'price_calculator_url',\n",
       " 'degrees_awarded.predominant_recoded',\n",
       " 'under_investigation',\n",
       " 'main_campus',\n",
       " 'branches',\n",
       " 'degrees_awarded.predominant',\n",
       " 'degrees_awarded.highest',\n",
       " 'ownership',\n",
       " 'state_fips',\n",
       " 'region_id',\n",
       " 'locale',\n",
       " 'degree_urbanization',\n",
       " 'carnegie_basic',\n",
       " 'carnegie_undergrad',\n",
       " 'carnegie_size_setting',\n",
       " 'minority_serving.historically_black',\n",
       " 'minority_serving.predominantly_black',\n",
       " 'minority_serving.annh',\n",
       " 'minority_serving.tribal',\n",
       " 'minority_serving.aanipi',\n",
       " 'minority_serving.hispanic',\n",
       " 'minority_serving.nant',\n",
       " 'men_only',\n",
       " 'women_only',\n",
       " 'religious_affiliation',\n",
       " 'online_only',\n",
       " 'operating',\n",
       " 'tuition_revenue_per_fte',\n",
       " 'instructional_expenditure_per_fte',\n",
       " 'faculty_salary',\n",
       " 'ft_faculty_rate',\n",
       " 'alias',\n",
       " 'institutional_characteristics.level']"
      ]
     },
     "execution_count": 178,
     "metadata": {},
     "output_type": "execute_result"
    }
   ],
   "source": [
    "fields"
   ]
  },
  {
   "cell_type": "code",
   "execution_count": null,
   "metadata": {
    "collapsed": true
   },
   "outputs": [],
   "source": []
  }
 ],
 "metadata": {
  "kernelspec": {
   "display_name": "Python 3",
   "language": "python",
   "name": "python3"
  },
  "language_info": {
   "codemirror_mode": {
    "name": "ipython",
    "version": 3
   },
   "file_extension": ".py",
   "mimetype": "text/x-python",
   "name": "python",
   "nbconvert_exporter": "python",
   "pygments_lexer": "ipython3",
   "version": "3.6.1"
  }
 },
 "nbformat": 4,
 "nbformat_minor": 2
}
