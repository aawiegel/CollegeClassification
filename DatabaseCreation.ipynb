{
 "cells": [
  {
   "cell_type": "code",
   "execution_count": 22,
   "metadata": {
    "collapsed": true
   },
   "outputs": [],
   "source": [
    "from sqlalchemy import create_engine\n",
    "import os\n",
    "import time\n",
    "import requests\n",
    "import numpy as np\n",
    "import pandas as pd\n",
    "import matplotlib.pyplot as plt\n",
    "import seaborn as sns\n",
    "\n",
    "# Load API key for data.gov\n",
    "\n",
    "with open('data_gov_api.txt', 'r') as file:\n",
    "    api_key = file.read().split('\\n')[0] # Remove new line\n",
    "\n",
    "conn = create_engine('postgresql://ubuntu@52.53.236.232:5432/collegesc')\n",
    "\n",
    "data_dir = os.path.join(os.path.curdir, \"data\")\n",
    "if not os.path.exists(data_dir):\n",
    "    os.makedirs(data_dir)"
   ]
  },
  {
   "cell_type": "markdown",
   "metadata": {},
   "source": [
    "## Helper functions and dictionaries"
   ]
  },
  {
   "cell_type": "code",
   "execution_count": 86,
   "metadata": {
    "collapsed": true
   },
   "outputs": [],
   "source": [
    "def find_max_string_length(pd_series):\n",
    "    \"\"\"\n",
    "    For string column in pandas Series, find the maximum length of thes string\n",
    "    \"\"\"\n",
    "    return pd_series.map(lambda x: len(str(x))).max()\n",
    "\n",
    "def call_collegesc_api(category, api_key, conn, per_page = 50, year = 2013):\n",
    "    \"\"\"\n",
    "    category: the category to be downloaded\n",
    "    api_key: key for the college sc api\n",
    "    conn: sql_alchemy engine for querying data definitions\n",
    "    per_page: number of entries per api call (max: 100)\n",
    "    year: year to be called (default: 2013)\n",
    "    calls the college scordcard api given a particular category\n",
    "    and returns a dataframe transformed from json\n",
    "    \"\"\"\n",
    "    sql_query = \"\"\"SELECT\n",
    "                    developername\n",
    "                FROM \n",
    "                    datadefinitions \n",
    "                WHERE devcategory ='\"\"\"\n",
    "    \n",
    "    sql_query += category+\"';\"\n",
    "    \n",
    "    fields = [fields[0] for fields in conn.execute(sql_query).fetchall()]\n",
    "\n",
    "    \n",
    "    if(category == \"school\"):\n",
    "        join_string = \",\" + category + \".\"\n",
    "        fields_string = \"id,location.lat,location.lon\" + join_string + join_string.join(fields)\n",
    "    elif(category == \"academics\"):\n",
    "        join_string = \",\" + category + \".\"\n",
    "        fields_string = \"id\" + join_string + join_string.join(fields)\n",
    "    else:\n",
    "        join_string = \",\" + str(year) + \".\" + category + \".\"\n",
    "        fields_string = \"id\" + join_string + join_string.join(fields)\n",
    "    \n",
    "    college_sc_url = 'https://api.data.gov/ed/collegescorecard/v1/schools.json'\n",
    "    api_query = {'api_key' : api_key, '_fields' : fields_string, '_per_page' : per_page}\n",
    "    \n",
    "    \n",
    "\n",
    "    req = requests.get(college_sc_url, params=api_query)\n",
    "    print(req)\n",
    "    \n",
    "    pages = req.json()[\"metadata\"][\"total\"] // per_page\n",
    "    \n",
    "    category_df = pd.DataFrame(req.json()[\"results\"])\n",
    "    \n",
    "    for page in range(1, pages+1):\n",
    "        \n",
    "        api_query[\"_page\"] = page\n",
    "        i = 0\n",
    "        while (i < 10):\n",
    "            try:\n",
    "                req = requests.get(college_sc_url, params=api_query)\n",
    "        \n",
    "                temp_df = pd.DataFrame(req.json()[\"results\"])\n",
    "        \n",
    "                category_df = category_df.append(temp_df)\n",
    "                \n",
    "                i = 0\n",
    "                break\n",
    "            except:\n",
    "                print(\"Connection or query error\")\n",
    "                print(req)\n",
    "                i += 1\n",
    "                time.sleep(2)\n",
    "        \n",
    "        time.sleep(2)\n",
    "    \n",
    "    category_df = category_df.reset_index(drop=True)\n",
    "    \n",
    "    category_df.columns = category_df.columns.str.replace(category+\".\", \"\")\n",
    "    category_df.columns = category_df.columns.str.replace(str(year)+\".\", \"\")\n",
    "        \n",
    "    \n",
    "    return category_df\n",
    "    \n",
    "def check_highnull_columns(df, threshold=1000):\n",
    "    \"\"\"\n",
    "    takes a dataframe and checks which columns\n",
    "    have lower than threshold nulls\n",
    "    returns partial dataframe info with columns with low nulls\n",
    "    \"\"\"\n",
    "    return df.loc[:, df.isnull().sum() < threshold].info()\n",
    "\n",
    "sql_type_dict = {'integer' : 'integer', 'float' : 'real', 'string' : 'text', 'autocomplete' : 'text'}\n",
    "\n",
    "def create_datetype_dict(conn, category, type_dict):\n",
    "    \"\"\"\n",
    "    Generates sql query to conn with category to get\n",
    "    API data categories and convert to Postgres types\n",
    "    with type dictionary\n",
    "    Returns type dictionary for that category to generate\n",
    "    SQL table\n",
    "    \"\"\"\n",
    "    \n",
    "    datatype_query = \"\"\"SELECT \n",
    "                        developername, datatype\n",
    "                    FROM\n",
    "                        datadefinitions\n",
    "                    WHERE\n",
    "                        devcategory = '\"\"\"\n",
    "                    \n",
    "    datatype_query += category+\"';\"\n",
    "    \n",
    "    type_defs = conn.execute(datatype_query).fetchall()\n",
    "    \n",
    "    fields = [x[0] for x in type_defs]\n",
    "    entries = [type_dict[x[1]] for x in type_defs]\n",
    "    \n",
    "    sql_type_def_dict = dict(zip(fields, entries))\n",
    "    sql_type_def_dict['id'] = 'integer'\n",
    "    sql_type_def_dict['index'] = 'integer'\n",
    "    \n",
    "    return sql_type_def_dict\n",
    "    "
   ]
  },
  {
   "cell_type": "markdown",
   "metadata": {},
   "source": [
    "## Download College Scorecard Data Dictionary"
   ]
  },
  {
   "cell_type": "code",
   "execution_count": 3,
   "metadata": {
    "collapsed": true
   },
   "outputs": [],
   "source": [
    "\n",
    "\n",
    "data_dict_url = \"https://collegescorecard.ed.gov/assets/CollegeScorecardDataDictionary.xlsx\"\n",
    "\n",
    "data_dict_file = data_dict_url.split('/')[-1]\n",
    "\n",
    "data_dict_path = os.path.join(data_dir, data_dict_file)\n",
    "\n",
    "if not os.path.exists(data_dict_path):\n",
    "    req = requests.get(data_dict_url)\n",
    "    \n",
    "    with open(data_dict_path, 'wb') as file:\n",
    "        file.write(req.content)\n"
   ]
  },
  {
   "cell_type": "markdown",
   "metadata": {},
   "source": [
    "## Load into memory and create table to define variables"
   ]
  },
  {
   "cell_type": "code",
   "execution_count": 101,
   "metadata": {
    "collapsed": true
   },
   "outputs": [],
   "source": [
    "sc_data_dict = pd.read_excel(data_dict_path, sheetname='data_dictionary')"
   ]
  },
  {
   "cell_type": "code",
   "execution_count": 102,
   "metadata": {
    "scrolled": false
   },
   "outputs": [
    {
     "data": {
      "text/plain": [
       "NAME OF DATA ELEMENT       Percentage of degrees awarded in Architecture ...\n",
       "dev-category                                                       academics\n",
       "developer-friendly name                      program_percentage.architecture\n",
       "API data type                                                          float\n",
       "VARIABLE NAME                                                         PCIP04\n",
       "VALUE                                                                    NaN\n",
       "LABEL                                      Architecture and Related Services\n",
       "SOURCE                                                                 IPEDS\n",
       "NOTES                                        Shown/used on consumer website.\n",
       "Name: 300, dtype: object"
      ]
     },
     "execution_count": 102,
     "metadata": {},
     "output_type": "execute_result"
    }
   ],
   "source": [
    "sc_data_dict.iloc[300]"
   ]
  },
  {
   "cell_type": "code",
   "execution_count": 103,
   "metadata": {},
   "outputs": [
    {
     "data": {
      "text/html": [
       "<div>\n",
       "<style>\n",
       "    .dataframe thead tr:only-child th {\n",
       "        text-align: right;\n",
       "    }\n",
       "\n",
       "    .dataframe thead th {\n",
       "        text-align: left;\n",
       "    }\n",
       "\n",
       "    .dataframe tbody tr th {\n",
       "        vertical-align: top;\n",
       "    }\n",
       "</style>\n",
       "<table border=\"1\" class=\"dataframe\">\n",
       "  <thead>\n",
       "    <tr style=\"text-align: right;\">\n",
       "      <th></th>\n",
       "      <th>NAME OF DATA ELEMENT</th>\n",
       "      <th>dev-category</th>\n",
       "      <th>developer-friendly name</th>\n",
       "      <th>API data type</th>\n",
       "      <th>VARIABLE NAME</th>\n",
       "      <th>VALUE</th>\n",
       "      <th>LABEL</th>\n",
       "      <th>SOURCE</th>\n",
       "      <th>NOTES</th>\n",
       "    </tr>\n",
       "  </thead>\n",
       "  <tbody>\n",
       "    <tr>\n",
       "      <th>25</th>\n",
       "      <td>Control of institution</td>\n",
       "      <td>school</td>\n",
       "      <td>ownership</td>\n",
       "      <td>integer</td>\n",
       "      <td>CONTROL</td>\n",
       "      <td>1.0</td>\n",
       "      <td>Public</td>\n",
       "      <td>IPEDS</td>\n",
       "      <td>Shown/used on consumer website.</td>\n",
       "    </tr>\n",
       "    <tr>\n",
       "      <th>26</th>\n",
       "      <td>NaN</td>\n",
       "      <td>school</td>\n",
       "      <td>NaN</td>\n",
       "      <td>NaN</td>\n",
       "      <td>NaN</td>\n",
       "      <td>2.0</td>\n",
       "      <td>Private nonprofit</td>\n",
       "      <td>NaN</td>\n",
       "      <td>NaN</td>\n",
       "    </tr>\n",
       "    <tr>\n",
       "      <th>27</th>\n",
       "      <td>NaN</td>\n",
       "      <td>school</td>\n",
       "      <td>NaN</td>\n",
       "      <td>NaN</td>\n",
       "      <td>NaN</td>\n",
       "      <td>3.0</td>\n",
       "      <td>Private for-profit</td>\n",
       "      <td>NaN</td>\n",
       "      <td>NaN</td>\n",
       "    </tr>\n",
       "  </tbody>\n",
       "</table>\n",
       "</div>"
      ],
      "text/plain": [
       "      NAME OF DATA ELEMENT dev-category developer-friendly name API data type  \\\n",
       "25  Control of institution       school               ownership       integer   \n",
       "26                     NaN       school                     NaN           NaN   \n",
       "27                     NaN       school                     NaN           NaN   \n",
       "\n",
       "   VARIABLE NAME  VALUE               LABEL SOURCE  \\\n",
       "25       CONTROL    1.0              Public  IPEDS   \n",
       "26           NaN    2.0   Private nonprofit    NaN   \n",
       "27           NaN    3.0  Private for-profit    NaN   \n",
       "\n",
       "                              NOTES  \n",
       "25  Shown/used on consumer website.  \n",
       "26                              NaN  \n",
       "27                              NaN  "
      ]
     },
     "execution_count": 103,
     "metadata": {},
     "output_type": "execute_result"
    }
   ],
   "source": [
    "sc_data_dict.iloc[25:28, :]"
   ]
  },
  {
   "cell_type": "code",
   "execution_count": null,
   "metadata": {
    "collapsed": true
   },
   "outputs": [],
   "source": []
  },
  {
   "cell_type": "code",
   "execution_count": 104,
   "metadata": {
    "collapsed": true
   },
   "outputs": [],
   "source": [
    "sc_data_dict_nv = sc_data_dict.drop(['VALUE', 'LABEL'], axis = 1)"
   ]
  },
  {
   "cell_type": "code",
   "execution_count": 105,
   "metadata": {
    "collapsed": true
   },
   "outputs": [],
   "source": [
    "sc_data_dict_nv.columns = ['Name', 'DevCategory', 'DeveloperName', 'DataType', 'VarName', 'Source', 'Notes']"
   ]
  },
  {
   "cell_type": "code",
   "execution_count": 106,
   "metadata": {
    "collapsed": true
   },
   "outputs": [],
   "source": [
    "sc_data_dict_nv = sc_data_dict_nv[sc_data_dict_nv['Name'].notnull()]"
   ]
  },
  {
   "cell_type": "code",
   "execution_count": 107,
   "metadata": {},
   "outputs": [
    {
     "name": "stdout",
     "output_type": "stream",
     "text": [
      "<class 'pandas.core.frame.DataFrame'>\n",
      "Int64Index: 1734 entries, 0 to 1974\n",
      "Data columns (total 7 columns):\n",
      "Name             1734 non-null object\n",
      "DevCategory      1734 non-null object\n",
      "DeveloperName    1734 non-null object\n",
      "DataType         1734 non-null object\n",
      "VarName          1734 non-null object\n",
      "Source           1734 non-null object\n",
      "Notes            274 non-null object\n",
      "dtypes: object(7)\n",
      "memory usage: 108.4+ KB\n"
     ]
    }
   ],
   "source": [
    "sc_data_dict_nv.info()"
   ]
  },
  {
   "cell_type": "markdown",
   "metadata": {},
   "source": [
    "### Find maximum string length in each column so we can define SQL table"
   ]
  },
  {
   "cell_type": "code",
   "execution_count": 108,
   "metadata": {
    "collapsed": true
   },
   "outputs": [],
   "source": [
    "string_length_dict = dict()\n",
    "for column in sc_data_dict_nv.columns:\n",
    "    string_length_dict[column] = find_max_string_length(sc_data_dict_nv[column])"
   ]
  },
  {
   "cell_type": "code",
   "execution_count": 109,
   "metadata": {
    "collapsed": true
   },
   "outputs": [],
   "source": [
    "sc_data_dict_nv.to_csv('datadef.csv', index=False)"
   ]
  },
  {
   "cell_type": "code",
   "execution_count": 110,
   "metadata": {
    "collapsed": true
   },
   "outputs": [],
   "source": [
    "\n",
    "query = \"\"\"CREATE TABLE IF NOT EXISTS datadefinitions (\n",
    "\"\"\"\n",
    "for column, length in string_length_dict.items():\n",
    "    query += column + \" varchar(\"+str(length)+\") DEFAULT NULL,\\n\"\n",
    "    \n",
    "query += \"\"\"\n",
    "PRIMARY KEY (developername)\n",
    ");\"\"\""
   ]
  },
  {
   "cell_type": "code",
   "execution_count": 5,
   "metadata": {
    "collapsed": true
   },
   "outputs": [],
   "source": []
  },
  {
   "cell_type": "code",
   "execution_count": 112,
   "metadata": {},
   "outputs": [
    {
     "data": {
      "text/plain": [
       "<sqlalchemy.engine.result.ResultProxy at 0x7f54e18d8358>"
      ]
     },
     "execution_count": 112,
     "metadata": {},
     "output_type": "execute_result"
    }
   ],
   "source": [
    "conn.execute(query)"
   ]
  },
  {
   "cell_type": "code",
   "execution_count": 130,
   "metadata": {
    "collapsed": true
   },
   "outputs": [],
   "source": [
    "query2 = \"\"\"COPY datadefinitions FROM '/home/ubuntu/Notebooks/CollegeClassification/datadef.csv' DELIMITER ',' CSV HEADER;\"\"\""
   ]
  },
  {
   "cell_type": "code",
   "execution_count": 131,
   "metadata": {},
   "outputs": [
    {
     "data": {
      "text/plain": [
       "<sqlalchemy.engine.result.ResultProxy at 0x7f54e2e7eda0>"
      ]
     },
     "execution_count": 131,
     "metadata": {},
     "output_type": "execute_result"
    }
   ],
   "source": [
    "conn.execute(query2)"
   ]
  },
  {
   "cell_type": "code",
   "execution_count": null,
   "metadata": {
    "collapsed": true
   },
   "outputs": [],
   "source": []
  },
  {
   "cell_type": "code",
   "execution_count": 14,
   "metadata": {
    "collapsed": true
   },
   "outputs": [],
   "source": [
    "query3 = \"\"\"SELECT * FROM datadefinitions;\"\"\""
   ]
  },
  {
   "cell_type": "code",
   "execution_count": 15,
   "metadata": {
    "collapsed": true
   },
   "outputs": [],
   "source": [
    "data_definitions = pd.read_sql_query(query3, conn)"
   ]
  },
  {
   "cell_type": "markdown",
   "metadata": {},
   "source": [
    "## Use API to gather data for 2013"
   ]
  },
  {
   "cell_type": "code",
   "execution_count": 73,
   "metadata": {
    "collapsed": true
   },
   "outputs": [],
   "source": [
    "datatype_query = \"\"\"SELECT\n",
    "                        *\n",
    "                    FROM \n",
    "                        datadefinitions\n",
    "                    WHERE\n",
    "                        devcategory='root';\"\"\""
   ]
  },
  {
   "cell_type": "code",
   "execution_count": 74,
   "metadata": {},
   "outputs": [
    {
     "data": {
      "text/plain": [
       "[('Unit ID for institution', 'root', 'id', 'integer', 'UNITID', 'IPEDS', 'Shown/used on consumer website.'),\n",
       " ('8-digit OPE ID for institution', 'root', 'ope8_id', 'integer', 'OPEID', 'IPEDS', 'Shown/used on consumer website.'),\n",
       " ('6-digit OPE ID for institution', 'root', 'ope6_id', 'integer', 'OPEID6', 'IPEDS', 'Shown/used on consumer website.'),\n",
       " ('Latitude', 'root', 'location.lat', 'float', 'LATITUDE', 'IPEDS', None),\n",
       " ('Longitude', 'root', 'location.lon', 'float', 'LONGITUDE', 'IPEDS', None)]"
      ]
     },
     "execution_count": 74,
     "metadata": {},
     "output_type": "execute_result"
    }
   ],
   "source": [
    "conn.execute(datatype_query).fetchall()"
   ]
  },
  {
   "cell_type": "code",
   "execution_count": 76,
   "metadata": {
    "collapsed": true
   },
   "outputs": [],
   "source": [
    "autocomplete_query = \"\"\"SELECT\n",
    "                            *\n",
    "                        FROM\n",
    "                            datadefinitions\n",
    "                        WHERE\n",
    "                            datatype='autocomplete'\"\"\""
   ]
  },
  {
   "cell_type": "code",
   "execution_count": 77,
   "metadata": {},
   "outputs": [
    {
     "data": {
      "text/plain": [
       "[('Institution name', 'school', 'name', 'autocomplete', 'INSTNM', 'IPEDS', 'Shown/used on consumer website.'),\n",
       " ('City', 'school', 'city', 'autocomplete', 'CITY', 'IPEDS', 'Shown/used on consumer website.'),\n",
       " ('Institution name aliases', 'school', 'alias', 'autocomplete', 'ALIAS', 'IPEDS', None)]"
      ]
     },
     "execution_count": 77,
     "metadata": {},
     "output_type": "execute_result"
    }
   ],
   "source": [
    "conn.execute(autocomplete_query).fetchall()"
   ]
  },
  {
   "cell_type": "code",
   "execution_count": 17,
   "metadata": {
    "collapsed": true,
    "scrolled": false
   },
   "outputs": [],
   "source": [
    "category_query = \"\"\"SELECT DISTINCT\n",
    "                        devcategory\n",
    "                    FROM\n",
    "                        datadefinitions;\"\"\""
   ]
  },
  {
   "cell_type": "code",
   "execution_count": 18,
   "metadata": {
    "collapsed": true
   },
   "outputs": [],
   "source": [
    "categories = [x[0] for x in conn.execute(category_query).fetchall()]"
   ]
  },
  {
   "cell_type": "code",
   "execution_count": 19,
   "metadata": {
    "collapsed": true
   },
   "outputs": [],
   "source": [
    "categories = categories[1:]"
   ]
  },
  {
   "cell_type": "code",
   "execution_count": 71,
   "metadata": {
    "collapsed": true
   },
   "outputs": [],
   "source": [
    "datatype_query = \"\"\"SELECT DISTINCT\n",
    "                        datatype\n",
    "                    FROM\n",
    "                        datadefinitions;\"\"\""
   ]
  },
  {
   "cell_type": "code",
   "execution_count": 72,
   "metadata": {},
   "outputs": [
    {
     "data": {
      "text/plain": [
       "[('integer',), ('string',), ('autocomplete',), ('float',)]"
      ]
     },
     "execution_count": 72,
     "metadata": {},
     "output_type": "execute_result"
    }
   ],
   "source": [
    "conn.execute(datatype_query).fetchall()"
   ]
  },
  {
   "cell_type": "markdown",
   "metadata": {},
   "source": [
    "#### Remove categories with mostly missing data"
   ]
  },
  {
   "cell_type": "code",
   "execution_count": 20,
   "metadata": {},
   "outputs": [
    {
     "data": {
      "text/plain": [
       "['repayment', 'admissions', 'aid', 'student', 'cost', 'school']"
      ]
     },
     "execution_count": 20,
     "metadata": {},
     "output_type": "execute_result"
    }
   ],
   "source": [
    "categories.remove('academics')\n",
    "categories.remove('earnings')\n",
    "categories.remove('completion')\n",
    "categories"
   ]
  },
  {
   "cell_type": "markdown",
   "metadata": {},
   "source": [
    "#### Gather CSV data using API calls"
   ]
  },
  {
   "cell_type": "code",
   "execution_count": 23,
   "metadata": {
    "scrolled": false
   },
   "outputs": [
    {
     "name": "stdout",
     "output_type": "stream",
     "text": [
      "Starting repayment\n",
      "Completed repayment\n",
      "Starting admissions\n",
      "Completed admissions\n",
      "Starting aid\n",
      "Completed aid\n",
      "Starting student\n",
      "Completed student\n",
      "Starting cost\n",
      "Completed cost\n",
      "Starting school\n",
      "Completed school\n"
     ]
    }
   ],
   "source": [
    "for category in categories:\n",
    "    if((category == 'academics') | (category == 'earnings') | (category == 'completion')):\n",
    "        continue\n",
    "    print(\"Starting \"+category)\n",
    "    category_file = os.path.join(data_dir, category + \".csv\")\n",
    "    if not os.path.exists(category_file):\n",
    "        category_df = call_collegesc_api(category, api_key, conn)\n",
    "        category_df.to_csv(category_file)\n",
    "    print(\"Completed \"+category)"
   ]
  },
  {
   "cell_type": "markdown",
   "metadata": {
    "collapsed": true
   },
   "source": [
    "## Check resulting CSV files before filling out SQL Database"
   ]
  },
  {
   "cell_type": "code",
   "execution_count": 93,
   "metadata": {
    "scrolled": false
   },
   "outputs": [
    {
     "name": "stdout",
     "output_type": "stream",
     "text": [
      "repayment\n",
      "<class 'pandas.core.frame.DataFrame'>\n",
      "RangeIndex: 7703 entries, 0 to 7702\n",
      "Data columns (total 3 columns):\n",
      "3_yr_default_rate          7488 non-null float64\n",
      "3_yr_default_rate_denom    7488 non-null float64\n",
      "id                         7703 non-null int64\n",
      "dtypes: float64(2), int64(1)\n",
      "memory usage: 180.6 KB\n",
      "None\n",
      "\n",
      "admissions\n",
      "<class 'pandas.core.frame.DataFrame'>\n",
      "RangeIndex: 7703 entries, 0 to 7702\n",
      "Data columns (total 1 columns):\n",
      "id    7703 non-null int64\n",
      "dtypes: int64(1)\n",
      "memory usage: 60.3 KB\n",
      "None\n",
      "\n",
      "aid\n",
      "<class 'pandas.core.frame.DataFrame'>\n",
      "RangeIndex: 7703 entries, 0 to 7702\n",
      "Data columns (total 3 columns):\n",
      "federal_loan_rate    6806 non-null float64\n",
      "pell_grant_rate      6806 non-null float64\n",
      "id                   7703 non-null int64\n",
      "dtypes: float64(2), int64(1)\n",
      "memory usage: 180.6 KB\n",
      "None\n",
      "\n",
      "student\n",
      "<class 'pandas.core.frame.DataFrame'>\n",
      "RangeIndex: 7703 entries, 0 to 7702\n",
      "Data columns (total 29 columns):\n",
      "FAFSA_applications                                7204 non-null float64\n",
      "avg_dependent_income.2014dollars                  6835 non-null float64\n",
      "avg_independent_income.2014dollars                6835 non-null float64\n",
      "demographics.age_entry                            7204 non-null float64\n",
      "demographics.avg_family_income                    7204 non-null float64\n",
      "demographics.avg_family_income_independents       6835 non-null float64\n",
      "demographics.dependent                            6829 non-null float64\n",
      "demographics.median_family_income                 7204 non-null float64\n",
      "demographics.men                                  6833 non-null float64\n",
      "demographics.race_ethnicity.aian                  6833 non-null float64\n",
      "demographics.race_ethnicity.asian                 6833 non-null float64\n",
      "demographics.race_ethnicity.black                 6833 non-null float64\n",
      "demographics.race_ethnicity.hispanic              6833 non-null float64\n",
      "demographics.race_ethnicity.nhpi                  6833 non-null float64\n",
      "demographics.race_ethnicity.non_resident_alien    6833 non-null float64\n",
      "demographics.race_ethnicity.two_or_more           6833 non-null float64\n",
      "demographics.race_ethnicity.unknown               6833 non-null float64\n",
      "demographics.race_ethnicity.white                 6833 non-null float64\n",
      "demographics.women                                6833 non-null float64\n",
      "family_income.dependent_                          6835 non-null float64\n",
      "family_income.independent_                        6835 non-null float64\n",
      "family_income.overall                             7204 non-null float64\n",
      "part_time_share                                   6818 non-null float64\n",
      "share_25_older                                    6828 non-null float64\n",
      "share_independent_                                6829 non-null float64\n",
      "share_lowincome.0_30000                           6897 non-null float64\n",
      "size                                              6833 non-null float64\n",
      "valid_dependency_status                           7204 non-null float64\n",
      "id                                                7703 non-null int64\n",
      "dtypes: float64(28), int64(1)\n",
      "memory usage: 1.7 MB\n",
      "None\n",
      "\n",
      "cost\n",
      "<class 'pandas.core.frame.DataFrame'>\n",
      "RangeIndex: 7703 entries, 0 to 7702\n",
      "Data columns (total 1 columns):\n",
      "id    7703 non-null int64\n",
      "dtypes: int64(1)\n",
      "memory usage: 60.3 KB\n",
      "None\n",
      "\n",
      "school\n",
      "<class 'pandas.core.frame.DataFrame'>\n",
      "RangeIndex: 7703 entries, 0 to 7702\n",
      "Data columns (total 37 columns):\n",
      "id                                      7703 non-null int64\n",
      "location.lat                            7703 non-null float64\n",
      "location.lon                            7703 non-null float64\n",
      "accreditor                              6805 non-null object\n",
      "branches                                7703 non-null int64\n",
      "carnegie_basic                          7282 non-null float64\n",
      "carnegie_size_setting                   7282 non-null float64\n",
      "carnegie_undergrad                      7282 non-null float64\n",
      "city                                    7703 non-null object\n",
      "degrees_awarded.highest                 7703 non-null int64\n",
      "degrees_awarded.predominant             7703 non-null int64\n",
      "institutional_characteristics.level     7703 non-null int64\n",
      "instructional_expenditure_per_fte       7270 non-null float64\n",
      "locale                                  7282 non-null float64\n",
      "main_campus                             7703 non-null int64\n",
      "men_only                                7282 non-null float64\n",
      "minority_serving.aanipi                 7282 non-null float64\n",
      "minority_serving.annh                   7282 non-null float64\n",
      "minority_serving.hispanic               7282 non-null float64\n",
      "minority_serving.historically_black     7282 non-null float64\n",
      "minority_serving.nant                   7282 non-null float64\n",
      "minority_serving.predominantly_black    7282 non-null float64\n",
      "minority_serving.tribal                 7282 non-null float64\n",
      "name                                    7703 non-null object\n",
      "online_only                             7282 non-null float64\n",
      "operating                               7703 non-null int64\n",
      "ownership                               7703 non-null int64\n",
      "price_calculator_url                    7158 non-null object\n",
      "region_id                               7703 non-null int64\n",
      "religious_affiliation                   7109 non-null float64\n",
      "url                                     7626 non-null object\n",
      "state                                   7703 non-null object\n",
      "state_fips                              7703 non-null int64\n",
      "tuition_revenue_per_fte                 7270 non-null float64\n",
      "under_investigation                     7703 non-null int64\n",
      "women_only                              7282 non-null float64\n",
      "zip                                     7703 non-null int64\n",
      "dtypes: float64(19), int64(12), object(6)\n",
      "memory usage: 2.2+ MB\n",
      "None\n",
      "\n"
     ]
    }
   ],
   "source": [
    "for category in categories:\n",
    "    cat_file = os.path.join(data_dir, category+'.csv')\n",
    "    category_df = pd.read_csv(cat_file)\n",
    "    print(category)\n",
    "    print(check_highnull_columns(category_df, threshold=1000))\n",
    "    print()\n",
    "    "
   ]
  },
  {
   "cell_type": "markdown",
   "metadata": {
    "collapsed": true
   },
   "source": [
    "Not worth using admissions or cost"
   ]
  },
  {
   "cell_type": "code",
   "execution_count": 68,
   "metadata": {
    "scrolled": false
   },
   "outputs": [],
   "source": [
    "sql_table_cat = list(categories)"
   ]
  },
  {
   "cell_type": "code",
   "execution_count": 69,
   "metadata": {},
   "outputs": [],
   "source": [
    "sql_table_cat.remove('admissions')\n",
    "sql_table_cat.remove('cost')"
   ]
  },
  {
   "cell_type": "code",
   "execution_count": 70,
   "metadata": {
    "scrolled": false
   },
   "outputs": [
    {
     "data": {
      "text/plain": [
       "['repayment', 'aid', 'student', 'school']"
      ]
     },
     "execution_count": 70,
     "metadata": {},
     "output_type": "execute_result"
    }
   ],
   "source": [
    "sql_table_cat"
   ]
  },
  {
   "cell_type": "code",
   "execution_count": 79,
   "metadata": {
    "collapsed": true
   },
   "outputs": [],
   "source": [
    "datatype_query = \"\"\"SELECT \n",
    "                        developername, datatype\n",
    "                    FROM\n",
    "                        datadefinitions\n",
    "                    WHERE\n",
    "                        devcategory = 'aid'\n",
    "                 \"\"\""
   ]
  },
  {
   "cell_type": "code",
   "execution_count": 81,
   "metadata": {},
   "outputs": [],
   "source": [
    "type_defs = conn.execute(datatype_query).fetchall()"
   ]
  },
  {
   "cell_type": "code",
   "execution_count": 82,
   "metadata": {},
   "outputs": [],
   "source": [
    "fields = [x[0] for x in type_defs]\n",
    "entries = [sql_type_dict[x[1]] for x in type_defs]"
   ]
  },
  {
   "cell_type": "code",
   "execution_count": 83,
   "metadata": {},
   "outputs": [],
   "source": [
    "type_def_dict = dict(zip(fields, entries))"
   ]
  },
  {
   "cell_type": "code",
   "execution_count": 84,
   "metadata": {},
   "outputs": [
    {
     "data": {
      "text/plain": [
       "{'cumulative_debt.10th_percentile': 'integer',\n",
       " 'cumulative_debt.25th_percentile': 'integer',\n",
       " 'cumulative_debt.75th_percentile': 'integer',\n",
       " 'cumulative_debt.90th_percentile': 'integer',\n",
       " 'cumulative_debt.number': 'integer',\n",
       " 'federal_loan_rate': 'real',\n",
       " 'loan_principal': 'real',\n",
       " 'median_debt.completers.monthly_payments': 'real',\n",
       " 'median_debt.completers.overall': 'real',\n",
       " 'median_debt.dependent_students': 'real',\n",
       " 'median_debt.female_students': 'real',\n",
       " 'median_debt.first_generation_students': 'real',\n",
       " 'median_debt.income.0_30000': 'real',\n",
       " 'median_debt.income.30001_75000': 'real',\n",
       " 'median_debt.income.greater_than_75000': 'real',\n",
       " 'median_debt.independent_students': 'real',\n",
       " 'median_debt.male_students': 'real',\n",
       " 'median_debt.no_pell_grant': 'real',\n",
       " 'median_debt.non_first_generation_students': 'real',\n",
       " 'median_debt.noncompleters': 'real',\n",
       " 'median_debt.number.completers': 'integer',\n",
       " 'median_debt.number.dependent_students': 'integer',\n",
       " 'median_debt.number.female_students': 'integer',\n",
       " 'median_debt.number.first_generation_students': 'integer',\n",
       " 'median_debt.number.income.0_30000': 'integer',\n",
       " 'median_debt.number.income.30001_75000': 'integer',\n",
       " 'median_debt.number.income.greater_than_75000': 'integer',\n",
       " 'median_debt.number.independent_students': 'integer',\n",
       " 'median_debt.number.male_students': 'integer',\n",
       " 'median_debt.number.no_pell_grant': 'integer',\n",
       " 'median_debt.number.non_first_generation_students': 'integer',\n",
       " 'median_debt.number.noncompleters': 'integer',\n",
       " 'median_debt.number.overall': 'integer',\n",
       " 'median_debt.number.pell_grant': 'integer',\n",
       " 'median_debt.pell_grant': 'real',\n",
       " 'median_debt_suppressed.completers.monthly_payments': 'real',\n",
       " 'median_debt_suppressed.completers.overall': 'real',\n",
       " 'median_debt_suppressed.overall': 'real',\n",
       " 'pell_grant_rate': 'real',\n",
       " 'students_with_any_loan': 'real'}"
      ]
     },
     "execution_count": 84,
     "metadata": {},
     "output_type": "execute_result"
    }
   ],
   "source": [
    "type_def_dict"
   ]
  },
  {
   "cell_type": "code",
   "execution_count": null,
   "metadata": {},
   "outputs": [],
   "source": []
  },
  {
   "cell_type": "code",
   "execution_count": null,
   "metadata": {},
   "outputs": [],
   "source": []
  },
  {
   "cell_type": "code",
   "execution_count": null,
   "metadata": {
    "collapsed": true
   },
   "outputs": [],
   "source": []
  },
  {
   "cell_type": "code",
   "execution_count": null,
   "metadata": {
    "collapsed": true,
    "scrolled": false
   },
   "outputs": [],
   "source": []
  },
  {
   "cell_type": "code",
   "execution_count": null,
   "metadata": {},
   "outputs": [],
   "source": []
  },
  {
   "cell_type": "code",
   "execution_count": null,
   "metadata": {
    "collapsed": true
   },
   "outputs": [],
   "source": []
  },
  {
   "cell_type": "code",
   "execution_count": null,
   "metadata": {
    "collapsed": true
   },
   "outputs": [],
   "source": []
  },
  {
   "cell_type": "code",
   "execution_count": null,
   "metadata": {
    "collapsed": true
   },
   "outputs": [],
   "source": []
  },
  {
   "cell_type": "code",
   "execution_count": null,
   "metadata": {
    "collapsed": true
   },
   "outputs": [],
   "source": []
  },
  {
   "cell_type": "code",
   "execution_count": null,
   "metadata": {
    "collapsed": true
   },
   "outputs": [],
   "source": []
  },
  {
   "cell_type": "code",
   "execution_count": null,
   "metadata": {
    "collapsed": true
   },
   "outputs": [],
   "source": []
  },
  {
   "cell_type": "code",
   "execution_count": null,
   "metadata": {
    "collapsed": true
   },
   "outputs": [],
   "source": []
  },
  {
   "cell_type": "code",
   "execution_count": null,
   "metadata": {
    "collapsed": true
   },
   "outputs": [],
   "source": []
  },
  {
   "cell_type": "code",
   "execution_count": null,
   "metadata": {
    "collapsed": true
   },
   "outputs": [],
   "source": []
  },
  {
   "cell_type": "code",
   "execution_count": null,
   "metadata": {
    "collapsed": true
   },
   "outputs": [],
   "source": []
  },
  {
   "cell_type": "code",
   "execution_count": null,
   "metadata": {
    "collapsed": true
   },
   "outputs": [],
   "source": []
  },
  {
   "cell_type": "code",
   "execution_count": null,
   "metadata": {
    "collapsed": true
   },
   "outputs": [],
   "source": []
  },
  {
   "cell_type": "code",
   "execution_count": null,
   "metadata": {
    "collapsed": true
   },
   "outputs": [],
   "source": []
  },
  {
   "cell_type": "code",
   "execution_count": null,
   "metadata": {
    "collapsed": true
   },
   "outputs": [],
   "source": []
  },
  {
   "cell_type": "code",
   "execution_count": null,
   "metadata": {
    "collapsed": true
   },
   "outputs": [],
   "source": []
  },
  {
   "cell_type": "code",
   "execution_count": null,
   "metadata": {
    "collapsed": true
   },
   "outputs": [],
   "source": []
  }
 ],
 "metadata": {
  "kernelspec": {
   "display_name": "Python 3",
   "language": "python",
   "name": "python3"
  },
  "language_info": {
   "codemirror_mode": {
    "name": "ipython",
    "version": 3
   },
   "file_extension": ".py",
   "mimetype": "text/x-python",
   "name": "python",
   "nbconvert_exporter": "python",
   "pygments_lexer": "ipython3",
   "version": "3.6.1"
  }
 },
 "nbformat": 4,
 "nbformat_minor": 2
}
