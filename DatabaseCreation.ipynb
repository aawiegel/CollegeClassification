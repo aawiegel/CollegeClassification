{
 "cells": [
  {
   "cell_type": "code",
   "execution_count": 1,
   "metadata": {
    "collapsed": true
   },
   "outputs": [],
   "source": [
    "from sqlalchemy import create_engine\n",
    "import os\n",
    "import time\n",
    "import requests\n",
    "import numpy as np\n",
    "import pandas as pd\n",
    "import matplotlib.pyplot as plt\n",
    "import seaborn as sns\n",
    "\n",
    "# Load API key for data.gov\n",
    "\n",
    "with open('data_gov_api.txt', 'r') as file:\n",
    "    api_key = file.read().split('\\n')[0] # Remove new line\n",
    "\n",
    "conn = create_engine('postgresql://ubuntu@52.53.236.232:5432/collegesc')\n",
    "\n",
    "data_dir = os.path.join(os.path.curdir, \"data\")\n",
    "if not os.path.exists(data_dir):\n",
    "    os.makedirs(data_dir)"
   ]
  },
  {
   "cell_type": "markdown",
   "metadata": {},
   "source": [
    "## Helper functions and dictionaries"
   ]
  },
  {
   "cell_type": "code",
   "execution_count": 2,
   "metadata": {
    "collapsed": true
   },
   "outputs": [],
   "source": [
    "def find_max_string_length(pd_series):\n",
    "    \"\"\"\n",
    "    For string column in pandas Series, find the maximum length of thes string\n",
    "    \"\"\"\n",
    "    return pd_series.map(lambda x: len(str(x))).max()\n",
    "\n",
    "def call_collegesc_api(category, api_key, conn, per_page = 50, year = 2013):\n",
    "    \"\"\"\n",
    "    category: the category to be downloaded\n",
    "    api_key: key for the college sc api\n",
    "    conn: sql_alchemy engine for querying data definitions\n",
    "    per_page: number of entries per api call (max: 100)\n",
    "    year: year to be called (default: 2013)\n",
    "    calls the college scordcard api given a particular category\n",
    "    and returns a dataframe transformed from json\n",
    "    \"\"\"\n",
    "    sql_query = \"\"\"SELECT\n",
    "                    developername\n",
    "                FROM \n",
    "                    datadefinitions \n",
    "                WHERE devcategory ='\"\"\"\n",
    "    \n",
    "    sql_query += category+\"';\"\n",
    "    \n",
    "    fields = [fields[0] for fields in conn.execute(sql_query).fetchall()]\n",
    "\n",
    "    \n",
    "    if(category == \"school\"):\n",
    "        join_string = \",\" + category + \".\"\n",
    "        fields_string = \"id,location.lat,location.lon\" + join_string + join_string.join(fields)\n",
    "    elif(category == \"academics\"):\n",
    "        join_string = \",\" + category + \".\"\n",
    "        fields_string = \"id\" + join_string + join_string.join(fields)\n",
    "    else:\n",
    "        join_string = \",\" + str(year) + \".\" + category + \".\"\n",
    "        fields_string = \"id\" + join_string + join_string.join(fields)\n",
    "    \n",
    "    college_sc_url = 'https://api.data.gov/ed/collegescorecard/v1/schools.json'\n",
    "    api_query = {'api_key' : api_key, '_fields' : fields_string, '_per_page' : per_page}\n",
    "    \n",
    "    \n",
    "\n",
    "    req = requests.get(college_sc_url, params=api_query)\n",
    "    print(req)\n",
    "    \n",
    "    pages = req.json()[\"metadata\"][\"total\"] // per_page\n",
    "    \n",
    "    category_df = pd.DataFrame(req.json()[\"results\"])\n",
    "    \n",
    "    for page in range(1, pages+1):\n",
    "        \n",
    "        api_query[\"_page\"] = page\n",
    "        i = 0\n",
    "        while (i < 10):\n",
    "            try:\n",
    "                req = requests.get(college_sc_url, params=api_query)\n",
    "        \n",
    "                temp_df = pd.DataFrame(req.json()[\"results\"])\n",
    "        \n",
    "                category_df = category_df.append(temp_df)\n",
    "                \n",
    "                i = 0\n",
    "                break\n",
    "            except:\n",
    "                print(\"Connection or query error\")\n",
    "                print(req)\n",
    "                i += 1\n",
    "                time.sleep(2)\n",
    "        \n",
    "        time.sleep(2)\n",
    "    \n",
    "    category_df = category_df.reset_index(drop=True)\n",
    "    \n",
    "    category_df.columns = category_df.columns.str.replace(category+\"\\.\", \"\", n = 1)\n",
    "    category_df.columns = category_df.columns.str.replace(str(year)+\"\\.\", \"\", n = 1)\n",
    "        \n",
    "    \n",
    "    return category_df\n",
    "    \n",
    "def check_highnull_columns(df, threshold=1000):\n",
    "    \"\"\"\n",
    "    takes a dataframe and checks which columns\n",
    "    have lower than threshold nulls\n",
    "    returns partial dataframe info with columns with low nulls\n",
    "    \"\"\"\n",
    "    return df.loc[:, df.isnull().sum() < threshold].info()\n",
    "\n",
    "sql_type_dict = {'integer' : 'integer', 'float' : 'real', 'string' : 'text', 'autocomplete' : 'text'}\n",
    "\n",
    "def create_datetype_dict(conn, category, type_dict):\n",
    "    \"\"\"\n",
    "    Generates sql query to conn with category to get\n",
    "    API data categories and convert to Postgres types\n",
    "    with type dictionary\n",
    "    Returns type dictionary for that category to generate\n",
    "    SQL table\n",
    "    \"\"\"\n",
    "    \n",
    "    datatype_query = \"\"\"SELECT \n",
    "                        developername, datatype\n",
    "                    FROM\n",
    "                        datadefinitions\n",
    "                    WHERE\n",
    "                        devcategory = '\"\"\"\n",
    "                    \n",
    "    datatype_query += category+\"';\"\n",
    "    \n",
    "    type_defs = conn.execute(datatype_query).fetchall()\n",
    "    \n",
    "    fields = [x[0] for x in type_defs]\n",
    "    entries = [type_dict[x[1]] for x in type_defs]\n",
    "    \n",
    "    sql_type_def_dict = dict(zip(fields, entries))\n",
    "    sql_type_def_dict['id'] = 'integer'\n",
    "    \n",
    "    return sql_type_def_dict\n",
    "    "
   ]
  },
  {
   "cell_type": "markdown",
   "metadata": {},
   "source": [
    "## Download College Scorecard Data Dictionary"
   ]
  },
  {
   "cell_type": "code",
   "execution_count": 3,
   "metadata": {
    "collapsed": true
   },
   "outputs": [],
   "source": [
    "\n",
    "\n",
    "data_dict_url = \"https://collegescorecard.ed.gov/assets/CollegeScorecardDataDictionary.xlsx\"\n",
    "\n",
    "data_dict_file = data_dict_url.split('/')[-1]\n",
    "\n",
    "data_dict_path = os.path.join(data_dir, data_dict_file)\n",
    "\n",
    "if not os.path.exists(data_dict_path):\n",
    "    req = requests.get(data_dict_url)\n",
    "    \n",
    "    with open(data_dict_path, 'wb') as file:\n",
    "        file.write(req.content)\n"
   ]
  },
  {
   "cell_type": "markdown",
   "metadata": {},
   "source": [
    "## Load into memory and create table to define variables"
   ]
  },
  {
   "cell_type": "code",
   "execution_count": 113,
   "metadata": {
    "collapsed": true
   },
   "outputs": [],
   "source": [
    "sc_data_dict = pd.read_excel(data_dict_path, sheetname='data_dictionary')"
   ]
  },
  {
   "cell_type": "code",
   "execution_count": 114,
   "metadata": {
    "scrolled": false
   },
   "outputs": [
    {
     "data": {
      "text/plain": [
       "NAME OF DATA ELEMENT       Percentage of degrees awarded in Architecture ...\n",
       "dev-category                                                       academics\n",
       "developer-friendly name                      program_percentage.architecture\n",
       "API data type                                                          float\n",
       "VARIABLE NAME                                                         PCIP04\n",
       "VALUE                                                                    NaN\n",
       "LABEL                                      Architecture and Related Services\n",
       "SOURCE                                                                 IPEDS\n",
       "NOTES                                        Shown/used on consumer website.\n",
       "Name: 300, dtype: object"
      ]
     },
     "execution_count": 114,
     "metadata": {},
     "output_type": "execute_result"
    }
   ],
   "source": [
    "sc_data_dict.iloc[300]"
   ]
  },
  {
   "cell_type": "code",
   "execution_count": 115,
   "metadata": {},
   "outputs": [
    {
     "data": {
      "text/html": [
       "<div>\n",
       "<style>\n",
       "    .dataframe thead tr:only-child th {\n",
       "        text-align: right;\n",
       "    }\n",
       "\n",
       "    .dataframe thead th {\n",
       "        text-align: left;\n",
       "    }\n",
       "\n",
       "    .dataframe tbody tr th {\n",
       "        vertical-align: top;\n",
       "    }\n",
       "</style>\n",
       "<table border=\"1\" class=\"dataframe\">\n",
       "  <thead>\n",
       "    <tr style=\"text-align: right;\">\n",
       "      <th></th>\n",
       "      <th>NAME OF DATA ELEMENT</th>\n",
       "      <th>dev-category</th>\n",
       "      <th>developer-friendly name</th>\n",
       "      <th>API data type</th>\n",
       "      <th>VARIABLE NAME</th>\n",
       "      <th>VALUE</th>\n",
       "      <th>LABEL</th>\n",
       "      <th>SOURCE</th>\n",
       "      <th>NOTES</th>\n",
       "    </tr>\n",
       "  </thead>\n",
       "  <tbody>\n",
       "    <tr>\n",
       "      <th>25</th>\n",
       "      <td>Control of institution</td>\n",
       "      <td>school</td>\n",
       "      <td>ownership</td>\n",
       "      <td>integer</td>\n",
       "      <td>CONTROL</td>\n",
       "      <td>1.0</td>\n",
       "      <td>Public</td>\n",
       "      <td>IPEDS</td>\n",
       "      <td>Shown/used on consumer website.</td>\n",
       "    </tr>\n",
       "    <tr>\n",
       "      <th>26</th>\n",
       "      <td>NaN</td>\n",
       "      <td>school</td>\n",
       "      <td>NaN</td>\n",
       "      <td>NaN</td>\n",
       "      <td>NaN</td>\n",
       "      <td>2.0</td>\n",
       "      <td>Private nonprofit</td>\n",
       "      <td>NaN</td>\n",
       "      <td>NaN</td>\n",
       "    </tr>\n",
       "    <tr>\n",
       "      <th>27</th>\n",
       "      <td>NaN</td>\n",
       "      <td>school</td>\n",
       "      <td>NaN</td>\n",
       "      <td>NaN</td>\n",
       "      <td>NaN</td>\n",
       "      <td>3.0</td>\n",
       "      <td>Private for-profit</td>\n",
       "      <td>NaN</td>\n",
       "      <td>NaN</td>\n",
       "    </tr>\n",
       "  </tbody>\n",
       "</table>\n",
       "</div>"
      ],
      "text/plain": [
       "      NAME OF DATA ELEMENT dev-category developer-friendly name API data type  \\\n",
       "25  Control of institution       school               ownership       integer   \n",
       "26                     NaN       school                     NaN           NaN   \n",
       "27                     NaN       school                     NaN           NaN   \n",
       "\n",
       "   VARIABLE NAME  VALUE               LABEL SOURCE  \\\n",
       "25       CONTROL    1.0              Public  IPEDS   \n",
       "26           NaN    2.0   Private nonprofit    NaN   \n",
       "27           NaN    3.0  Private for-profit    NaN   \n",
       "\n",
       "                              NOTES  \n",
       "25  Shown/used on consumer website.  \n",
       "26                              NaN  \n",
       "27                              NaN  "
      ]
     },
     "execution_count": 115,
     "metadata": {},
     "output_type": "execute_result"
    }
   ],
   "source": [
    "sc_data_dict.iloc[25:28, :]"
   ]
  },
  {
   "cell_type": "code",
   "execution_count": null,
   "metadata": {
    "collapsed": true
   },
   "outputs": [],
   "source": []
  },
  {
   "cell_type": "code",
   "execution_count": 116,
   "metadata": {
    "collapsed": true
   },
   "outputs": [],
   "source": [
    "sc_data_dict_nv = sc_data_dict.drop(['VALUE', 'LABEL'], axis = 1)"
   ]
  },
  {
   "cell_type": "code",
   "execution_count": 117,
   "metadata": {
    "collapsed": true
   },
   "outputs": [],
   "source": [
    "sc_data_dict_nv.columns = ['Name', 'DevCategory', 'DeveloperName', 'DataType', 'VarName', 'Source', 'Notes']"
   ]
  },
  {
   "cell_type": "code",
   "execution_count": 118,
   "metadata": {
    "collapsed": true
   },
   "outputs": [],
   "source": [
    "sc_data_dict_nv = sc_data_dict_nv[sc_data_dict_nv['Name'].notnull()]"
   ]
  },
  {
   "cell_type": "code",
   "execution_count": 119,
   "metadata": {},
   "outputs": [
    {
     "name": "stdout",
     "output_type": "stream",
     "text": [
      "<class 'pandas.core.frame.DataFrame'>\n",
      "Int64Index: 1734 entries, 0 to 1974\n",
      "Data columns (total 7 columns):\n",
      "Name             1734 non-null object\n",
      "DevCategory      1734 non-null object\n",
      "DeveloperName    1734 non-null object\n",
      "DataType         1734 non-null object\n",
      "VarName          1734 non-null object\n",
      "Source           1734 non-null object\n",
      "Notes            274 non-null object\n",
      "dtypes: object(7)\n",
      "memory usage: 108.4+ KB\n"
     ]
    }
   ],
   "source": [
    "sc_data_dict_nv.info()"
   ]
  },
  {
   "cell_type": "markdown",
   "metadata": {},
   "source": [
    "### Find maximum string length in each column so we can define SQL table"
   ]
  },
  {
   "cell_type": "code",
   "execution_count": 120,
   "metadata": {
    "collapsed": true
   },
   "outputs": [],
   "source": [
    "string_length_dict = dict()\n",
    "for column in sc_data_dict_nv.columns:\n",
    "    string_length_dict[column] = find_max_string_length(sc_data_dict_nv[column])"
   ]
  },
  {
   "cell_type": "code",
   "execution_count": 109,
   "metadata": {
    "collapsed": true
   },
   "outputs": [],
   "source": [
    "sc_data_dict_nv.to_csv('datadef.csv', index=False)"
   ]
  },
  {
   "cell_type": "code",
   "execution_count": 121,
   "metadata": {
    "collapsed": true
   },
   "outputs": [],
   "source": [
    "\n",
    "query = \"\"\"CREATE TABLE IF NOT EXISTS datadefinitions (\n",
    "\"\"\"\n",
    "for column, length in string_length_dict.items():\n",
    "    query += column + \" varchar(\"+str(length)+\") DEFAULT NULL,\\n\"\n",
    "    \n",
    "query += \"\"\"\n",
    "PRIMARY KEY (developername)\n",
    ");\"\"\""
   ]
  },
  {
   "cell_type": "code",
   "execution_count": 122,
   "metadata": {},
   "outputs": [
    {
     "data": {
      "text/plain": [
       "'CREATE TABLE IF NOT EXISTS datadefinitions (\\nName varchar(229) DEFAULT NULL,\\nDevCategory varchar(10) DEFAULT NULL,\\nDeveloperName varchar(73) DEFAULT NULL,\\nDataType varchar(12) DEFAULT NULL,\\nVarName varchar(32) DEFAULT NULL,\\nSource varchar(11) DEFAULT NULL,\\nNotes varchar(2109) DEFAULT NULL,\\n\\nPRIMARY KEY (developername)\\n);'"
      ]
     },
     "execution_count": 122,
     "metadata": {},
     "output_type": "execute_result"
    }
   ],
   "source": [
    "query"
   ]
  },
  {
   "cell_type": "code",
   "execution_count": 112,
   "metadata": {},
   "outputs": [
    {
     "data": {
      "text/plain": [
       "<sqlalchemy.engine.result.ResultProxy at 0x7f54e18d8358>"
      ]
     },
     "execution_count": 112,
     "metadata": {},
     "output_type": "execute_result"
    }
   ],
   "source": [
    "conn.execute(query)"
   ]
  },
  {
   "cell_type": "code",
   "execution_count": 130,
   "metadata": {
    "collapsed": true
   },
   "outputs": [],
   "source": [
    "query2 = \"\"\"COPY \n",
    "                datadefinitions\n",
    "            FROM \n",
    "                '/home/ubuntu/Notebooks/CollegeClassification/datadef.csv'\n",
    "            DELIMITER ',' CSV HEADER;\"\"\""
   ]
  },
  {
   "cell_type": "code",
   "execution_count": 131,
   "metadata": {},
   "outputs": [
    {
     "data": {
      "text/plain": [
       "<sqlalchemy.engine.result.ResultProxy at 0x7f54e2e7eda0>"
      ]
     },
     "execution_count": 131,
     "metadata": {},
     "output_type": "execute_result"
    }
   ],
   "source": [
    "conn.execute(query2)"
   ]
  },
  {
   "cell_type": "code",
   "execution_count": null,
   "metadata": {
    "collapsed": true
   },
   "outputs": [],
   "source": []
  },
  {
   "cell_type": "code",
   "execution_count": 14,
   "metadata": {
    "collapsed": true
   },
   "outputs": [],
   "source": [
    "query3 = \"\"\"SELECT * FROM datadefinitions;\"\"\""
   ]
  },
  {
   "cell_type": "code",
   "execution_count": 15,
   "metadata": {
    "collapsed": true
   },
   "outputs": [],
   "source": [
    "data_definitions = pd.read_sql_query(query3, conn)"
   ]
  },
  {
   "cell_type": "markdown",
   "metadata": {},
   "source": [
    "## Use API to gather data for 2013"
   ]
  },
  {
   "cell_type": "code",
   "execution_count": 4,
   "metadata": {
    "collapsed": true
   },
   "outputs": [],
   "source": [
    "datatype_query = \"\"\"SELECT\n",
    "                        *\n",
    "                    FROM \n",
    "                        datadefinitions\n",
    "                    WHERE\n",
    "                        devcategory='root';\"\"\""
   ]
  },
  {
   "cell_type": "code",
   "execution_count": 5,
   "metadata": {},
   "outputs": [
    {
     "data": {
      "text/plain": [
       "[('Unit ID for institution', 'root', 'id', 'integer', 'UNITID', 'IPEDS', 'Shown/used on consumer website.'),\n",
       " ('8-digit OPE ID for institution', 'root', 'ope8_id', 'integer', 'OPEID', 'IPEDS', 'Shown/used on consumer website.'),\n",
       " ('6-digit OPE ID for institution', 'root', 'ope6_id', 'integer', 'OPEID6', 'IPEDS', 'Shown/used on consumer website.'),\n",
       " ('Latitude', 'root', 'location.lat', 'float', 'LATITUDE', 'IPEDS', None),\n",
       " ('Longitude', 'root', 'location.lon', 'float', 'LONGITUDE', 'IPEDS', None)]"
      ]
     },
     "execution_count": 5,
     "metadata": {},
     "output_type": "execute_result"
    }
   ],
   "source": [
    "conn.execute(datatype_query).fetchall()"
   ]
  },
  {
   "cell_type": "code",
   "execution_count": 217,
   "metadata": {
    "collapsed": true
   },
   "outputs": [],
   "source": [
    "autocomplete_query = \"\"\"SELECT\n",
    "                            *\n",
    "                        FROM\n",
    "                            datadefinitions\n",
    "                        WHERE\n",
    "                            datatype='autocomplete'\"\"\""
   ]
  },
  {
   "cell_type": "code",
   "execution_count": 218,
   "metadata": {},
   "outputs": [
    {
     "data": {
      "text/plain": [
       "[('Institution name', 'school', 'name', 'autocomplete', 'INSTNM', 'IPEDS', 'Shown/used on consumer website.'),\n",
       " ('City', 'school', 'city', 'autocomplete', 'CITY', 'IPEDS', 'Shown/used on consumer website.'),\n",
       " ('Institution name aliases', 'school', 'alias', 'autocomplete', 'ALIAS', 'IPEDS', None)]"
      ]
     },
     "execution_count": 218,
     "metadata": {},
     "output_type": "execute_result"
    }
   ],
   "source": [
    "conn.execute(autocomplete_query).fetchall()"
   ]
  },
  {
   "cell_type": "code",
   "execution_count": 3,
   "metadata": {
    "collapsed": true,
    "scrolled": false
   },
   "outputs": [],
   "source": [
    "category_query = \"\"\"SELECT DISTINCT\n",
    "                        devcategory\n",
    "                    FROM\n",
    "                        datadefinitions;\"\"\""
   ]
  },
  {
   "cell_type": "code",
   "execution_count": 4,
   "metadata": {
    "collapsed": true
   },
   "outputs": [],
   "source": [
    "categories = [x[0] for x in conn.execute(category_query).fetchall()]"
   ]
  },
  {
   "cell_type": "code",
   "execution_count": 5,
   "metadata": {
    "collapsed": true
   },
   "outputs": [],
   "source": [
    "categories = categories[1:]"
   ]
  },
  {
   "cell_type": "code",
   "execution_count": 222,
   "metadata": {
    "collapsed": true
   },
   "outputs": [],
   "source": [
    "datatype_query = \"\"\"SELECT DISTINCT\n",
    "                        datatype\n",
    "                    FROM\n",
    "                        datadefinitions;\"\"\""
   ]
  },
  {
   "cell_type": "code",
   "execution_count": 223,
   "metadata": {},
   "outputs": [
    {
     "data": {
      "text/plain": [
       "[('integer',), ('string',), ('autocomplete',), ('float',)]"
      ]
     },
     "execution_count": 223,
     "metadata": {},
     "output_type": "execute_result"
    }
   ],
   "source": [
    "conn.execute(datatype_query).fetchall()"
   ]
  },
  {
   "cell_type": "markdown",
   "metadata": {},
   "source": [
    "#### Remove categories with mostly missing data"
   ]
  },
  {
   "cell_type": "code",
   "execution_count": 6,
   "metadata": {},
   "outputs": [
    {
     "data": {
      "text/plain": [
       "['repayment', 'aid', 'student', 'school']"
      ]
     },
     "execution_count": 6,
     "metadata": {},
     "output_type": "execute_result"
    }
   ],
   "source": [
    "categories.remove('academics')\n",
    "categories.remove('earnings')\n",
    "categories.remove('completion')\n",
    "categories.remove('admissions')\n",
    "categories.remove('cost')\n",
    "categories"
   ]
  },
  {
   "cell_type": "markdown",
   "metadata": {},
   "source": [
    "#### Gather CSV data using API calls"
   ]
  },
  {
   "cell_type": "code",
   "execution_count": 10,
   "metadata": {
    "scrolled": false
   },
   "outputs": [
    {
     "name": "stdout",
     "output_type": "stream",
     "text": [
      "Starting repayment\n",
      "<Response [200]>\n",
      "Completed repayment\n",
      "Starting aid\n",
      "<Response [200]>\n",
      "Completed aid\n",
      "Starting student\n",
      "Completed student\n",
      "Starting school\n",
      "Completed school\n"
     ]
    }
   ],
   "source": [
    "for category in categories:\n",
    "    print(\"Starting \"+category)\n",
    "    category_file = os.path.join(data_dir, category + \".csv\")\n",
    "    if not os.path.exists(category_file):\n",
    "        category_df = call_collegesc_api(category, api_key, conn)\n",
    "        category_df.to_csv(category_file, index=False)\n",
    "    print(\"Completed \"+category)"
   ]
  },
  {
   "cell_type": "markdown",
   "metadata": {
    "collapsed": true
   },
   "source": [
    "## Check resulting CSV files before filling out SQL Database"
   ]
  },
  {
   "cell_type": "code",
   "execution_count": 7,
   "metadata": {
    "scrolled": false
   },
   "outputs": [
    {
     "name": "stdout",
     "output_type": "stream",
     "text": [
      "repayment\n",
      "<class 'pandas.core.frame.DataFrame'>\n",
      "RangeIndex: 7703 entries, 0 to 7702\n",
      "Data columns (total 3 columns):\n",
      "3_yr_default_rate          7488 non-null float64\n",
      "3_yr_default_rate_denom    7488 non-null float64\n",
      "id                         7703 non-null int64\n",
      "dtypes: float64(2), int64(1)\n",
      "memory usage: 180.6 KB\n",
      "None\n",
      "\n",
      "aid\n",
      "<class 'pandas.core.frame.DataFrame'>\n",
      "RangeIndex: 7703 entries, 0 to 7702\n",
      "Data columns (total 3 columns):\n",
      "federal_loan_rate    6806 non-null float64\n",
      "pell_grant_rate      6806 non-null float64\n",
      "id                   7703 non-null int64\n",
      "dtypes: float64(2), int64(1)\n",
      "memory usage: 180.6 KB\n",
      "None\n",
      "\n",
      "student\n",
      "<class 'pandas.core.frame.DataFrame'>\n",
      "RangeIndex: 7703 entries, 0 to 7702\n",
      "Data columns (total 29 columns):\n",
      "FAFSA_applications                                7204 non-null float64\n",
      "avg_dependent_income.2014dollars                  6835 non-null float64\n",
      "avg_independent_income.2014dollars                6835 non-null float64\n",
      "demographics.age_entry                            7204 non-null float64\n",
      "demographics.avg_family_income                    7204 non-null float64\n",
      "demographics.avg_family_income_independents       6835 non-null float64\n",
      "demographics.dependent                            6829 non-null float64\n",
      "demographics.median_family_income                 7204 non-null float64\n",
      "demographics.men                                  6833 non-null float64\n",
      "demographics.race_ethnicity.aian                  6833 non-null float64\n",
      "demographics.race_ethnicity.asian                 6833 non-null float64\n",
      "demographics.race_ethnicity.black                 6833 non-null float64\n",
      "demographics.race_ethnicity.hispanic              6833 non-null float64\n",
      "demographics.race_ethnicity.nhpi                  6833 non-null float64\n",
      "demographics.race_ethnicity.non_resident_alien    6833 non-null float64\n",
      "demographics.race_ethnicity.two_or_more           6833 non-null float64\n",
      "demographics.race_ethnicity.unknown               6833 non-null float64\n",
      "demographics.race_ethnicity.white                 6833 non-null float64\n",
      "demographics.women                                6833 non-null float64\n",
      "family_income.dependent_students                  6835 non-null float64\n",
      "family_income.independent_students                6835 non-null float64\n",
      "family_income.overall                             7204 non-null float64\n",
      "part_time_share                                   6818 non-null float64\n",
      "share_25_older                                    6828 non-null float64\n",
      "share_independent_students                        6829 non-null float64\n",
      "share_lowincome.0_30000                           6897 non-null float64\n",
      "size                                              6833 non-null float64\n",
      "valid_dependency_status                           7204 non-null float64\n",
      "id                                                7703 non-null int64\n",
      "dtypes: float64(28), int64(1)\n",
      "memory usage: 1.7 MB\n",
      "None\n",
      "\n",
      "school\n",
      "<class 'pandas.core.frame.DataFrame'>\n",
      "RangeIndex: 7703 entries, 0 to 7702\n",
      "Data columns (total 37 columns):\n",
      "id                                      7703 non-null int64\n",
      "location.lat                            7703 non-null float64\n",
      "location.lon                            7703 non-null float64\n",
      "accreditor                              6805 non-null object\n",
      "branches                                7703 non-null int64\n",
      "carnegie_basic                          7282 non-null float64\n",
      "carnegie_size_setting                   7282 non-null float64\n",
      "carnegie_undergrad                      7282 non-null float64\n",
      "city                                    7703 non-null object\n",
      "degrees_awarded.highest                 7703 non-null int64\n",
      "degrees_awarded.predominant             7703 non-null int64\n",
      "institutional_characteristics.level     7703 non-null int64\n",
      "instructional_expenditure_per_fte       7270 non-null float64\n",
      "locale                                  7282 non-null float64\n",
      "main_campus                             7703 non-null int64\n",
      "men_only                                7282 non-null float64\n",
      "minority_serving.aanipi                 7282 non-null float64\n",
      "minority_serving.annh                   7282 non-null float64\n",
      "minority_serving.hispanic               7282 non-null float64\n",
      "minority_serving.historically_black     7282 non-null float64\n",
      "minority_serving.nant                   7282 non-null float64\n",
      "minority_serving.predominantly_black    7282 non-null float64\n",
      "minority_serving.tribal                 7282 non-null float64\n",
      "name                                    7703 non-null object\n",
      "online_only                             7282 non-null float64\n",
      "operating                               7703 non-null int64\n",
      "ownership                               7703 non-null int64\n",
      "price_calculator_url                    7158 non-null object\n",
      "region_id                               7703 non-null int64\n",
      "religious_affiliation                   7109 non-null float64\n",
      "url                                     7626 non-null object\n",
      "state                                   7703 non-null object\n",
      "state_fips                              7703 non-null int64\n",
      "tuition_revenue_per_fte                 7270 non-null float64\n",
      "under_investigation                     7703 non-null int64\n",
      "women_only                              7282 non-null float64\n",
      "zip                                     7703 non-null int64\n",
      "dtypes: float64(19), int64(12), object(6)\n",
      "memory usage: 2.2+ MB\n",
      "None\n",
      "\n"
     ]
    }
   ],
   "source": [
    "for category in categories:\n",
    "    cat_file = os.path.join(data_dir, category+'.csv')\n",
    "    category_df = pd.read_csv(cat_file)\n",
    "    print(category)\n",
    "    print(check_highnull_columns(category_df, threshold=1000))\n",
    "    print()\n",
    "    "
   ]
  },
  {
   "cell_type": "markdown",
   "metadata": {
    "collapsed": true
   },
   "source": [
    "Not worth using admissions or cost"
   ]
  },
  {
   "cell_type": "code",
   "execution_count": 68,
   "metadata": {
    "collapsed": true,
    "scrolled": false
   },
   "outputs": [],
   "source": [
    "sql_table_cat = list(categories)"
   ]
  },
  {
   "cell_type": "code",
   "execution_count": 69,
   "metadata": {
    "collapsed": true
   },
   "outputs": [],
   "source": [
    "sql_table_cat.remove('admissions')\n",
    "sql_table_cat.remove('cost')"
   ]
  },
  {
   "cell_type": "code",
   "execution_count": 70,
   "metadata": {
    "scrolled": false
   },
   "outputs": [
    {
     "data": {
      "text/plain": [
       "['repayment', 'aid', 'student', 'school']"
      ]
     },
     "execution_count": 70,
     "metadata": {},
     "output_type": "execute_result"
    }
   ],
   "source": [
    "sql_table_cat"
   ]
  },
  {
   "cell_type": "markdown",
   "metadata": {},
   "source": [
    "#### Create tables (Do not use this, pandas converted intergers with nan to floats)"
   ]
  },
  {
   "cell_type": "code",
   "execution_count": 127,
   "metadata": {
    "collapsed": true,
    "scrolled": false
   },
   "outputs": [],
   "source": [
    "# for category in sql_table_cat:\n",
    "#     prim_key = 'id'\n",
    "#     if (category == 'school'):\n",
    "#         prim_key += \",zip\"\n",
    "\n",
    "#     cat_type_dict = create_datetype_dict(conn, category, sql_type_dict)\n",
    "#     cat_create_query = \"CREATE TABLE IF NOT EXISTS \"+ category +\" (\\n \"\n",
    "\n",
    "#     for field, var_type in cat_type_dict.items():\n",
    "#         cat_create_query += '\"'+ field + '\" ' + var_type + ' DEFAULT NULL,\\n '\n",
    "\n",
    "#     cat_create_query += \"PRIMARY KEY (\"+prim_key+\")\\n);\"\n",
    "#     conn.execute(cat_create_query)"
   ]
  },
  {
   "cell_type": "markdown",
   "metadata": {
    "collapsed": true
   },
   "source": [
    "#### Fill tables with CSV"
   ]
  },
  {
   "cell_type": "code",
   "execution_count": 258,
   "metadata": {},
   "outputs": [
    {
     "name": "stdout",
     "output_type": "stream",
     "text": [
      "repayment\n",
      "aid\n",
      "student\n",
      "school\n"
     ]
    }
   ],
   "source": [
    "for category in sql_table_cat:\n",
    "    print(category)\n",
    "    category_path = os.path.join(data_dir, category+'.csv')\n",
    "    category_df = pd.read_csv(category_path)\n",
    "    try:\n",
    "        category_df.to_sql(category, conn, if_exists='fail')\n",
    "    except:\n",
    "        print(category+\" was already added.\")\n",
    "    "
   ]
  },
  {
   "cell_type": "markdown",
   "metadata": {},
   "source": [
    "#### Verify table contents"
   ]
  },
  {
   "cell_type": "code",
   "execution_count": 302,
   "metadata": {
    "collapsed": true,
    "scrolled": false
   },
   "outputs": [],
   "source": [
    "example_select = \"\"\"SELECT * FROM student LIMIT 10;\"\"\""
   ]
  },
  {
   "cell_type": "code",
   "execution_count": 303,
   "metadata": {},
   "outputs": [
    {
     "data": {
      "text/html": [
       "<div>\n",
       "<style>\n",
       "    .dataframe thead tr:only-child th {\n",
       "        text-align: right;\n",
       "    }\n",
       "\n",
       "    .dataframe thead th {\n",
       "        text-align: left;\n",
       "    }\n",
       "\n",
       "    .dataframe tbody tr th {\n",
       "        vertical-align: top;\n",
       "    }\n",
       "</style>\n",
       "<table border=\"1\" class=\"dataframe\">\n",
       "  <thead>\n",
       "    <tr style=\"text-align: right;\">\n",
       "      <th></th>\n",
       "      <th>index</th>\n",
       "      <th>FAFSA_applications</th>\n",
       "      <th>avg_dependent_income.2014dollars</th>\n",
       "      <th>avg_independent_income.2014dollars</th>\n",
       "      <th>demographics.age_entry</th>\n",
       "      <th>demographics.age_entry_squared</th>\n",
       "      <th>demographics.avg_family_income</th>\n",
       "      <th>demographics.avg_family_income_independents</th>\n",
       "      <th>demographics.avg_family_income_independents_log</th>\n",
       "      <th>demographics.avg_family_income_log</th>\n",
       "      <th>...</th>\n",
       "      <th>share_independent_middleincome.30001_48000</th>\n",
       "      <th>share_independent_middleincome.48001_75000</th>\n",
       "      <th>share_independent_students</th>\n",
       "      <th>share_lowincome.0_30000</th>\n",
       "      <th>share_middleincome.30001_48000</th>\n",
       "      <th>share_middleincome.48001_75000</th>\n",
       "      <th>size</th>\n",
       "      <th>students_with_pell_grant</th>\n",
       "      <th>valid_dependency_status</th>\n",
       "      <th>id</th>\n",
       "    </tr>\n",
       "  </thead>\n",
       "  <tbody>\n",
       "    <tr>\n",
       "      <th>0</th>\n",
       "      <td>0</td>\n",
       "      <td>37421.0</td>\n",
       "      <td>45932.0</td>\n",
       "      <td>17369.0</td>\n",
       "      <td>29.0</td>\n",
       "      <td>None</td>\n",
       "      <td>26794.0</td>\n",
       "      <td>17369.0</td>\n",
       "      <td>None</td>\n",
       "      <td>None</td>\n",
       "      <td>...</td>\n",
       "      <td>0.103817</td>\n",
       "      <td>0.046185</td>\n",
       "      <td>0.670025</td>\n",
       "      <td>0.719943</td>\n",
       "      <td>0.126186</td>\n",
       "      <td>0.079608</td>\n",
       "      <td>168.0</td>\n",
       "      <td>0.837150</td>\n",
       "      <td>37421.0</td>\n",
       "      <td>121983</td>\n",
       "    </tr>\n",
       "    <tr>\n",
       "      <th>1</th>\n",
       "      <td>1</td>\n",
       "      <td>NaN</td>\n",
       "      <td>NaN</td>\n",
       "      <td>NaN</td>\n",
       "      <td>NaN</td>\n",
       "      <td>None</td>\n",
       "      <td>NaN</td>\n",
       "      <td>NaN</td>\n",
       "      <td>None</td>\n",
       "      <td>None</td>\n",
       "      <td>...</td>\n",
       "      <td>NaN</td>\n",
       "      <td>NaN</td>\n",
       "      <td>NaN</td>\n",
       "      <td>NaN</td>\n",
       "      <td>NaN</td>\n",
       "      <td>NaN</td>\n",
       "      <td>14.0</td>\n",
       "      <td>NaN</td>\n",
       "      <td>NaN</td>\n",
       "      <td>120838</td>\n",
       "    </tr>\n",
       "    <tr>\n",
       "      <th>2</th>\n",
       "      <td>2</td>\n",
       "      <td>172178.0</td>\n",
       "      <td>32702.0</td>\n",
       "      <td>23550.0</td>\n",
       "      <td>31.0</td>\n",
       "      <td>None</td>\n",
       "      <td>24342.0</td>\n",
       "      <td>23550.0</td>\n",
       "      <td>None</td>\n",
       "      <td>None</td>\n",
       "      <td>...</td>\n",
       "      <td>0.138113</td>\n",
       "      <td>0.075208</td>\n",
       "      <td>0.913415</td>\n",
       "      <td>0.734078</td>\n",
       "      <td>0.136853</td>\n",
       "      <td>0.077385</td>\n",
       "      <td>479.0</td>\n",
       "      <td>0.874490</td>\n",
       "      <td>172178.0</td>\n",
       "      <td>434973</td>\n",
       "    </tr>\n",
       "    <tr>\n",
       "      <th>3</th>\n",
       "      <td>3</td>\n",
       "      <td>496.0</td>\n",
       "      <td>15027.0</td>\n",
       "      <td>9831.0</td>\n",
       "      <td>27.0</td>\n",
       "      <td>None</td>\n",
       "      <td>11643.0</td>\n",
       "      <td>9831.0</td>\n",
       "      <td>None</td>\n",
       "      <td>None</td>\n",
       "      <td>...</td>\n",
       "      <td>NaN</td>\n",
       "      <td>NaN</td>\n",
       "      <td>0.651210</td>\n",
       "      <td>0.927419</td>\n",
       "      <td>NaN</td>\n",
       "      <td>NaN</td>\n",
       "      <td>711.0</td>\n",
       "      <td>NaN</td>\n",
       "      <td>496.0</td>\n",
       "      <td>436012</td>\n",
       "    </tr>\n",
       "    <tr>\n",
       "      <th>4</th>\n",
       "      <td>4</td>\n",
       "      <td>NaN</td>\n",
       "      <td>NaN</td>\n",
       "      <td>NaN</td>\n",
       "      <td>NaN</td>\n",
       "      <td>None</td>\n",
       "      <td>NaN</td>\n",
       "      <td>NaN</td>\n",
       "      <td>None</td>\n",
       "      <td>None</td>\n",
       "      <td>...</td>\n",
       "      <td>NaN</td>\n",
       "      <td>NaN</td>\n",
       "      <td>NaN</td>\n",
       "      <td>NaN</td>\n",
       "      <td>NaN</td>\n",
       "      <td>NaN</td>\n",
       "      <td>NaN</td>\n",
       "      <td>NaN</td>\n",
       "      <td>NaN</td>\n",
       "      <td>436021</td>\n",
       "    </tr>\n",
       "    <tr>\n",
       "      <th>5</th>\n",
       "      <td>5</td>\n",
       "      <td>197.0</td>\n",
       "      <td>34769.0</td>\n",
       "      <td>12148.0</td>\n",
       "      <td>25.0</td>\n",
       "      <td>None</td>\n",
       "      <td>20301.0</td>\n",
       "      <td>12148.0</td>\n",
       "      <td>None</td>\n",
       "      <td>None</td>\n",
       "      <td>...</td>\n",
       "      <td>NaN</td>\n",
       "      <td>NaN</td>\n",
       "      <td>0.639594</td>\n",
       "      <td>0.761421</td>\n",
       "      <td>0.126904</td>\n",
       "      <td>NaN</td>\n",
       "      <td>39.0</td>\n",
       "      <td>0.923858</td>\n",
       "      <td>197.0</td>\n",
       "      <td>436030</td>\n",
       "    </tr>\n",
       "    <tr>\n",
       "      <th>6</th>\n",
       "      <td>6</td>\n",
       "      <td>73.0</td>\n",
       "      <td>39116.0</td>\n",
       "      <td>15608.0</td>\n",
       "      <td>27.0</td>\n",
       "      <td>None</td>\n",
       "      <td>20438.0</td>\n",
       "      <td>15608.0</td>\n",
       "      <td>None</td>\n",
       "      <td>None</td>\n",
       "      <td>...</td>\n",
       "      <td>NaN</td>\n",
       "      <td>NaN</td>\n",
       "      <td>0.794521</td>\n",
       "      <td>0.767123</td>\n",
       "      <td>NaN</td>\n",
       "      <td>NaN</td>\n",
       "      <td>47.0</td>\n",
       "      <td>NaN</td>\n",
       "      <td>73.0</td>\n",
       "      <td>436067</td>\n",
       "    </tr>\n",
       "    <tr>\n",
       "      <th>7</th>\n",
       "      <td>7</td>\n",
       "      <td>8413.0</td>\n",
       "      <td>25448.0</td>\n",
       "      <td>10916.0</td>\n",
       "      <td>28.0</td>\n",
       "      <td>None</td>\n",
       "      <td>14239.0</td>\n",
       "      <td>10916.0</td>\n",
       "      <td>None</td>\n",
       "      <td>None</td>\n",
       "      <td>...</td>\n",
       "      <td>0.056557</td>\n",
       "      <td>0.016952</td>\n",
       "      <td>0.771306</td>\n",
       "      <td>0.880780</td>\n",
       "      <td>0.071913</td>\n",
       "      <td>0.027695</td>\n",
       "      <td>624.0</td>\n",
       "      <td>0.945798</td>\n",
       "      <td>8413.0</td>\n",
       "      <td>436191</td>\n",
       "    </tr>\n",
       "    <tr>\n",
       "      <th>8</th>\n",
       "      <td>8</td>\n",
       "      <td>4349.0</td>\n",
       "      <td>44674.0</td>\n",
       "      <td>19834.0</td>\n",
       "      <td>27.0</td>\n",
       "      <td>None</td>\n",
       "      <td>28995.0</td>\n",
       "      <td>19834.0</td>\n",
       "      <td>None</td>\n",
       "      <td>None</td>\n",
       "      <td>...</td>\n",
       "      <td>0.115847</td>\n",
       "      <td>0.050273</td>\n",
       "      <td>0.631180</td>\n",
       "      <td>0.694642</td>\n",
       "      <td>0.138423</td>\n",
       "      <td>0.086227</td>\n",
       "      <td>158.0</td>\n",
       "      <td>0.791676</td>\n",
       "      <td>4349.0</td>\n",
       "      <td>436270</td>\n",
       "    </tr>\n",
       "    <tr>\n",
       "      <th>9</th>\n",
       "      <td>9</td>\n",
       "      <td>NaN</td>\n",
       "      <td>NaN</td>\n",
       "      <td>NaN</td>\n",
       "      <td>NaN</td>\n",
       "      <td>None</td>\n",
       "      <td>NaN</td>\n",
       "      <td>NaN</td>\n",
       "      <td>None</td>\n",
       "      <td>None</td>\n",
       "      <td>...</td>\n",
       "      <td>NaN</td>\n",
       "      <td>NaN</td>\n",
       "      <td>NaN</td>\n",
       "      <td>NaN</td>\n",
       "      <td>NaN</td>\n",
       "      <td>NaN</td>\n",
       "      <td>NaN</td>\n",
       "      <td>NaN</td>\n",
       "      <td>NaN</td>\n",
       "      <td>164915</td>\n",
       "    </tr>\n",
       "  </tbody>\n",
       "</table>\n",
       "<p>10 rows × 98 columns</p>\n",
       "</div>"
      ],
      "text/plain": [
       "   index  FAFSA_applications  avg_dependent_income.2014dollars  \\\n",
       "0      0             37421.0                           45932.0   \n",
       "1      1                 NaN                               NaN   \n",
       "2      2            172178.0                           32702.0   \n",
       "3      3               496.0                           15027.0   \n",
       "4      4                 NaN                               NaN   \n",
       "5      5               197.0                           34769.0   \n",
       "6      6                73.0                           39116.0   \n",
       "7      7              8413.0                           25448.0   \n",
       "8      8              4349.0                           44674.0   \n",
       "9      9                 NaN                               NaN   \n",
       "\n",
       "   avg_independent_income.2014dollars  demographics.age_entry  \\\n",
       "0                             17369.0                    29.0   \n",
       "1                                 NaN                     NaN   \n",
       "2                             23550.0                    31.0   \n",
       "3                              9831.0                    27.0   \n",
       "4                                 NaN                     NaN   \n",
       "5                             12148.0                    25.0   \n",
       "6                             15608.0                    27.0   \n",
       "7                             10916.0                    28.0   \n",
       "8                             19834.0                    27.0   \n",
       "9                                 NaN                     NaN   \n",
       "\n",
       "  demographics.age_entry_squared  demographics.avg_family_income  \\\n",
       "0                           None                         26794.0   \n",
       "1                           None                             NaN   \n",
       "2                           None                         24342.0   \n",
       "3                           None                         11643.0   \n",
       "4                           None                             NaN   \n",
       "5                           None                         20301.0   \n",
       "6                           None                         20438.0   \n",
       "7                           None                         14239.0   \n",
       "8                           None                         28995.0   \n",
       "9                           None                             NaN   \n",
       "\n",
       "   demographics.avg_family_income_independents  \\\n",
       "0                                      17369.0   \n",
       "1                                          NaN   \n",
       "2                                      23550.0   \n",
       "3                                       9831.0   \n",
       "4                                          NaN   \n",
       "5                                      12148.0   \n",
       "6                                      15608.0   \n",
       "7                                      10916.0   \n",
       "8                                      19834.0   \n",
       "9                                          NaN   \n",
       "\n",
       "  demographics.avg_family_income_independents_log  \\\n",
       "0                                            None   \n",
       "1                                            None   \n",
       "2                                            None   \n",
       "3                                            None   \n",
       "4                                            None   \n",
       "5                                            None   \n",
       "6                                            None   \n",
       "7                                            None   \n",
       "8                                            None   \n",
       "9                                            None   \n",
       "\n",
       "  demographics.avg_family_income_log   ...    \\\n",
       "0                               None   ...     \n",
       "1                               None   ...     \n",
       "2                               None   ...     \n",
       "3                               None   ...     \n",
       "4                               None   ...     \n",
       "5                               None   ...     \n",
       "6                               None   ...     \n",
       "7                               None   ...     \n",
       "8                               None   ...     \n",
       "9                               None   ...     \n",
       "\n",
       "   share_independent_middleincome.30001_48000  \\\n",
       "0                                    0.103817   \n",
       "1                                         NaN   \n",
       "2                                    0.138113   \n",
       "3                                         NaN   \n",
       "4                                         NaN   \n",
       "5                                         NaN   \n",
       "6                                         NaN   \n",
       "7                                    0.056557   \n",
       "8                                    0.115847   \n",
       "9                                         NaN   \n",
       "\n",
       "   share_independent_middleincome.48001_75000  share_independent_students  \\\n",
       "0                                    0.046185                    0.670025   \n",
       "1                                         NaN                         NaN   \n",
       "2                                    0.075208                    0.913415   \n",
       "3                                         NaN                    0.651210   \n",
       "4                                         NaN                         NaN   \n",
       "5                                         NaN                    0.639594   \n",
       "6                                         NaN                    0.794521   \n",
       "7                                    0.016952                    0.771306   \n",
       "8                                    0.050273                    0.631180   \n",
       "9                                         NaN                         NaN   \n",
       "\n",
       "   share_lowincome.0_30000  share_middleincome.30001_48000  \\\n",
       "0                 0.719943                        0.126186   \n",
       "1                      NaN                             NaN   \n",
       "2                 0.734078                        0.136853   \n",
       "3                 0.927419                             NaN   \n",
       "4                      NaN                             NaN   \n",
       "5                 0.761421                        0.126904   \n",
       "6                 0.767123                             NaN   \n",
       "7                 0.880780                        0.071913   \n",
       "8                 0.694642                        0.138423   \n",
       "9                      NaN                             NaN   \n",
       "\n",
       "  share_middleincome.48001_75000   size  students_with_pell_grant  \\\n",
       "0                       0.079608  168.0                  0.837150   \n",
       "1                            NaN   14.0                       NaN   \n",
       "2                       0.077385  479.0                  0.874490   \n",
       "3                            NaN  711.0                       NaN   \n",
       "4                            NaN    NaN                       NaN   \n",
       "5                            NaN   39.0                  0.923858   \n",
       "6                            NaN   47.0                       NaN   \n",
       "7                       0.027695  624.0                  0.945798   \n",
       "8                       0.086227  158.0                  0.791676   \n",
       "9                            NaN    NaN                       NaN   \n",
       "\n",
       "  valid_dependency_status      id  \n",
       "0                 37421.0  121983  \n",
       "1                     NaN  120838  \n",
       "2                172178.0  434973  \n",
       "3                   496.0  436012  \n",
       "4                     NaN  436021  \n",
       "5                   197.0  436030  \n",
       "6                    73.0  436067  \n",
       "7                  8413.0  436191  \n",
       "8                  4349.0  436270  \n",
       "9                     NaN  164915  \n",
       "\n",
       "[10 rows x 98 columns]"
      ]
     },
     "execution_count": 303,
     "metadata": {},
     "output_type": "execute_result"
    }
   ],
   "source": [
    "pd.read_sql_query(example_select, conn)"
   ]
  },
  {
   "cell_type": "code",
   "execution_count": 304,
   "metadata": {
    "collapsed": true
   },
   "outputs": [],
   "source": [
    "student_df = pd.read_csv('./data/student.csv')"
   ]
  },
  {
   "cell_type": "code",
   "execution_count": 305,
   "metadata": {},
   "outputs": [
    {
     "data": {
      "text/html": [
       "<div>\n",
       "<style>\n",
       "    .dataframe thead tr:only-child th {\n",
       "        text-align: right;\n",
       "    }\n",
       "\n",
       "    .dataframe thead th {\n",
       "        text-align: left;\n",
       "    }\n",
       "\n",
       "    .dataframe tbody tr th {\n",
       "        vertical-align: top;\n",
       "    }\n",
       "</style>\n",
       "<table border=\"1\" class=\"dataframe\">\n",
       "  <thead>\n",
       "    <tr style=\"text-align: right;\">\n",
       "      <th></th>\n",
       "      <th>FAFSA_applications</th>\n",
       "      <th>avg_dependent_income.2014dollars</th>\n",
       "      <th>avg_independent_income.2014dollars</th>\n",
       "      <th>demographics.age_entry</th>\n",
       "      <th>demographics.age_entry_squared</th>\n",
       "      <th>demographics.avg_family_income</th>\n",
       "      <th>demographics.avg_family_income_independents</th>\n",
       "      <th>demographics.avg_family_income_independents_log</th>\n",
       "      <th>demographics.avg_family_income_log</th>\n",
       "      <th>demographics.dependent</th>\n",
       "      <th>...</th>\n",
       "      <th>share_independent_middleincome.30001_48000</th>\n",
       "      <th>share_independent_middleincome.48001_75000</th>\n",
       "      <th>share_independent_students</th>\n",
       "      <th>share_lowincome.0_30000</th>\n",
       "      <th>share_middleincome.30001_48000</th>\n",
       "      <th>share_middleincome.48001_75000</th>\n",
       "      <th>size</th>\n",
       "      <th>students_with_pell_grant</th>\n",
       "      <th>valid_dependency_status</th>\n",
       "      <th>id</th>\n",
       "    </tr>\n",
       "  </thead>\n",
       "  <tbody>\n",
       "    <tr>\n",
       "      <th>0</th>\n",
       "      <td>37421.0</td>\n",
       "      <td>45932.0</td>\n",
       "      <td>17369.0</td>\n",
       "      <td>29.0</td>\n",
       "      <td>NaN</td>\n",
       "      <td>26794.0</td>\n",
       "      <td>17369.0</td>\n",
       "      <td>NaN</td>\n",
       "      <td>NaN</td>\n",
       "      <td>0.329975</td>\n",
       "      <td>...</td>\n",
       "      <td>0.103817</td>\n",
       "      <td>0.046185</td>\n",
       "      <td>0.670025</td>\n",
       "      <td>0.719943</td>\n",
       "      <td>0.126186</td>\n",
       "      <td>0.079608</td>\n",
       "      <td>168.0</td>\n",
       "      <td>0.837150</td>\n",
       "      <td>37421.0</td>\n",
       "      <td>121983</td>\n",
       "    </tr>\n",
       "    <tr>\n",
       "      <th>1</th>\n",
       "      <td>NaN</td>\n",
       "      <td>NaN</td>\n",
       "      <td>NaN</td>\n",
       "      <td>NaN</td>\n",
       "      <td>NaN</td>\n",
       "      <td>NaN</td>\n",
       "      <td>NaN</td>\n",
       "      <td>NaN</td>\n",
       "      <td>NaN</td>\n",
       "      <td>NaN</td>\n",
       "      <td>...</td>\n",
       "      <td>NaN</td>\n",
       "      <td>NaN</td>\n",
       "      <td>NaN</td>\n",
       "      <td>NaN</td>\n",
       "      <td>NaN</td>\n",
       "      <td>NaN</td>\n",
       "      <td>14.0</td>\n",
       "      <td>NaN</td>\n",
       "      <td>NaN</td>\n",
       "      <td>120838</td>\n",
       "    </tr>\n",
       "    <tr>\n",
       "      <th>2</th>\n",
       "      <td>172178.0</td>\n",
       "      <td>32702.0</td>\n",
       "      <td>23550.0</td>\n",
       "      <td>31.0</td>\n",
       "      <td>NaN</td>\n",
       "      <td>24342.0</td>\n",
       "      <td>23550.0</td>\n",
       "      <td>NaN</td>\n",
       "      <td>NaN</td>\n",
       "      <td>0.086585</td>\n",
       "      <td>...</td>\n",
       "      <td>0.138113</td>\n",
       "      <td>0.075208</td>\n",
       "      <td>0.913415</td>\n",
       "      <td>0.734078</td>\n",
       "      <td>0.136853</td>\n",
       "      <td>0.077385</td>\n",
       "      <td>479.0</td>\n",
       "      <td>0.874490</td>\n",
       "      <td>172178.0</td>\n",
       "      <td>434973</td>\n",
       "    </tr>\n",
       "    <tr>\n",
       "      <th>3</th>\n",
       "      <td>496.0</td>\n",
       "      <td>15027.0</td>\n",
       "      <td>9831.0</td>\n",
       "      <td>27.0</td>\n",
       "      <td>NaN</td>\n",
       "      <td>11643.0</td>\n",
       "      <td>9831.0</td>\n",
       "      <td>NaN</td>\n",
       "      <td>NaN</td>\n",
       "      <td>0.348790</td>\n",
       "      <td>...</td>\n",
       "      <td>NaN</td>\n",
       "      <td>NaN</td>\n",
       "      <td>0.651210</td>\n",
       "      <td>0.927419</td>\n",
       "      <td>NaN</td>\n",
       "      <td>NaN</td>\n",
       "      <td>711.0</td>\n",
       "      <td>NaN</td>\n",
       "      <td>496.0</td>\n",
       "      <td>436012</td>\n",
       "    </tr>\n",
       "    <tr>\n",
       "      <th>4</th>\n",
       "      <td>NaN</td>\n",
       "      <td>NaN</td>\n",
       "      <td>NaN</td>\n",
       "      <td>NaN</td>\n",
       "      <td>NaN</td>\n",
       "      <td>NaN</td>\n",
       "      <td>NaN</td>\n",
       "      <td>NaN</td>\n",
       "      <td>NaN</td>\n",
       "      <td>NaN</td>\n",
       "      <td>...</td>\n",
       "      <td>NaN</td>\n",
       "      <td>NaN</td>\n",
       "      <td>NaN</td>\n",
       "      <td>NaN</td>\n",
       "      <td>NaN</td>\n",
       "      <td>NaN</td>\n",
       "      <td>NaN</td>\n",
       "      <td>NaN</td>\n",
       "      <td>NaN</td>\n",
       "      <td>436021</td>\n",
       "    </tr>\n",
       "    <tr>\n",
       "      <th>5</th>\n",
       "      <td>197.0</td>\n",
       "      <td>34769.0</td>\n",
       "      <td>12148.0</td>\n",
       "      <td>25.0</td>\n",
       "      <td>NaN</td>\n",
       "      <td>20301.0</td>\n",
       "      <td>12148.0</td>\n",
       "      <td>NaN</td>\n",
       "      <td>NaN</td>\n",
       "      <td>0.360406</td>\n",
       "      <td>...</td>\n",
       "      <td>NaN</td>\n",
       "      <td>NaN</td>\n",
       "      <td>0.639594</td>\n",
       "      <td>0.761421</td>\n",
       "      <td>0.126904</td>\n",
       "      <td>NaN</td>\n",
       "      <td>39.0</td>\n",
       "      <td>0.923858</td>\n",
       "      <td>197.0</td>\n",
       "      <td>436030</td>\n",
       "    </tr>\n",
       "    <tr>\n",
       "      <th>6</th>\n",
       "      <td>73.0</td>\n",
       "      <td>39116.0</td>\n",
       "      <td>15608.0</td>\n",
       "      <td>27.0</td>\n",
       "      <td>NaN</td>\n",
       "      <td>20438.0</td>\n",
       "      <td>15608.0</td>\n",
       "      <td>NaN</td>\n",
       "      <td>NaN</td>\n",
       "      <td>0.205479</td>\n",
       "      <td>...</td>\n",
       "      <td>NaN</td>\n",
       "      <td>NaN</td>\n",
       "      <td>0.794521</td>\n",
       "      <td>0.767123</td>\n",
       "      <td>NaN</td>\n",
       "      <td>NaN</td>\n",
       "      <td>47.0</td>\n",
       "      <td>NaN</td>\n",
       "      <td>73.0</td>\n",
       "      <td>436067</td>\n",
       "    </tr>\n",
       "    <tr>\n",
       "      <th>7</th>\n",
       "      <td>8413.0</td>\n",
       "      <td>25448.0</td>\n",
       "      <td>10916.0</td>\n",
       "      <td>28.0</td>\n",
       "      <td>NaN</td>\n",
       "      <td>14239.0</td>\n",
       "      <td>10916.0</td>\n",
       "      <td>NaN</td>\n",
       "      <td>NaN</td>\n",
       "      <td>0.228694</td>\n",
       "      <td>...</td>\n",
       "      <td>0.056557</td>\n",
       "      <td>0.016952</td>\n",
       "      <td>0.771306</td>\n",
       "      <td>0.880780</td>\n",
       "      <td>0.071913</td>\n",
       "      <td>0.027695</td>\n",
       "      <td>624.0</td>\n",
       "      <td>0.945798</td>\n",
       "      <td>8413.0</td>\n",
       "      <td>436191</td>\n",
       "    </tr>\n",
       "    <tr>\n",
       "      <th>8</th>\n",
       "      <td>4349.0</td>\n",
       "      <td>44674.0</td>\n",
       "      <td>19834.0</td>\n",
       "      <td>27.0</td>\n",
       "      <td>NaN</td>\n",
       "      <td>28995.0</td>\n",
       "      <td>19834.0</td>\n",
       "      <td>NaN</td>\n",
       "      <td>NaN</td>\n",
       "      <td>0.368820</td>\n",
       "      <td>...</td>\n",
       "      <td>0.115847</td>\n",
       "      <td>0.050273</td>\n",
       "      <td>0.631180</td>\n",
       "      <td>0.694642</td>\n",
       "      <td>0.138423</td>\n",
       "      <td>0.086227</td>\n",
       "      <td>158.0</td>\n",
       "      <td>0.791676</td>\n",
       "      <td>4349.0</td>\n",
       "      <td>436270</td>\n",
       "    </tr>\n",
       "    <tr>\n",
       "      <th>9</th>\n",
       "      <td>NaN</td>\n",
       "      <td>NaN</td>\n",
       "      <td>NaN</td>\n",
       "      <td>NaN</td>\n",
       "      <td>NaN</td>\n",
       "      <td>NaN</td>\n",
       "      <td>NaN</td>\n",
       "      <td>NaN</td>\n",
       "      <td>NaN</td>\n",
       "      <td>NaN</td>\n",
       "      <td>...</td>\n",
       "      <td>NaN</td>\n",
       "      <td>NaN</td>\n",
       "      <td>NaN</td>\n",
       "      <td>NaN</td>\n",
       "      <td>NaN</td>\n",
       "      <td>NaN</td>\n",
       "      <td>NaN</td>\n",
       "      <td>NaN</td>\n",
       "      <td>NaN</td>\n",
       "      <td>164915</td>\n",
       "    </tr>\n",
       "  </tbody>\n",
       "</table>\n",
       "<p>10 rows × 97 columns</p>\n",
       "</div>"
      ],
      "text/plain": [
       "   FAFSA_applications  avg_dependent_income.2014dollars  \\\n",
       "0             37421.0                           45932.0   \n",
       "1                 NaN                               NaN   \n",
       "2            172178.0                           32702.0   \n",
       "3               496.0                           15027.0   \n",
       "4                 NaN                               NaN   \n",
       "5               197.0                           34769.0   \n",
       "6                73.0                           39116.0   \n",
       "7              8413.0                           25448.0   \n",
       "8              4349.0                           44674.0   \n",
       "9                 NaN                               NaN   \n",
       "\n",
       "   avg_independent_income.2014dollars  demographics.age_entry  \\\n",
       "0                             17369.0                    29.0   \n",
       "1                                 NaN                     NaN   \n",
       "2                             23550.0                    31.0   \n",
       "3                              9831.0                    27.0   \n",
       "4                                 NaN                     NaN   \n",
       "5                             12148.0                    25.0   \n",
       "6                             15608.0                    27.0   \n",
       "7                             10916.0                    28.0   \n",
       "8                             19834.0                    27.0   \n",
       "9                                 NaN                     NaN   \n",
       "\n",
       "   demographics.age_entry_squared  demographics.avg_family_income  \\\n",
       "0                             NaN                         26794.0   \n",
       "1                             NaN                             NaN   \n",
       "2                             NaN                         24342.0   \n",
       "3                             NaN                         11643.0   \n",
       "4                             NaN                             NaN   \n",
       "5                             NaN                         20301.0   \n",
       "6                             NaN                         20438.0   \n",
       "7                             NaN                         14239.0   \n",
       "8                             NaN                         28995.0   \n",
       "9                             NaN                             NaN   \n",
       "\n",
       "   demographics.avg_family_income_independents  \\\n",
       "0                                      17369.0   \n",
       "1                                          NaN   \n",
       "2                                      23550.0   \n",
       "3                                       9831.0   \n",
       "4                                          NaN   \n",
       "5                                      12148.0   \n",
       "6                                      15608.0   \n",
       "7                                      10916.0   \n",
       "8                                      19834.0   \n",
       "9                                          NaN   \n",
       "\n",
       "   demographics.avg_family_income_independents_log  \\\n",
       "0                                              NaN   \n",
       "1                                              NaN   \n",
       "2                                              NaN   \n",
       "3                                              NaN   \n",
       "4                                              NaN   \n",
       "5                                              NaN   \n",
       "6                                              NaN   \n",
       "7                                              NaN   \n",
       "8                                              NaN   \n",
       "9                                              NaN   \n",
       "\n",
       "   demographics.avg_family_income_log  demographics.dependent   ...    \\\n",
       "0                                 NaN                0.329975   ...     \n",
       "1                                 NaN                     NaN   ...     \n",
       "2                                 NaN                0.086585   ...     \n",
       "3                                 NaN                0.348790   ...     \n",
       "4                                 NaN                     NaN   ...     \n",
       "5                                 NaN                0.360406   ...     \n",
       "6                                 NaN                0.205479   ...     \n",
       "7                                 NaN                0.228694   ...     \n",
       "8                                 NaN                0.368820   ...     \n",
       "9                                 NaN                     NaN   ...     \n",
       "\n",
       "   share_independent_middleincome.30001_48000  \\\n",
       "0                                    0.103817   \n",
       "1                                         NaN   \n",
       "2                                    0.138113   \n",
       "3                                         NaN   \n",
       "4                                         NaN   \n",
       "5                                         NaN   \n",
       "6                                         NaN   \n",
       "7                                    0.056557   \n",
       "8                                    0.115847   \n",
       "9                                         NaN   \n",
       "\n",
       "   share_independent_middleincome.48001_75000  share_independent_students  \\\n",
       "0                                    0.046185                    0.670025   \n",
       "1                                         NaN                         NaN   \n",
       "2                                    0.075208                    0.913415   \n",
       "3                                         NaN                    0.651210   \n",
       "4                                         NaN                         NaN   \n",
       "5                                         NaN                    0.639594   \n",
       "6                                         NaN                    0.794521   \n",
       "7                                    0.016952                    0.771306   \n",
       "8                                    0.050273                    0.631180   \n",
       "9                                         NaN                         NaN   \n",
       "\n",
       "   share_lowincome.0_30000  share_middleincome.30001_48000  \\\n",
       "0                 0.719943                        0.126186   \n",
       "1                      NaN                             NaN   \n",
       "2                 0.734078                        0.136853   \n",
       "3                 0.927419                             NaN   \n",
       "4                      NaN                             NaN   \n",
       "5                 0.761421                        0.126904   \n",
       "6                 0.767123                             NaN   \n",
       "7                 0.880780                        0.071913   \n",
       "8                 0.694642                        0.138423   \n",
       "9                      NaN                             NaN   \n",
       "\n",
       "   share_middleincome.48001_75000   size  students_with_pell_grant  \\\n",
       "0                        0.079608  168.0                  0.837150   \n",
       "1                             NaN   14.0                       NaN   \n",
       "2                        0.077385  479.0                  0.874490   \n",
       "3                             NaN  711.0                       NaN   \n",
       "4                             NaN    NaN                       NaN   \n",
       "5                             NaN   39.0                  0.923858   \n",
       "6                             NaN   47.0                       NaN   \n",
       "7                        0.027695  624.0                  0.945798   \n",
       "8                        0.086227  158.0                  0.791676   \n",
       "9                             NaN    NaN                       NaN   \n",
       "\n",
       "   valid_dependency_status      id  \n",
       "0                  37421.0  121983  \n",
       "1                      NaN  120838  \n",
       "2                 172178.0  434973  \n",
       "3                    496.0  436012  \n",
       "4                      NaN  436021  \n",
       "5                    197.0  436030  \n",
       "6                     73.0  436067  \n",
       "7                   8413.0  436191  \n",
       "8                   4349.0  436270  \n",
       "9                      NaN  164915  \n",
       "\n",
       "[10 rows x 97 columns]"
      ]
     },
     "execution_count": 305,
     "metadata": {},
     "output_type": "execute_result"
    }
   ],
   "source": [
    "student_df.head(10)"
   ]
  },
  {
   "cell_type": "markdown",
   "metadata": {
    "collapsed": true
   },
   "source": [
    "#### Add primary keys to database"
   ]
  },
  {
   "cell_type": "code",
   "execution_count": 283,
   "metadata": {
    "collapsed": true
   },
   "outputs": [],
   "source": [
    "primary_key_add = \"\"\"ALTER TABLE\n",
    "                        student\n",
    "                    ADD PRIMARY KEY\n",
    "                        (id);\"\"\""
   ]
  },
  {
   "cell_type": "code",
   "execution_count": 284,
   "metadata": {},
   "outputs": [
    {
     "data": {
      "text/plain": [
       "<sqlalchemy.engine.result.ResultProxy at 0x7f18c1400860>"
      ]
     },
     "execution_count": 284,
     "metadata": {},
     "output_type": "execute_result"
    }
   ],
   "source": [
    "conn.execute(primary_key_add)"
   ]
  },
  {
   "cell_type": "code",
   "execution_count": 290,
   "metadata": {
    "collapsed": true,
    "scrolled": false
   },
   "outputs": [],
   "source": [
    "primary_key_add_zip = \"\"\"ALTER TABLE\n",
    "                        school\n",
    "                    ADD PRIMARY KEY\n",
    "                        (id,zip);\"\"\" #zip used for later additions to database"
   ]
  },
  {
   "cell_type": "code",
   "execution_count": 291,
   "metadata": {},
   "outputs": [
    {
     "data": {
      "text/plain": [
       "<sqlalchemy.engine.result.ResultProxy at 0x7f18f8551cc0>"
      ]
     },
     "execution_count": 291,
     "metadata": {},
     "output_type": "execute_result"
    }
   ],
   "source": [
    "conn.execute(primary_key_add_zip)"
   ]
  },
  {
   "cell_type": "code",
   "execution_count": 293,
   "metadata": {
    "collapsed": true
   },
   "outputs": [],
   "source": [
    "primary_key_add_aid = \"\"\"ALTER TABLE\n",
    "                        aid\n",
    "                    ADD PRIMARY KEY\n",
    "                        (id);\"\"\""
   ]
  },
  {
   "cell_type": "code",
   "execution_count": 294,
   "metadata": {},
   "outputs": [
    {
     "data": {
      "text/plain": [
       "<sqlalchemy.engine.result.ResultProxy at 0x7f18c44aca58>"
      ]
     },
     "execution_count": 294,
     "metadata": {},
     "output_type": "execute_result"
    }
   ],
   "source": [
    "conn.execute(primary_key_add_aid, conn)"
   ]
  },
  {
   "cell_type": "code",
   "execution_count": 296,
   "metadata": {
    "collapsed": true
   },
   "outputs": [],
   "source": [
    "primary_key_add_rpmt = \"\"\"ALTER TABLE\n",
    "                        repayment\n",
    "                    ADD PRIMARY KEY\n",
    "                        (id);\"\"\""
   ]
  },
  {
   "cell_type": "code",
   "execution_count": 297,
   "metadata": {},
   "outputs": [
    {
     "data": {
      "text/plain": [
       "<sqlalchemy.engine.result.ResultProxy at 0x7f18c2c534a8>"
      ]
     },
     "execution_count": 297,
     "metadata": {},
     "output_type": "execute_result"
    }
   ],
   "source": [
    "conn.execute(primary_key_add_rpmt, conn)"
   ]
  },
  {
   "cell_type": "markdown",
   "metadata": {
    "collapsed": true
   },
   "source": [
    "## Example queries"
   ]
  },
  {
   "cell_type": "code",
   "execution_count": 300,
   "metadata": {
    "collapsed": true
   },
   "outputs": [],
   "source": [
    "select_example = \"\"\"SELECT DISTINCT\n",
    "                        ownership\n",
    "                    FROM\n",
    "                        school;\"\"\""
   ]
  },
  {
   "cell_type": "code",
   "execution_count": 301,
   "metadata": {},
   "outputs": [
    {
     "data": {
      "text/plain": [
       "[(2,), (1,), (3,)]"
      ]
     },
     "execution_count": 301,
     "metadata": {},
     "output_type": "execute_result"
    }
   ],
   "source": [
    "conn.execute(select_example).fetchall()"
   ]
  },
  {
   "cell_type": "code",
   "execution_count": 312,
   "metadata": {
    "collapsed": true
   },
   "outputs": [],
   "source": [
    "join_example = \"\"\"SELECT \n",
    "                      school.ownership, student.\"family_income.overall\"\n",
    "                  FROM\n",
    "                      school\n",
    "                  JOIN\n",
    "                      student\n",
    "                  ON\n",
    "                      school.id=student.id\n",
    "                  LIMIT 10;\"\"\""
   ]
  },
  {
   "cell_type": "code",
   "execution_count": 313,
   "metadata": {
    "scrolled": false
   },
   "outputs": [
    {
     "data": {
      "text/plain": [
       "[(1, 2461.0),\n",
       " (1, 5130.0),\n",
       " (2, 421.0),\n",
       " (1, 2145.0),\n",
       " (1, 3642.0),\n",
       " (1, 9162.0),\n",
       " (1, 1462.0),\n",
       " (1, 1789.0),\n",
       " (1, 2313.0),\n",
       " (1, 4803.0)]"
      ]
     },
     "execution_count": 313,
     "metadata": {},
     "output_type": "execute_result"
    }
   ],
   "source": [
    "conn.execute(join_example).fetchall()"
   ]
  },
  {
   "cell_type": "code",
   "execution_count": 320,
   "metadata": {
    "collapsed": true
   },
   "outputs": [],
   "source": [
    "count_example = \"\"\"SELECT \n",
    "                        COUNT(DISTINCT zip)\n",
    "                   FROM\n",
    "                       school;\"\"\""
   ]
  },
  {
   "cell_type": "code",
   "execution_count": 323,
   "metadata": {},
   "outputs": [
    {
     "data": {
      "text/plain": [
       "5031"
      ]
     },
     "execution_count": 323,
     "metadata": {},
     "output_type": "execute_result"
    }
   ],
   "source": [
    "conn.execute(count_example).fetchall()[0][0]"
   ]
  },
  {
   "cell_type": "code",
   "execution_count": 324,
   "metadata": {
    "collapsed": true
   },
   "outputs": [],
   "source": [
    "count_example2 = \"\"\"SELECT \n",
    "                        COUNT(DISTINCT ownership)\n",
    "                    FROM\n",
    "                       school;\"\"\""
   ]
  },
  {
   "cell_type": "code",
   "execution_count": 325,
   "metadata": {},
   "outputs": [
    {
     "data": {
      "text/plain": [
       "3"
      ]
     },
     "execution_count": 325,
     "metadata": {},
     "output_type": "execute_result"
    }
   ],
   "source": [
    "conn.execute(count_example2).fetchall()[0][0]"
   ]
  },
  {
   "cell_type": "code",
   "execution_count": 329,
   "metadata": {
    "collapsed": true
   },
   "outputs": [],
   "source": [
    "join3_example = \"\"\"SELECT\n",
    "                       school.ownership, \n",
    "                       student.\"demographics.avg_family_income\",\n",
    "                       repayment.\"3_yr_repayment.male_students_rate\"\n",
    "                   FROM \n",
    "                       school \n",
    "                   JOIN student ON school.id=student.id\n",
    "                   JOIN repayment ON student.id=repayment.id\n",
    "                   WHERE\n",
    "                       school.ownership=3\n",
    "                   LIMIT 10;\n",
    "                        \"\"\""
   ]
  },
  {
   "cell_type": "code",
   "execution_count": 330,
   "metadata": {},
   "outputs": [
    {
     "data": {
      "text/plain": [
       "[(3, 26794.0, 19456.0),\n",
       " (3, 24342.0, 236722.0),\n",
       " (3, 20301.0, 58.0),\n",
       " (3, 20438.0, 56.0),\n",
       " (3, 14239.0, 4441.0),\n",
       " (3, 28995.0, 2120.0),\n",
       " (3, 44533.0, 42.0),\n",
       " (3, 9971.0, 0.0),\n",
       " (3, 19059.0, 4531.0),\n",
       " (3, 49147.0, 30.0)]"
      ]
     },
     "execution_count": 330,
     "metadata": {},
     "output_type": "execute_result"
    }
   ],
   "source": [
    "conn.execute(join3_example).fetchall()"
   ]
  },
  {
   "cell_type": "code",
   "execution_count": null,
   "metadata": {
    "collapsed": true
   },
   "outputs": [],
   "source": []
  }
 ],
 "metadata": {
  "kernelspec": {
   "display_name": "Python 3",
   "language": "python",
   "name": "python3"
  },
  "language_info": {
   "codemirror_mode": {
    "name": "ipython",
    "version": 3
   },
   "file_extension": ".py",
   "mimetype": "text/x-python",
   "name": "python",
   "nbconvert_exporter": "python",
   "pygments_lexer": "ipython3",
   "version": "3.6.1"
  }
 },
 "nbformat": 4,
 "nbformat_minor": 2
}
