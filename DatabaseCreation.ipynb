{
 "cells": [
  {
   "cell_type": "code",
   "execution_count": 22,
   "metadata": {
    "collapsed": true
   },
   "outputs": [],
   "source": [
    "from sqlalchemy import create_engine\n",
    "import os\n",
    "import time\n",
    "import requests\n",
    "import numpy as np\n",
    "import pandas as pd\n",
    "import matplotlib.pyplot as plt\n",
    "import seaborn as sns\n",
    "\n",
    "# Load API key for data.gov\n",
    "\n",
    "with open('data_gov_api.txt', 'r') as file:\n",
    "    api_key = file.read().split('\\n')[0] # Remove new line\n",
    "\n",
    "conn = create_engine('postgresql://ubuntu@52.53.236.232:5432/collegesc')\n",
    "\n",
    "data_dir = os.path.join(os.path.curdir, \"data\")\n",
    "if not os.path.exists(data_dir):\n",
    "    os.makedirs(data_dir)"
   ]
  },
  {
   "cell_type": "markdown",
   "metadata": {},
   "source": [
    "## Helper functions and dictionaries"
   ]
  },
  {
   "cell_type": "code",
   "execution_count": 214,
   "metadata": {
    "collapsed": true
   },
   "outputs": [],
   "source": [
    "def find_max_string_length(pd_series):\n",
    "    \"\"\"\n",
    "    For string column in pandas Series, find the maximum length of thes string\n",
    "    \"\"\"\n",
    "    return pd_series.map(lambda x: len(str(x))).max()\n",
    "\n",
    "def call_collegesc_api(category, api_key, conn, per_page = 50, year = 2013):\n",
    "    \"\"\"\n",
    "    category: the category to be downloaded\n",
    "    api_key: key for the college sc api\n",
    "    conn: sql_alchemy engine for querying data definitions\n",
    "    per_page: number of entries per api call (max: 100)\n",
    "    year: year to be called (default: 2013)\n",
    "    calls the college scordcard api given a particular category\n",
    "    and returns a dataframe transformed from json\n",
    "    \"\"\"\n",
    "    sql_query = \"\"\"SELECT\n",
    "                    developername\n",
    "                FROM \n",
    "                    datadefinitions \n",
    "                WHERE devcategory ='\"\"\"\n",
    "    \n",
    "    sql_query += category+\"';\"\n",
    "    \n",
    "    fields = [fields[0] for fields in conn.execute(sql_query).fetchall()]\n",
    "\n",
    "    \n",
    "    if(category == \"school\"):\n",
    "        join_string = \",\" + category + \".\"\n",
    "        fields_string = \"id,location.lat,location.lon\" + join_string + join_string.join(fields)\n",
    "    elif(category == \"academics\"):\n",
    "        join_string = \",\" + category + \".\"\n",
    "        fields_string = \"id\" + join_string + join_string.join(fields)\n",
    "    else:\n",
    "        join_string = \",\" + str(year) + \".\" + category + \".\"\n",
    "        fields_string = \"id\" + join_string + join_string.join(fields)\n",
    "    \n",
    "    college_sc_url = 'https://api.data.gov/ed/collegescorecard/v1/schools.json'\n",
    "    api_query = {'api_key' : api_key, '_fields' : fields_string, '_per_page' : per_page}\n",
    "    \n",
    "    \n",
    "\n",
    "    req = requests.get(college_sc_url, params=api_query)\n",
    "    print(req)\n",
    "    \n",
    "    pages = req.json()[\"metadata\"][\"total\"] // per_page\n",
    "    \n",
    "    category_df = pd.DataFrame(req.json()[\"results\"])\n",
    "    \n",
    "    for page in range(1, pages+1):\n",
    "        \n",
    "        api_query[\"_page\"] = page\n",
    "        i = 0\n",
    "        while (i < 10):\n",
    "            try:\n",
    "                req = requests.get(college_sc_url, params=api_query)\n",
    "        \n",
    "                temp_df = pd.DataFrame(req.json()[\"results\"])\n",
    "        \n",
    "                category_df = category_df.append(temp_df)\n",
    "                \n",
    "                i = 0\n",
    "                break\n",
    "            except:\n",
    "                print(\"Connection or query error\")\n",
    "                print(req)\n",
    "                i += 1\n",
    "                time.sleep(2)\n",
    "        \n",
    "        time.sleep(2)\n",
    "    \n",
    "    category_df = category_df.reset_index(drop=True)\n",
    "    \n",
    "    category_df.columns = category_df.columns.str.replace(category+\"\\.\", \"\", n = 1)\n",
    "    category_df.columns = category_df.columns.str.replace(str(year)+\"\\.\", \"\", n = 1)\n",
    "        \n",
    "    \n",
    "    return category_df\n",
    "    \n",
    "def check_highnull_columns(df, threshold=1000):\n",
    "    \"\"\"\n",
    "    takes a dataframe and checks which columns\n",
    "    have lower than threshold nulls\n",
    "    returns partial dataframe info with columns with low nulls\n",
    "    \"\"\"\n",
    "    return df.loc[:, df.isnull().sum() < threshold].info()\n",
    "\n",
    "sql_type_dict = {'integer' : 'integer', 'float' : 'real', 'string' : 'text', 'autocomplete' : 'text'}\n",
    "\n",
    "def create_datetype_dict(conn, category, type_dict):\n",
    "    \"\"\"\n",
    "    Generates sql query to conn with category to get\n",
    "    API data categories and convert to Postgres types\n",
    "    with type dictionary\n",
    "    Returns type dictionary for that category to generate\n",
    "    SQL table\n",
    "    \"\"\"\n",
    "    \n",
    "    datatype_query = \"\"\"SELECT \n",
    "                        developername, datatype\n",
    "                    FROM\n",
    "                        datadefinitions\n",
    "                    WHERE\n",
    "                        devcategory = '\"\"\"\n",
    "                    \n",
    "    datatype_query += category+\"';\"\n",
    "    \n",
    "    type_defs = conn.execute(datatype_query).fetchall()\n",
    "    \n",
    "    fields = [x[0] for x in type_defs]\n",
    "    entries = [type_dict[x[1]] for x in type_defs]\n",
    "    \n",
    "    sql_type_def_dict = dict(zip(fields, entries))\n",
    "    sql_type_def_dict['id'] = 'integer'\n",
    "    \n",
    "    return sql_type_def_dict\n",
    "    "
   ]
  },
  {
   "cell_type": "markdown",
   "metadata": {},
   "source": [
    "## Download College Scorecard Data Dictionary"
   ]
  },
  {
   "cell_type": "code",
   "execution_count": 111,
   "metadata": {
    "collapsed": true
   },
   "outputs": [],
   "source": [
    "\n",
    "\n",
    "data_dict_url = \"https://collegescorecard.ed.gov/assets/CollegeScorecardDataDictionary.xlsx\"\n",
    "\n",
    "data_dict_file = data_dict_url.split('/')[-1]\n",
    "\n",
    "data_dict_path = os.path.join(data_dir, data_dict_file)\n",
    "\n",
    "if not os.path.exists(data_dict_path):\n",
    "    req = requests.get(data_dict_url)\n",
    "    \n",
    "    with open(data_dict_path, 'wb') as file:\n",
    "        file.write(req.content)\n"
   ]
  },
  {
   "cell_type": "markdown",
   "metadata": {},
   "source": [
    "## Load into memory and create table to define variables"
   ]
  },
  {
   "cell_type": "code",
   "execution_count": 113,
   "metadata": {},
   "outputs": [],
   "source": [
    "sc_data_dict = pd.read_excel(data_dict_path, sheetname='data_dictionary')"
   ]
  },
  {
   "cell_type": "code",
   "execution_count": 114,
   "metadata": {
    "scrolled": false
   },
   "outputs": [
    {
     "data": {
      "text/plain": [
       "NAME OF DATA ELEMENT       Percentage of degrees awarded in Architecture ...\n",
       "dev-category                                                       academics\n",
       "developer-friendly name                      program_percentage.architecture\n",
       "API data type                                                          float\n",
       "VARIABLE NAME                                                         PCIP04\n",
       "VALUE                                                                    NaN\n",
       "LABEL                                      Architecture and Related Services\n",
       "SOURCE                                                                 IPEDS\n",
       "NOTES                                        Shown/used on consumer website.\n",
       "Name: 300, dtype: object"
      ]
     },
     "execution_count": 114,
     "metadata": {},
     "output_type": "execute_result"
    }
   ],
   "source": [
    "sc_data_dict.iloc[300]"
   ]
  },
  {
   "cell_type": "code",
   "execution_count": 115,
   "metadata": {},
   "outputs": [
    {
     "data": {
      "text/html": [
       "<div>\n",
       "<style>\n",
       "    .dataframe thead tr:only-child th {\n",
       "        text-align: right;\n",
       "    }\n",
       "\n",
       "    .dataframe thead th {\n",
       "        text-align: left;\n",
       "    }\n",
       "\n",
       "    .dataframe tbody tr th {\n",
       "        vertical-align: top;\n",
       "    }\n",
       "</style>\n",
       "<table border=\"1\" class=\"dataframe\">\n",
       "  <thead>\n",
       "    <tr style=\"text-align: right;\">\n",
       "      <th></th>\n",
       "      <th>NAME OF DATA ELEMENT</th>\n",
       "      <th>dev-category</th>\n",
       "      <th>developer-friendly name</th>\n",
       "      <th>API data type</th>\n",
       "      <th>VARIABLE NAME</th>\n",
       "      <th>VALUE</th>\n",
       "      <th>LABEL</th>\n",
       "      <th>SOURCE</th>\n",
       "      <th>NOTES</th>\n",
       "    </tr>\n",
       "  </thead>\n",
       "  <tbody>\n",
       "    <tr>\n",
       "      <th>25</th>\n",
       "      <td>Control of institution</td>\n",
       "      <td>school</td>\n",
       "      <td>ownership</td>\n",
       "      <td>integer</td>\n",
       "      <td>CONTROL</td>\n",
       "      <td>1.0</td>\n",
       "      <td>Public</td>\n",
       "      <td>IPEDS</td>\n",
       "      <td>Shown/used on consumer website.</td>\n",
       "    </tr>\n",
       "    <tr>\n",
       "      <th>26</th>\n",
       "      <td>NaN</td>\n",
       "      <td>school</td>\n",
       "      <td>NaN</td>\n",
       "      <td>NaN</td>\n",
       "      <td>NaN</td>\n",
       "      <td>2.0</td>\n",
       "      <td>Private nonprofit</td>\n",
       "      <td>NaN</td>\n",
       "      <td>NaN</td>\n",
       "    </tr>\n",
       "    <tr>\n",
       "      <th>27</th>\n",
       "      <td>NaN</td>\n",
       "      <td>school</td>\n",
       "      <td>NaN</td>\n",
       "      <td>NaN</td>\n",
       "      <td>NaN</td>\n",
       "      <td>3.0</td>\n",
       "      <td>Private for-profit</td>\n",
       "      <td>NaN</td>\n",
       "      <td>NaN</td>\n",
       "    </tr>\n",
       "  </tbody>\n",
       "</table>\n",
       "</div>"
      ],
      "text/plain": [
       "      NAME OF DATA ELEMENT dev-category developer-friendly name API data type  \\\n",
       "25  Control of institution       school               ownership       integer   \n",
       "26                     NaN       school                     NaN           NaN   \n",
       "27                     NaN       school                     NaN           NaN   \n",
       "\n",
       "   VARIABLE NAME  VALUE               LABEL SOURCE  \\\n",
       "25       CONTROL    1.0              Public  IPEDS   \n",
       "26           NaN    2.0   Private nonprofit    NaN   \n",
       "27           NaN    3.0  Private for-profit    NaN   \n",
       "\n",
       "                              NOTES  \n",
       "25  Shown/used on consumer website.  \n",
       "26                              NaN  \n",
       "27                              NaN  "
      ]
     },
     "execution_count": 115,
     "metadata": {},
     "output_type": "execute_result"
    }
   ],
   "source": [
    "sc_data_dict.iloc[25:28, :]"
   ]
  },
  {
   "cell_type": "code",
   "execution_count": null,
   "metadata": {
    "collapsed": true
   },
   "outputs": [],
   "source": []
  },
  {
   "cell_type": "code",
   "execution_count": 116,
   "metadata": {
    "collapsed": true
   },
   "outputs": [],
   "source": [
    "sc_data_dict_nv = sc_data_dict.drop(['VALUE', 'LABEL'], axis = 1)"
   ]
  },
  {
   "cell_type": "code",
   "execution_count": 117,
   "metadata": {
    "collapsed": true
   },
   "outputs": [],
   "source": [
    "sc_data_dict_nv.columns = ['Name', 'DevCategory', 'DeveloperName', 'DataType', 'VarName', 'Source', 'Notes']"
   ]
  },
  {
   "cell_type": "code",
   "execution_count": 118,
   "metadata": {
    "collapsed": true
   },
   "outputs": [],
   "source": [
    "sc_data_dict_nv = sc_data_dict_nv[sc_data_dict_nv['Name'].notnull()]"
   ]
  },
  {
   "cell_type": "code",
   "execution_count": 119,
   "metadata": {},
   "outputs": [
    {
     "name": "stdout",
     "output_type": "stream",
     "text": [
      "<class 'pandas.core.frame.DataFrame'>\n",
      "Int64Index: 1734 entries, 0 to 1974\n",
      "Data columns (total 7 columns):\n",
      "Name             1734 non-null object\n",
      "DevCategory      1734 non-null object\n",
      "DeveloperName    1734 non-null object\n",
      "DataType         1734 non-null object\n",
      "VarName          1734 non-null object\n",
      "Source           1734 non-null object\n",
      "Notes            274 non-null object\n",
      "dtypes: object(7)\n",
      "memory usage: 108.4+ KB\n"
     ]
    }
   ],
   "source": [
    "sc_data_dict_nv.info()"
   ]
  },
  {
   "cell_type": "markdown",
   "metadata": {},
   "source": [
    "### Find maximum string length in each column so we can define SQL table"
   ]
  },
  {
   "cell_type": "code",
   "execution_count": 120,
   "metadata": {},
   "outputs": [],
   "source": [
    "string_length_dict = dict()\n",
    "for column in sc_data_dict_nv.columns:\n",
    "    string_length_dict[column] = find_max_string_length(sc_data_dict_nv[column])"
   ]
  },
  {
   "cell_type": "code",
   "execution_count": 109,
   "metadata": {
    "collapsed": true
   },
   "outputs": [],
   "source": [
    "sc_data_dict_nv.to_csv('datadef.csv', index=False)"
   ]
  },
  {
   "cell_type": "code",
   "execution_count": 121,
   "metadata": {},
   "outputs": [],
   "source": [
    "\n",
    "query = \"\"\"CREATE TABLE IF NOT EXISTS datadefinitions (\n",
    "\"\"\"\n",
    "for column, length in string_length_dict.items():\n",
    "    query += column + \" varchar(\"+str(length)+\") DEFAULT NULL,\\n\"\n",
    "    \n",
    "query += \"\"\"\n",
    "PRIMARY KEY (developername)\n",
    ");\"\"\""
   ]
  },
  {
   "cell_type": "code",
   "execution_count": 122,
   "metadata": {},
   "outputs": [
    {
     "data": {
      "text/plain": [
       "'CREATE TABLE IF NOT EXISTS datadefinitions (\\nName varchar(229) DEFAULT NULL,\\nDevCategory varchar(10) DEFAULT NULL,\\nDeveloperName varchar(73) DEFAULT NULL,\\nDataType varchar(12) DEFAULT NULL,\\nVarName varchar(32) DEFAULT NULL,\\nSource varchar(11) DEFAULT NULL,\\nNotes varchar(2109) DEFAULT NULL,\\n\\nPRIMARY KEY (developername)\\n);'"
      ]
     },
     "execution_count": 122,
     "metadata": {},
     "output_type": "execute_result"
    }
   ],
   "source": [
    "query"
   ]
  },
  {
   "cell_type": "code",
   "execution_count": 112,
   "metadata": {},
   "outputs": [
    {
     "data": {
      "text/plain": [
       "<sqlalchemy.engine.result.ResultProxy at 0x7f54e18d8358>"
      ]
     },
     "execution_count": 112,
     "metadata": {},
     "output_type": "execute_result"
    }
   ],
   "source": [
    "conn.execute(query)"
   ]
  },
  {
   "cell_type": "code",
   "execution_count": 130,
   "metadata": {
    "collapsed": true
   },
   "outputs": [],
   "source": [
    "query2 = \"\"\"COPY \n",
    "                datadefinitions\n",
    "            FROM \n",
    "                '/home/ubuntu/Notebooks/CollegeClassification/datadef.csv'\n",
    "            DELIMITER ',' CSV HEADER;\"\"\""
   ]
  },
  {
   "cell_type": "code",
   "execution_count": 131,
   "metadata": {},
   "outputs": [
    {
     "data": {
      "text/plain": [
       "<sqlalchemy.engine.result.ResultProxy at 0x7f54e2e7eda0>"
      ]
     },
     "execution_count": 131,
     "metadata": {},
     "output_type": "execute_result"
    }
   ],
   "source": [
    "conn.execute(query2)"
   ]
  },
  {
   "cell_type": "code",
   "execution_count": null,
   "metadata": {
    "collapsed": true
   },
   "outputs": [],
   "source": []
  },
  {
   "cell_type": "code",
   "execution_count": 14,
   "metadata": {
    "collapsed": true
   },
   "outputs": [],
   "source": [
    "query3 = \"\"\"SELECT * FROM datadefinitions;\"\"\""
   ]
  },
  {
   "cell_type": "code",
   "execution_count": 15,
   "metadata": {
    "collapsed": true
   },
   "outputs": [],
   "source": [
    "data_definitions = pd.read_sql_query(query3, conn)"
   ]
  },
  {
   "cell_type": "markdown",
   "metadata": {},
   "source": [
    "## Use API to gather data for 2013"
   ]
  },
  {
   "cell_type": "code",
   "execution_count": 215,
   "metadata": {
    "collapsed": true
   },
   "outputs": [],
   "source": [
    "datatype_query = \"\"\"SELECT\n",
    "                        *\n",
    "                    FROM \n",
    "                        datadefinitions\n",
    "                    WHERE\n",
    "                        devcategory='root';\"\"\""
   ]
  },
  {
   "cell_type": "code",
   "execution_count": 216,
   "metadata": {},
   "outputs": [
    {
     "data": {
      "text/plain": [
       "[('Unit ID for institution', 'root', 'id', 'integer', 'UNITID', 'IPEDS', 'Shown/used on consumer website.'),\n",
       " ('8-digit OPE ID for institution', 'root', 'ope8_id', 'integer', 'OPEID', 'IPEDS', 'Shown/used on consumer website.'),\n",
       " ('6-digit OPE ID for institution', 'root', 'ope6_id', 'integer', 'OPEID6', 'IPEDS', 'Shown/used on consumer website.'),\n",
       " ('Latitude', 'root', 'location.lat', 'float', 'LATITUDE', 'IPEDS', None),\n",
       " ('Longitude', 'root', 'location.lon', 'float', 'LONGITUDE', 'IPEDS', None)]"
      ]
     },
     "execution_count": 216,
     "metadata": {},
     "output_type": "execute_result"
    }
   ],
   "source": [
    "conn.execute(datatype_query).fetchall()"
   ]
  },
  {
   "cell_type": "code",
   "execution_count": 217,
   "metadata": {
    "collapsed": true
   },
   "outputs": [],
   "source": [
    "autocomplete_query = \"\"\"SELECT\n",
    "                            *\n",
    "                        FROM\n",
    "                            datadefinitions\n",
    "                        WHERE\n",
    "                            datatype='autocomplete'\"\"\""
   ]
  },
  {
   "cell_type": "code",
   "execution_count": 218,
   "metadata": {},
   "outputs": [
    {
     "data": {
      "text/plain": [
       "[('Institution name', 'school', 'name', 'autocomplete', 'INSTNM', 'IPEDS', 'Shown/used on consumer website.'),\n",
       " ('City', 'school', 'city', 'autocomplete', 'CITY', 'IPEDS', 'Shown/used on consumer website.'),\n",
       " ('Institution name aliases', 'school', 'alias', 'autocomplete', 'ALIAS', 'IPEDS', None)]"
      ]
     },
     "execution_count": 218,
     "metadata": {},
     "output_type": "execute_result"
    }
   ],
   "source": [
    "conn.execute(autocomplete_query).fetchall()"
   ]
  },
  {
   "cell_type": "code",
   "execution_count": 219,
   "metadata": {
    "collapsed": true,
    "scrolled": false
   },
   "outputs": [],
   "source": [
    "category_query = \"\"\"SELECT DISTINCT\n",
    "                        devcategory\n",
    "                    FROM\n",
    "                        datadefinitions;\"\"\""
   ]
  },
  {
   "cell_type": "code",
   "execution_count": 220,
   "metadata": {
    "collapsed": true
   },
   "outputs": [],
   "source": [
    "categories = [x[0] for x in conn.execute(category_query).fetchall()]"
   ]
  },
  {
   "cell_type": "code",
   "execution_count": 221,
   "metadata": {
    "collapsed": true
   },
   "outputs": [],
   "source": [
    "categories = categories[1:]"
   ]
  },
  {
   "cell_type": "code",
   "execution_count": 222,
   "metadata": {
    "collapsed": true
   },
   "outputs": [],
   "source": [
    "datatype_query = \"\"\"SELECT DISTINCT\n",
    "                        datatype\n",
    "                    FROM\n",
    "                        datadefinitions;\"\"\""
   ]
  },
  {
   "cell_type": "code",
   "execution_count": 223,
   "metadata": {},
   "outputs": [
    {
     "data": {
      "text/plain": [
       "[('integer',), ('string',), ('autocomplete',), ('float',)]"
      ]
     },
     "execution_count": 223,
     "metadata": {},
     "output_type": "execute_result"
    }
   ],
   "source": [
    "conn.execute(datatype_query).fetchall()"
   ]
  },
  {
   "cell_type": "markdown",
   "metadata": {},
   "source": [
    "#### Remove categories with mostly missing data"
   ]
  },
  {
   "cell_type": "code",
   "execution_count": 224,
   "metadata": {},
   "outputs": [
    {
     "data": {
      "text/plain": [
       "['repayment', 'admissions', 'aid', 'student', 'cost', 'school']"
      ]
     },
     "execution_count": 224,
     "metadata": {},
     "output_type": "execute_result"
    }
   ],
   "source": [
    "categories.remove('academics')\n",
    "categories.remove('earnings')\n",
    "categories.remove('completion')\n",
    "categories"
   ]
  },
  {
   "cell_type": "markdown",
   "metadata": {},
   "source": [
    "#### Gather CSV data using API calls"
   ]
  },
  {
   "cell_type": "code",
   "execution_count": 225,
   "metadata": {
    "scrolled": false
   },
   "outputs": [
    {
     "name": "stdout",
     "output_type": "stream",
     "text": [
      "Starting repayment\n",
      "Completed repayment\n",
      "Starting admissions\n",
      "Completed admissions\n",
      "Starting aid\n",
      "Completed aid\n",
      "Starting student\n",
      "<Response [200]>\n",
      "Completed student\n",
      "Starting cost\n",
      "Completed cost\n",
      "Starting school\n",
      "Completed school\n"
     ]
    }
   ],
   "source": [
    "for category in categories:\n",
    "    if((category == 'academics') | (category == 'earnings') | (category == 'completion')):\n",
    "        continue\n",
    "    print(\"Starting \"+category)\n",
    "    category_file = os.path.join(data_dir, category + \".csv\")\n",
    "    if not os.path.exists(category_file):\n",
    "        category_df = call_collegesc_api(category, api_key, conn)\n",
    "        category_df.to_csv(category_file, index=False)\n",
    "    print(\"Completed \"+category)"
   ]
  },
  {
   "cell_type": "markdown",
   "metadata": {
    "collapsed": true
   },
   "source": [
    "## Check resulting CSV files before filling out SQL Database"
   ]
  },
  {
   "cell_type": "code",
   "execution_count": 227,
   "metadata": {
    "scrolled": false
   },
   "outputs": [
    {
     "name": "stdout",
     "output_type": "stream",
     "text": [
      "repayment\n",
      "<class 'pandas.core.frame.DataFrame'>\n",
      "RangeIndex: 7703 entries, 0 to 7702\n",
      "Data columns (total 3 columns):\n",
      "3_yr_repayment.female_students_rate    7488 non-null float64\n",
      "3_yr_repayment.male_students_rate      7488 non-null float64\n",
      "id                                     7703 non-null int64\n",
      "dtypes: float64(2), int64(1)\n",
      "memory usage: 180.6 KB\n",
      "None\n",
      "\n",
      "admissions\n",
      "<class 'pandas.core.frame.DataFrame'>\n",
      "RangeIndex: 7703 entries, 0 to 7702\n",
      "Data columns (total 1 columns):\n",
      "id    7703 non-null int64\n",
      "dtypes: int64(1)\n",
      "memory usage: 60.3 KB\n",
      "None\n",
      "\n",
      "aid\n",
      "<class 'pandas.core.frame.DataFrame'>\n",
      "RangeIndex: 7703 entries, 0 to 7702\n",
      "Data columns (total 3 columns):\n",
      "federal_loan_rate    6806 non-null float64\n",
      "pell_grant_rate      6806 non-null float64\n",
      "id                   7703 non-null int64\n",
      "dtypes: float64(2), int64(1)\n",
      "memory usage: 180.6 KB\n",
      "None\n",
      "\n",
      "student\n",
      "<class 'pandas.core.frame.DataFrame'>\n",
      "RangeIndex: 7703 entries, 0 to 7702\n",
      "Data columns (total 30 columns):\n",
      "Unnamed: 0                                        7703 non-null int64\n",
      "FAFSA_applications                                7204 non-null float64\n",
      "avg_dependent_income.2014dollars                  6835 non-null float64\n",
      "avg_independent_income.2014dollars                6835 non-null float64\n",
      "demographics.age_entry                            7204 non-null float64\n",
      "demographics.avg_family_income                    7204 non-null float64\n",
      "demographics.avg_family_income_independents       6835 non-null float64\n",
      "demographics.dependent                            6829 non-null float64\n",
      "demographics.median_family_income                 7204 non-null float64\n",
      "demographics.men                                  6833 non-null float64\n",
      "demographics.race_ethnicity.aian                  6833 non-null float64\n",
      "demographics.race_ethnicity.asian                 6833 non-null float64\n",
      "demographics.race_ethnicity.black                 6833 non-null float64\n",
      "demographics.race_ethnicity.hispanic              6833 non-null float64\n",
      "demographics.race_ethnicity.nhpi                  6833 non-null float64\n",
      "demographics.race_ethnicity.non_resident_alien    6833 non-null float64\n",
      "demographics.race_ethnicity.two_or_more           6833 non-null float64\n",
      "demographics.race_ethnicity.unknown               6833 non-null float64\n",
      "demographics.race_ethnicity.white                 6833 non-null float64\n",
      "demographics.women                                6833 non-null float64\n",
      "family_income.dependent_students                  6835 non-null float64\n",
      "family_income.independent_students                6835 non-null float64\n",
      "family_income.overall                             7204 non-null float64\n",
      "part_time_share                                   6818 non-null float64\n",
      "share_25_older                                    6828 non-null float64\n",
      "share_independent_students                        6829 non-null float64\n",
      "share_lowincome.0_30000                           6897 non-null float64\n",
      "size                                              6833 non-null float64\n",
      "valid_dependency_status                           7204 non-null float64\n",
      "id                                                7703 non-null int64\n",
      "dtypes: float64(28), int64(2)\n",
      "memory usage: 1.8 MB\n",
      "None\n",
      "\n",
      "cost\n",
      "<class 'pandas.core.frame.DataFrame'>\n",
      "RangeIndex: 7703 entries, 0 to 7702\n",
      "Data columns (total 1 columns):\n",
      "id    7703 non-null int64\n",
      "dtypes: int64(1)\n",
      "memory usage: 60.3 KB\n",
      "None\n",
      "\n",
      "school\n",
      "<class 'pandas.core.frame.DataFrame'>\n",
      "RangeIndex: 7703 entries, 0 to 7702\n",
      "Data columns (total 37 columns):\n",
      "id                                      7703 non-null int64\n",
      "location.lat                            7703 non-null float64\n",
      "location.lon                            7703 non-null float64\n",
      "accreditor                              6805 non-null object\n",
      "branches                                7703 non-null int64\n",
      "carnegie_basic                          7282 non-null float64\n",
      "carnegie_size_setting                   7282 non-null float64\n",
      "carnegie_undergrad                      7282 non-null float64\n",
      "city                                    7703 non-null object\n",
      "degrees_awarded.highest                 7703 non-null int64\n",
      "degrees_awarded.predominant             7703 non-null int64\n",
      "institutional_characteristics.level     7703 non-null int64\n",
      "instructional_expenditure_per_fte       7270 non-null float64\n",
      "locale                                  7282 non-null float64\n",
      "main_campus                             7703 non-null int64\n",
      "men_only                                7282 non-null float64\n",
      "minority_serving.aanipi                 7282 non-null float64\n",
      "minority_serving.annh                   7282 non-null float64\n",
      "minority_serving.hispanic               7282 non-null float64\n",
      "minority_serving.historically_black     7282 non-null float64\n",
      "minority_serving.nant                   7282 non-null float64\n",
      "minority_serving.predominantly_black    7282 non-null float64\n",
      "minority_serving.tribal                 7282 non-null float64\n",
      "name                                    7703 non-null object\n",
      "online_only                             7282 non-null float64\n",
      "operating                               7703 non-null int64\n",
      "ownership                               7703 non-null int64\n",
      "price_calculator_url                    7158 non-null object\n",
      "region_id                               7703 non-null int64\n",
      "religious_affiliation                   7109 non-null float64\n",
      "url                                     7626 non-null object\n",
      "state                                   7703 non-null object\n",
      "state_fips                              7703 non-null int64\n",
      "tuition_revenue_per_fte                 7270 non-null float64\n",
      "under_investigation                     7703 non-null int64\n",
      "women_only                              7282 non-null float64\n",
      "zip                                     7703 non-null int64\n",
      "dtypes: float64(19), int64(12), object(6)\n",
      "memory usage: 2.2+ MB\n",
      "None\n",
      "\n"
     ]
    }
   ],
   "source": [
    "for category in categories:\n",
    "    cat_file = os.path.join(data_dir, category+'.csv')\n",
    "    category_df = pd.read_csv(cat_file)\n",
    "    print(category)\n",
    "    print(check_highnull_columns(category_df, threshold=1000))\n",
    "    print()\n",
    "    "
   ]
  },
  {
   "cell_type": "markdown",
   "metadata": {
    "collapsed": true
   },
   "source": [
    "Not worth using admissions or cost"
   ]
  },
  {
   "cell_type": "code",
   "execution_count": 68,
   "metadata": {
    "scrolled": false
   },
   "outputs": [],
   "source": [
    "sql_table_cat = list(categories)"
   ]
  },
  {
   "cell_type": "code",
   "execution_count": 69,
   "metadata": {},
   "outputs": [],
   "source": [
    "sql_table_cat.remove('admissions')\n",
    "sql_table_cat.remove('cost')"
   ]
  },
  {
   "cell_type": "code",
   "execution_count": 70,
   "metadata": {
    "scrolled": false
   },
   "outputs": [
    {
     "data": {
      "text/plain": [
       "['repayment', 'aid', 'student', 'school']"
      ]
     },
     "execution_count": 70,
     "metadata": {},
     "output_type": "execute_result"
    }
   ],
   "source": [
    "sql_table_cat"
   ]
  },
  {
   "cell_type": "markdown",
   "metadata": {},
   "source": [
    "#### Create tables (Do not use this, pandas converted intergers with nan to floats)"
   ]
  },
  {
   "cell_type": "code",
   "execution_count": 127,
   "metadata": {
    "scrolled": false
   },
   "outputs": [],
   "source": [
    "# for category in sql_table_cat:\n",
    "#     prim_key = 'id'\n",
    "#     if (category == 'school'):\n",
    "#         prim_key += \",zip\"\n",
    "\n",
    "#     cat_type_dict = create_datetype_dict(conn, category, sql_type_dict)\n",
    "#     cat_create_query = \"CREATE TABLE IF NOT EXISTS \"+ category +\" (\\n \"\n",
    "\n",
    "#     for field, var_type in cat_type_dict.items():\n",
    "#         cat_create_query += '\"'+ field + '\" ' + var_type + ' DEFAULT NULL,\\n '\n",
    "\n",
    "#     cat_create_query += \"PRIMARY KEY (\"+prim_key+\")\\n);\"\n",
    "#     conn.execute(cat_create_query)"
   ]
  },
  {
   "cell_type": "markdown",
   "metadata": {
    "collapsed": true
   },
   "source": [
    "#### Fill tables with CSV"
   ]
  },
  {
   "cell_type": "code",
   "execution_count": 258,
   "metadata": {},
   "outputs": [
    {
     "name": "stdout",
     "output_type": "stream",
     "text": [
      "repayment\n",
      "aid\n",
      "student\n",
      "school\n"
     ]
    }
   ],
   "source": [
    "for category in sql_table_cat:\n",
    "    print(category)\n",
    "    category_path = os.path.join(data_dir, category+'.csv')\n",
    "    category_df = pd.read_csv(category_path)\n",
    "    try:\n",
    "        category_df.to_sql(category, conn, if_exists='fail')\n",
    "    except:\n",
    "        print(category+\" was already added.\")\n",
    "    "
   ]
  },
  {
   "cell_type": "markdown",
   "metadata": {},
   "source": [
    "#### Verify table contents"
   ]
  },
  {
   "cell_type": "code",
   "execution_count": 273,
   "metadata": {
    "scrolled": false
   },
   "outputs": [],
   "source": [
    "example_select = \"\"\"SELECT * FROM school LIMIT 10;\"\"\""
   ]
  },
  {
   "cell_type": "code",
   "execution_count": 274,
   "metadata": {},
   "outputs": [
    {
     "data": {
      "text/html": [
       "<div>\n",
       "<style>\n",
       "    .dataframe thead tr:only-child th {\n",
       "        text-align: right;\n",
       "    }\n",
       "\n",
       "    .dataframe thead th {\n",
       "        text-align: left;\n",
       "    }\n",
       "\n",
       "    .dataframe tbody tr th {\n",
       "        vertical-align: top;\n",
       "    }\n",
       "</style>\n",
       "<table border=\"1\" class=\"dataframe\">\n",
       "  <thead>\n",
       "    <tr style=\"text-align: right;\">\n",
       "      <th></th>\n",
       "      <th>index</th>\n",
       "      <th>id</th>\n",
       "      <th>location.lat</th>\n",
       "      <th>location.lon</th>\n",
       "      <th>accreditor</th>\n",
       "      <th>alias</th>\n",
       "      <th>branches</th>\n",
       "      <th>carnegie_basic</th>\n",
       "      <th>carnegie_size_setting</th>\n",
       "      <th>carnegie_undergrad</th>\n",
       "      <th>...</th>\n",
       "      <th>price_calculator_url</th>\n",
       "      <th>region_id</th>\n",
       "      <th>religious_affiliation</th>\n",
       "      <th>url</th>\n",
       "      <th>state</th>\n",
       "      <th>state_fips</th>\n",
       "      <th>tuition_revenue_per_fte</th>\n",
       "      <th>under_investigation</th>\n",
       "      <th>women_only</th>\n",
       "      <th>zip</th>\n",
       "    </tr>\n",
       "  </thead>\n",
       "  <tbody>\n",
       "    <tr>\n",
       "      <th>0</th>\n",
       "      <td>0</td>\n",
       "      <td>121983</td>\n",
       "      <td>37.781238</td>\n",
       "      <td>-122.267523</td>\n",
       "      <td>Western Association of Schools and Colleges Se...</td>\n",
       "      <td>None</td>\n",
       "      <td>28</td>\n",
       "      <td>26.0</td>\n",
       "      <td>6.0</td>\n",
       "      <td>5.0</td>\n",
       "      <td>...</td>\n",
       "      <td>tcc.noellevitz.com/edmc/Argosy University Net ...</td>\n",
       "      <td>8</td>\n",
       "      <td>-2.0</td>\n",
       "      <td>www.argosy.edu/sanfrancisco</td>\n",
       "      <td>CA</td>\n",
       "      <td>6</td>\n",
       "      <td>12380.0</td>\n",
       "      <td>0</td>\n",
       "      <td>0.0</td>\n",
       "      <td>94501</td>\n",
       "    </tr>\n",
       "    <tr>\n",
       "      <th>1</th>\n",
       "      <td>1</td>\n",
       "      <td>120838</td>\n",
       "      <td>34.060700</td>\n",
       "      <td>-118.299841</td>\n",
       "      <td>Accrediting Council for Independent Colleges a...</td>\n",
       "      <td>None</td>\n",
       "      <td>1</td>\n",
       "      <td>29.0</td>\n",
       "      <td>6.0</td>\n",
       "      <td>11.0</td>\n",
       "      <td>...</td>\n",
       "      <td>www.psuca.edu/node/100</td>\n",
       "      <td>8</td>\n",
       "      <td>-2.0</td>\n",
       "      <td>www.psuca.edu</td>\n",
       "      <td>CA</td>\n",
       "      <td>6</td>\n",
       "      <td>13784.0</td>\n",
       "      <td>0</td>\n",
       "      <td>0.0</td>\n",
       "      <td>90010</td>\n",
       "    </tr>\n",
       "    <tr>\n",
       "      <th>2</th>\n",
       "      <td>2</td>\n",
       "      <td>434973</td>\n",
       "      <td>39.189991</td>\n",
       "      <td>-76.815804</td>\n",
       "      <td>North Central Association of Colleges and Scho...</td>\n",
       "      <td>None</td>\n",
       "      <td>38</td>\n",
       "      <td>29.0</td>\n",
       "      <td>6.0</td>\n",
       "      <td>11.0</td>\n",
       "      <td>...</td>\n",
       "      <td>www.phoenix.edu/tuition_and_financial_options/...</td>\n",
       "      <td>2</td>\n",
       "      <td>-2.0</td>\n",
       "      <td>www.phoenix.edu</td>\n",
       "      <td>MD</td>\n",
       "      <td>24</td>\n",
       "      <td>10131.0</td>\n",
       "      <td>0</td>\n",
       "      <td>0.0</td>\n",
       "      <td>21045</td>\n",
       "    </tr>\n",
       "    <tr>\n",
       "      <th>3</th>\n",
       "      <td>3</td>\n",
       "      <td>436012</td>\n",
       "      <td>40.708670</td>\n",
       "      <td>-73.627681</td>\n",
       "      <td>None</td>\n",
       "      <td>None</td>\n",
       "      <td>2</td>\n",
       "      <td>-2.0</td>\n",
       "      <td>-2.0</td>\n",
       "      <td>-2.0</td>\n",
       "      <td>...</td>\n",
       "      <td>www.franklincareer.edu</td>\n",
       "      <td>2</td>\n",
       "      <td>-2.0</td>\n",
       "      <td>www.franklincareer.edu</td>\n",
       "      <td>NY</td>\n",
       "      <td>36</td>\n",
       "      <td>6935.0</td>\n",
       "      <td>0</td>\n",
       "      <td>0.0</td>\n",
       "      <td>11550</td>\n",
       "    </tr>\n",
       "    <tr>\n",
       "      <th>4</th>\n",
       "      <td>4</td>\n",
       "      <td>436021</td>\n",
       "      <td>42.986115</td>\n",
       "      <td>-87.870663</td>\n",
       "      <td>Montessori Accreditation Council for Teacher E...</td>\n",
       "      <td>None</td>\n",
       "      <td>1</td>\n",
       "      <td>-2.0</td>\n",
       "      <td>-2.0</td>\n",
       "      <td>-2.0</td>\n",
       "      <td>...</td>\n",
       "      <td>www.montessori6-12ami.org</td>\n",
       "      <td>3</td>\n",
       "      <td>-2.0</td>\n",
       "      <td>www.montessori6-12ami.org</td>\n",
       "      <td>WI</td>\n",
       "      <td>55</td>\n",
       "      <td>6063.0</td>\n",
       "      <td>0</td>\n",
       "      <td>0.0</td>\n",
       "      <td>53207</td>\n",
       "    </tr>\n",
       "    <tr>\n",
       "      <th>5</th>\n",
       "      <td>5</td>\n",
       "      <td>436030</td>\n",
       "      <td>38.839695</td>\n",
       "      <td>-76.948468</td>\n",
       "      <td>National Accrediting Commission of Cosmetology...</td>\n",
       "      <td>None</td>\n",
       "      <td>1</td>\n",
       "      <td>-2.0</td>\n",
       "      <td>-2.0</td>\n",
       "      <td>-2.0</td>\n",
       "      <td>...</td>\n",
       "      <td>hairacademy2.com/financialaid</td>\n",
       "      <td>2</td>\n",
       "      <td>-2.0</td>\n",
       "      <td>hairacademy2.com</td>\n",
       "      <td>MD</td>\n",
       "      <td>24</td>\n",
       "      <td>11352.0</td>\n",
       "      <td>0</td>\n",
       "      <td>0.0</td>\n",
       "      <td>20748</td>\n",
       "    </tr>\n",
       "    <tr>\n",
       "      <th>6</th>\n",
       "      <td>6</td>\n",
       "      <td>436067</td>\n",
       "      <td>36.309563</td>\n",
       "      <td>-95.322932</td>\n",
       "      <td>National Accrediting Commission of Cosmetology...</td>\n",
       "      <td>None</td>\n",
       "      <td>1</td>\n",
       "      <td>-2.0</td>\n",
       "      <td>-2.0</td>\n",
       "      <td>-2.0</td>\n",
       "      <td>...</td>\n",
       "      <td>www.pryorbeautycollege.com/npcalc.htm</td>\n",
       "      <td>6</td>\n",
       "      <td>-2.0</td>\n",
       "      <td>www.pryorbeautycollege.com/</td>\n",
       "      <td>OK</td>\n",
       "      <td>40</td>\n",
       "      <td>3876.0</td>\n",
       "      <td>0</td>\n",
       "      <td>0.0</td>\n",
       "      <td>74361</td>\n",
       "    </tr>\n",
       "    <tr>\n",
       "      <th>7</th>\n",
       "      <td>7</td>\n",
       "      <td>436191</td>\n",
       "      <td>38.521026</td>\n",
       "      <td>-90.418840</td>\n",
       "      <td>Accrediting Commission of Career Schools and C...</td>\n",
       "      <td>None</td>\n",
       "      <td>11</td>\n",
       "      <td>14.0</td>\n",
       "      <td>6.0</td>\n",
       "      <td>11.0</td>\n",
       "      <td>...</td>\n",
       "      <td>www.vatterott.edu/calculator/</td>\n",
       "      <td>4</td>\n",
       "      <td>-2.0</td>\n",
       "      <td>www.vatterott.edu</td>\n",
       "      <td>MO</td>\n",
       "      <td>29</td>\n",
       "      <td>9628.0</td>\n",
       "      <td>0</td>\n",
       "      <td>0.0</td>\n",
       "      <td>63127</td>\n",
       "    </tr>\n",
       "    <tr>\n",
       "      <th>8</th>\n",
       "      <td>8</td>\n",
       "      <td>436270</td>\n",
       "      <td>40.335502</td>\n",
       "      <td>-111.712373</td>\n",
       "      <td>Accrediting Council for Continuing Education &amp;...</td>\n",
       "      <td>None</td>\n",
       "      <td>9</td>\n",
       "      <td>-2.0</td>\n",
       "      <td>-2.0</td>\n",
       "      <td>-2.0</td>\n",
       "      <td>...</td>\n",
       "      <td>www.steinered.com/utah/npcalc_west.htm</td>\n",
       "      <td>7</td>\n",
       "      <td>-2.0</td>\n",
       "      <td>www.steinered.com</td>\n",
       "      <td>UT</td>\n",
       "      <td>49</td>\n",
       "      <td>6968.0</td>\n",
       "      <td>0</td>\n",
       "      <td>0.0</td>\n",
       "      <td>84057</td>\n",
       "    </tr>\n",
       "    <tr>\n",
       "      <th>9</th>\n",
       "      <td>9</td>\n",
       "      <td>164915</td>\n",
       "      <td>42.339481</td>\n",
       "      <td>-71.133025</td>\n",
       "      <td>New England Association of Schools and College...</td>\n",
       "      <td>None</td>\n",
       "      <td>1</td>\n",
       "      <td>26.0</td>\n",
       "      <td>18.0</td>\n",
       "      <td>0.0</td>\n",
       "      <td>...</td>\n",
       "      <td>None</td>\n",
       "      <td>1</td>\n",
       "      <td>-2.0</td>\n",
       "      <td>www.bgsp.edu/</td>\n",
       "      <td>MA</td>\n",
       "      <td>25</td>\n",
       "      <td>14175.0</td>\n",
       "      <td>0</td>\n",
       "      <td>0.0</td>\n",
       "      <td>2446</td>\n",
       "    </tr>\n",
       "  </tbody>\n",
       "</table>\n",
       "<p>10 rows × 43 columns</p>\n",
       "</div>"
      ],
      "text/plain": [
       "   index      id  location.lat  location.lon  \\\n",
       "0      0  121983     37.781238   -122.267523   \n",
       "1      1  120838     34.060700   -118.299841   \n",
       "2      2  434973     39.189991    -76.815804   \n",
       "3      3  436012     40.708670    -73.627681   \n",
       "4      4  436021     42.986115    -87.870663   \n",
       "5      5  436030     38.839695    -76.948468   \n",
       "6      6  436067     36.309563    -95.322932   \n",
       "7      7  436191     38.521026    -90.418840   \n",
       "8      8  436270     40.335502   -111.712373   \n",
       "9      9  164915     42.339481    -71.133025   \n",
       "\n",
       "                                          accreditor alias  branches  \\\n",
       "0  Western Association of Schools and Colleges Se...  None        28   \n",
       "1  Accrediting Council for Independent Colleges a...  None         1   \n",
       "2  North Central Association of Colleges and Scho...  None        38   \n",
       "3                                               None  None         2   \n",
       "4  Montessori Accreditation Council for Teacher E...  None         1   \n",
       "5  National Accrediting Commission of Cosmetology...  None         1   \n",
       "6  National Accrediting Commission of Cosmetology...  None         1   \n",
       "7  Accrediting Commission of Career Schools and C...  None        11   \n",
       "8  Accrediting Council for Continuing Education &...  None         9   \n",
       "9  New England Association of Schools and College...  None         1   \n",
       "\n",
       "   carnegie_basic  carnegie_size_setting  carnegie_undergrad  ...    \\\n",
       "0            26.0                    6.0                 5.0  ...     \n",
       "1            29.0                    6.0                11.0  ...     \n",
       "2            29.0                    6.0                11.0  ...     \n",
       "3            -2.0                   -2.0                -2.0  ...     \n",
       "4            -2.0                   -2.0                -2.0  ...     \n",
       "5            -2.0                   -2.0                -2.0  ...     \n",
       "6            -2.0                   -2.0                -2.0  ...     \n",
       "7            14.0                    6.0                11.0  ...     \n",
       "8            -2.0                   -2.0                -2.0  ...     \n",
       "9            26.0                   18.0                 0.0  ...     \n",
       "\n",
       "                                price_calculator_url region_id  \\\n",
       "0  tcc.noellevitz.com/edmc/Argosy University Net ...         8   \n",
       "1                             www.psuca.edu/node/100         8   \n",
       "2  www.phoenix.edu/tuition_and_financial_options/...         2   \n",
       "3                             www.franklincareer.edu         2   \n",
       "4                          www.montessori6-12ami.org         3   \n",
       "5                      hairacademy2.com/financialaid         2   \n",
       "6              www.pryorbeautycollege.com/npcalc.htm         6   \n",
       "7                      www.vatterott.edu/calculator/         4   \n",
       "8             www.steinered.com/utah/npcalc_west.htm         7   \n",
       "9                                               None         1   \n",
       "\n",
       "   religious_affiliation                          url state  state_fips  \\\n",
       "0                   -2.0  www.argosy.edu/sanfrancisco    CA           6   \n",
       "1                   -2.0                www.psuca.edu    CA           6   \n",
       "2                   -2.0              www.phoenix.edu    MD          24   \n",
       "3                   -2.0       www.franklincareer.edu    NY          36   \n",
       "4                   -2.0    www.montessori6-12ami.org    WI          55   \n",
       "5                   -2.0             hairacademy2.com    MD          24   \n",
       "6                   -2.0  www.pryorbeautycollege.com/    OK          40   \n",
       "7                   -2.0            www.vatterott.edu    MO          29   \n",
       "8                   -2.0            www.steinered.com    UT          49   \n",
       "9                   -2.0                www.bgsp.edu/    MA          25   \n",
       "\n",
       "   tuition_revenue_per_fte  under_investigation  women_only    zip  \n",
       "0                  12380.0                    0         0.0  94501  \n",
       "1                  13784.0                    0         0.0  90010  \n",
       "2                  10131.0                    0         0.0  21045  \n",
       "3                   6935.0                    0         0.0  11550  \n",
       "4                   6063.0                    0         0.0  53207  \n",
       "5                  11352.0                    0         0.0  20748  \n",
       "6                   3876.0                    0         0.0  74361  \n",
       "7                   9628.0                    0         0.0  63127  \n",
       "8                   6968.0                    0         0.0  84057  \n",
       "9                  14175.0                    0         0.0   2446  \n",
       "\n",
       "[10 rows x 43 columns]"
      ]
     },
     "execution_count": 274,
     "metadata": {},
     "output_type": "execute_result"
    }
   ],
   "source": [
    "pd.read_sql_query(example_select, conn)"
   ]
  },
  {
   "cell_type": "code",
   "execution_count": 275,
   "metadata": {},
   "outputs": [],
   "source": [
    "student_df = pd.read_csv('./data/school.csv')"
   ]
  },
  {
   "cell_type": "code",
   "execution_count": 276,
   "metadata": {},
   "outputs": [
    {
     "data": {
      "text/html": [
       "<div>\n",
       "<style>\n",
       "    .dataframe thead tr:only-child th {\n",
       "        text-align: right;\n",
       "    }\n",
       "\n",
       "    .dataframe thead th {\n",
       "        text-align: left;\n",
       "    }\n",
       "\n",
       "    .dataframe tbody tr th {\n",
       "        vertical-align: top;\n",
       "    }\n",
       "</style>\n",
       "<table border=\"1\" class=\"dataframe\">\n",
       "  <thead>\n",
       "    <tr style=\"text-align: right;\">\n",
       "      <th></th>\n",
       "      <th>id</th>\n",
       "      <th>location.lat</th>\n",
       "      <th>location.lon</th>\n",
       "      <th>accreditor</th>\n",
       "      <th>alias</th>\n",
       "      <th>branches</th>\n",
       "      <th>carnegie_basic</th>\n",
       "      <th>carnegie_size_setting</th>\n",
       "      <th>carnegie_undergrad</th>\n",
       "      <th>city</th>\n",
       "      <th>...</th>\n",
       "      <th>price_calculator_url</th>\n",
       "      <th>region_id</th>\n",
       "      <th>religious_affiliation</th>\n",
       "      <th>url</th>\n",
       "      <th>state</th>\n",
       "      <th>state_fips</th>\n",
       "      <th>tuition_revenue_per_fte</th>\n",
       "      <th>under_investigation</th>\n",
       "      <th>women_only</th>\n",
       "      <th>zip</th>\n",
       "    </tr>\n",
       "  </thead>\n",
       "  <tbody>\n",
       "    <tr>\n",
       "      <th>0</th>\n",
       "      <td>121983</td>\n",
       "      <td>37.781238</td>\n",
       "      <td>-122.267523</td>\n",
       "      <td>Western Association of Schools and Colleges Se...</td>\n",
       "      <td>NaN</td>\n",
       "      <td>28</td>\n",
       "      <td>26.0</td>\n",
       "      <td>6.0</td>\n",
       "      <td>5.0</td>\n",
       "      <td>Alameda</td>\n",
       "      <td>...</td>\n",
       "      <td>tcc.noellevitz.com/edmc/Argosy University Net ...</td>\n",
       "      <td>8</td>\n",
       "      <td>-2.0</td>\n",
       "      <td>www.argosy.edu/sanfrancisco</td>\n",
       "      <td>CA</td>\n",
       "      <td>6</td>\n",
       "      <td>12380.0</td>\n",
       "      <td>0</td>\n",
       "      <td>0.0</td>\n",
       "      <td>94501</td>\n",
       "    </tr>\n",
       "    <tr>\n",
       "      <th>1</th>\n",
       "      <td>120838</td>\n",
       "      <td>34.060700</td>\n",
       "      <td>-118.299841</td>\n",
       "      <td>Accrediting Council for Independent Colleges a...</td>\n",
       "      <td>NaN</td>\n",
       "      <td>1</td>\n",
       "      <td>29.0</td>\n",
       "      <td>6.0</td>\n",
       "      <td>11.0</td>\n",
       "      <td>Los Angeles</td>\n",
       "      <td>...</td>\n",
       "      <td>www.psuca.edu/node/100</td>\n",
       "      <td>8</td>\n",
       "      <td>-2.0</td>\n",
       "      <td>www.psuca.edu</td>\n",
       "      <td>CA</td>\n",
       "      <td>6</td>\n",
       "      <td>13784.0</td>\n",
       "      <td>0</td>\n",
       "      <td>0.0</td>\n",
       "      <td>90010</td>\n",
       "    </tr>\n",
       "    <tr>\n",
       "      <th>2</th>\n",
       "      <td>434973</td>\n",
       "      <td>39.189991</td>\n",
       "      <td>-76.815804</td>\n",
       "      <td>North Central Association of Colleges and Scho...</td>\n",
       "      <td>NaN</td>\n",
       "      <td>38</td>\n",
       "      <td>29.0</td>\n",
       "      <td>6.0</td>\n",
       "      <td>11.0</td>\n",
       "      <td>Columbia</td>\n",
       "      <td>...</td>\n",
       "      <td>www.phoenix.edu/tuition_and_financial_options/...</td>\n",
       "      <td>2</td>\n",
       "      <td>-2.0</td>\n",
       "      <td>www.phoenix.edu</td>\n",
       "      <td>MD</td>\n",
       "      <td>24</td>\n",
       "      <td>10131.0</td>\n",
       "      <td>0</td>\n",
       "      <td>0.0</td>\n",
       "      <td>21045</td>\n",
       "    </tr>\n",
       "    <tr>\n",
       "      <th>3</th>\n",
       "      <td>436012</td>\n",
       "      <td>40.708670</td>\n",
       "      <td>-73.627681</td>\n",
       "      <td>NaN</td>\n",
       "      <td>NaN</td>\n",
       "      <td>2</td>\n",
       "      <td>-2.0</td>\n",
       "      <td>-2.0</td>\n",
       "      <td>-2.0</td>\n",
       "      <td>Hempstead</td>\n",
       "      <td>...</td>\n",
       "      <td>www.franklincareer.edu</td>\n",
       "      <td>2</td>\n",
       "      <td>-2.0</td>\n",
       "      <td>www.franklincareer.edu</td>\n",
       "      <td>NY</td>\n",
       "      <td>36</td>\n",
       "      <td>6935.0</td>\n",
       "      <td>0</td>\n",
       "      <td>0.0</td>\n",
       "      <td>11550</td>\n",
       "    </tr>\n",
       "    <tr>\n",
       "      <th>4</th>\n",
       "      <td>436021</td>\n",
       "      <td>42.986115</td>\n",
       "      <td>-87.870663</td>\n",
       "      <td>Montessori Accreditation Council for Teacher E...</td>\n",
       "      <td>NaN</td>\n",
       "      <td>1</td>\n",
       "      <td>-2.0</td>\n",
       "      <td>-2.0</td>\n",
       "      <td>-2.0</td>\n",
       "      <td>Milwaukee</td>\n",
       "      <td>...</td>\n",
       "      <td>www.montessori6-12ami.org</td>\n",
       "      <td>3</td>\n",
       "      <td>-2.0</td>\n",
       "      <td>www.montessori6-12ami.org</td>\n",
       "      <td>WI</td>\n",
       "      <td>55</td>\n",
       "      <td>6063.0</td>\n",
       "      <td>0</td>\n",
       "      <td>0.0</td>\n",
       "      <td>53207</td>\n",
       "    </tr>\n",
       "    <tr>\n",
       "      <th>5</th>\n",
       "      <td>436030</td>\n",
       "      <td>38.839695</td>\n",
       "      <td>-76.948468</td>\n",
       "      <td>National Accrediting Commission of Cosmetology...</td>\n",
       "      <td>NaN</td>\n",
       "      <td>1</td>\n",
       "      <td>-2.0</td>\n",
       "      <td>-2.0</td>\n",
       "      <td>-2.0</td>\n",
       "      <td>Hillcrest Heights</td>\n",
       "      <td>...</td>\n",
       "      <td>hairacademy2.com/financialaid</td>\n",
       "      <td>2</td>\n",
       "      <td>-2.0</td>\n",
       "      <td>hairacademy2.com</td>\n",
       "      <td>MD</td>\n",
       "      <td>24</td>\n",
       "      <td>11352.0</td>\n",
       "      <td>0</td>\n",
       "      <td>0.0</td>\n",
       "      <td>20748</td>\n",
       "    </tr>\n",
       "    <tr>\n",
       "      <th>6</th>\n",
       "      <td>436067</td>\n",
       "      <td>36.309563</td>\n",
       "      <td>-95.322932</td>\n",
       "      <td>National Accrediting Commission of Cosmetology...</td>\n",
       "      <td>NaN</td>\n",
       "      <td>1</td>\n",
       "      <td>-2.0</td>\n",
       "      <td>-2.0</td>\n",
       "      <td>-2.0</td>\n",
       "      <td>Pryor</td>\n",
       "      <td>...</td>\n",
       "      <td>www.pryorbeautycollege.com/npcalc.htm</td>\n",
       "      <td>6</td>\n",
       "      <td>-2.0</td>\n",
       "      <td>www.pryorbeautycollege.com/</td>\n",
       "      <td>OK</td>\n",
       "      <td>40</td>\n",
       "      <td>3876.0</td>\n",
       "      <td>0</td>\n",
       "      <td>0.0</td>\n",
       "      <td>74361</td>\n",
       "    </tr>\n",
       "    <tr>\n",
       "      <th>7</th>\n",
       "      <td>436191</td>\n",
       "      <td>38.521026</td>\n",
       "      <td>-90.418840</td>\n",
       "      <td>Accrediting Commission of Career Schools and C...</td>\n",
       "      <td>NaN</td>\n",
       "      <td>11</td>\n",
       "      <td>14.0</td>\n",
       "      <td>6.0</td>\n",
       "      <td>11.0</td>\n",
       "      <td>Sunset Hills</td>\n",
       "      <td>...</td>\n",
       "      <td>www.vatterott.edu/calculator/</td>\n",
       "      <td>4</td>\n",
       "      <td>-2.0</td>\n",
       "      <td>www.vatterott.edu</td>\n",
       "      <td>MO</td>\n",
       "      <td>29</td>\n",
       "      <td>9628.0</td>\n",
       "      <td>0</td>\n",
       "      <td>0.0</td>\n",
       "      <td>63127</td>\n",
       "    </tr>\n",
       "    <tr>\n",
       "      <th>8</th>\n",
       "      <td>436270</td>\n",
       "      <td>40.335502</td>\n",
       "      <td>-111.712373</td>\n",
       "      <td>Accrediting Council for Continuing Education &amp;...</td>\n",
       "      <td>NaN</td>\n",
       "      <td>9</td>\n",
       "      <td>-2.0</td>\n",
       "      <td>-2.0</td>\n",
       "      <td>-2.0</td>\n",
       "      <td>Orem</td>\n",
       "      <td>...</td>\n",
       "      <td>www.steinered.com/utah/npcalc_west.htm</td>\n",
       "      <td>7</td>\n",
       "      <td>-2.0</td>\n",
       "      <td>www.steinered.com</td>\n",
       "      <td>UT</td>\n",
       "      <td>49</td>\n",
       "      <td>6968.0</td>\n",
       "      <td>0</td>\n",
       "      <td>0.0</td>\n",
       "      <td>84057</td>\n",
       "    </tr>\n",
       "    <tr>\n",
       "      <th>9</th>\n",
       "      <td>164915</td>\n",
       "      <td>42.339481</td>\n",
       "      <td>-71.133025</td>\n",
       "      <td>New England Association of Schools and College...</td>\n",
       "      <td>NaN</td>\n",
       "      <td>1</td>\n",
       "      <td>26.0</td>\n",
       "      <td>18.0</td>\n",
       "      <td>0.0</td>\n",
       "      <td>Brookline</td>\n",
       "      <td>...</td>\n",
       "      <td>NaN</td>\n",
       "      <td>1</td>\n",
       "      <td>-2.0</td>\n",
       "      <td>www.bgsp.edu/</td>\n",
       "      <td>MA</td>\n",
       "      <td>25</td>\n",
       "      <td>14175.0</td>\n",
       "      <td>0</td>\n",
       "      <td>0.0</td>\n",
       "      <td>2446</td>\n",
       "    </tr>\n",
       "  </tbody>\n",
       "</table>\n",
       "<p>10 rows × 42 columns</p>\n",
       "</div>"
      ],
      "text/plain": [
       "       id  location.lat  location.lon  \\\n",
       "0  121983     37.781238   -122.267523   \n",
       "1  120838     34.060700   -118.299841   \n",
       "2  434973     39.189991    -76.815804   \n",
       "3  436012     40.708670    -73.627681   \n",
       "4  436021     42.986115    -87.870663   \n",
       "5  436030     38.839695    -76.948468   \n",
       "6  436067     36.309563    -95.322932   \n",
       "7  436191     38.521026    -90.418840   \n",
       "8  436270     40.335502   -111.712373   \n",
       "9  164915     42.339481    -71.133025   \n",
       "\n",
       "                                          accreditor alias  branches  \\\n",
       "0  Western Association of Schools and Colleges Se...   NaN        28   \n",
       "1  Accrediting Council for Independent Colleges a...   NaN         1   \n",
       "2  North Central Association of Colleges and Scho...   NaN        38   \n",
       "3                                                NaN   NaN         2   \n",
       "4  Montessori Accreditation Council for Teacher E...   NaN         1   \n",
       "5  National Accrediting Commission of Cosmetology...   NaN         1   \n",
       "6  National Accrediting Commission of Cosmetology...   NaN         1   \n",
       "7  Accrediting Commission of Career Schools and C...   NaN        11   \n",
       "8  Accrediting Council for Continuing Education &...   NaN         9   \n",
       "9  New England Association of Schools and College...   NaN         1   \n",
       "\n",
       "   carnegie_basic  carnegie_size_setting  carnegie_undergrad  \\\n",
       "0            26.0                    6.0                 5.0   \n",
       "1            29.0                    6.0                11.0   \n",
       "2            29.0                    6.0                11.0   \n",
       "3            -2.0                   -2.0                -2.0   \n",
       "4            -2.0                   -2.0                -2.0   \n",
       "5            -2.0                   -2.0                -2.0   \n",
       "6            -2.0                   -2.0                -2.0   \n",
       "7            14.0                    6.0                11.0   \n",
       "8            -2.0                   -2.0                -2.0   \n",
       "9            26.0                   18.0                 0.0   \n",
       "\n",
       "                city  ...    \\\n",
       "0            Alameda  ...     \n",
       "1        Los Angeles  ...     \n",
       "2           Columbia  ...     \n",
       "3          Hempstead  ...     \n",
       "4          Milwaukee  ...     \n",
       "5  Hillcrest Heights  ...     \n",
       "6              Pryor  ...     \n",
       "7       Sunset Hills  ...     \n",
       "8               Orem  ...     \n",
       "9          Brookline  ...     \n",
       "\n",
       "                                price_calculator_url  region_id  \\\n",
       "0  tcc.noellevitz.com/edmc/Argosy University Net ...          8   \n",
       "1                             www.psuca.edu/node/100          8   \n",
       "2  www.phoenix.edu/tuition_and_financial_options/...          2   \n",
       "3                             www.franklincareer.edu          2   \n",
       "4                          www.montessori6-12ami.org          3   \n",
       "5                      hairacademy2.com/financialaid          2   \n",
       "6              www.pryorbeautycollege.com/npcalc.htm          6   \n",
       "7                      www.vatterott.edu/calculator/          4   \n",
       "8             www.steinered.com/utah/npcalc_west.htm          7   \n",
       "9                                                NaN          1   \n",
       "\n",
       "   religious_affiliation                          url  state  state_fips  \\\n",
       "0                   -2.0  www.argosy.edu/sanfrancisco     CA           6   \n",
       "1                   -2.0                www.psuca.edu     CA           6   \n",
       "2                   -2.0              www.phoenix.edu     MD          24   \n",
       "3                   -2.0       www.franklincareer.edu     NY          36   \n",
       "4                   -2.0    www.montessori6-12ami.org     WI          55   \n",
       "5                   -2.0             hairacademy2.com     MD          24   \n",
       "6                   -2.0  www.pryorbeautycollege.com/     OK          40   \n",
       "7                   -2.0            www.vatterott.edu     MO          29   \n",
       "8                   -2.0            www.steinered.com     UT          49   \n",
       "9                   -2.0                www.bgsp.edu/     MA          25   \n",
       "\n",
       "   tuition_revenue_per_fte  under_investigation  women_only    zip  \n",
       "0                  12380.0                    0         0.0  94501  \n",
       "1                  13784.0                    0         0.0  90010  \n",
       "2                  10131.0                    0         0.0  21045  \n",
       "3                   6935.0                    0         0.0  11550  \n",
       "4                   6063.0                    0         0.0  53207  \n",
       "5                  11352.0                    0         0.0  20748  \n",
       "6                   3876.0                    0         0.0  74361  \n",
       "7                   9628.0                    0         0.0  63127  \n",
       "8                   6968.0                    0         0.0  84057  \n",
       "9                  14175.0                    0         0.0   2446  \n",
       "\n",
       "[10 rows x 42 columns]"
      ]
     },
     "execution_count": 276,
     "metadata": {},
     "output_type": "execute_result"
    }
   ],
   "source": [
    "student_df.head(10)"
   ]
  },
  {
   "cell_type": "markdown",
   "metadata": {
    "collapsed": true
   },
   "source": [
    "#### Add primary keys to database"
   ]
  },
  {
   "cell_type": "code",
   "execution_count": 283,
   "metadata": {},
   "outputs": [],
   "source": [
    "primary_key_add = \"\"\"ALTER TABLE\n",
    "                        student\n",
    "                    ADD PRIMARY KEY\n",
    "                        (id);\"\"\""
   ]
  },
  {
   "cell_type": "code",
   "execution_count": 284,
   "metadata": {},
   "outputs": [
    {
     "data": {
      "text/plain": [
       "<sqlalchemy.engine.result.ResultProxy at 0x7f18c1400860>"
      ]
     },
     "execution_count": 284,
     "metadata": {},
     "output_type": "execute_result"
    }
   ],
   "source": [
    "conn.execute(primary_key_add)"
   ]
  },
  {
   "cell_type": "code",
   "execution_count": 290,
   "metadata": {
    "scrolled": false
   },
   "outputs": [],
   "source": [
    "primary_key_add_zip = \"\"\"ALTER TABLE\n",
    "                        school\n",
    "                    ADD PRIMARY KEY\n",
    "                        (id,zip);\"\"\""
   ]
  },
  {
   "cell_type": "code",
   "execution_count": 291,
   "metadata": {},
   "outputs": [
    {
     "data": {
      "text/plain": [
       "<sqlalchemy.engine.result.ResultProxy at 0x7f18f8551cc0>"
      ]
     },
     "execution_count": 291,
     "metadata": {},
     "output_type": "execute_result"
    }
   ],
   "source": [
    "conn.execute(primary_key_add_zip)"
   ]
  },
  {
   "cell_type": "code",
   "execution_count": 293,
   "metadata": {
    "collapsed": true
   },
   "outputs": [],
   "source": [
    "primary_key_add_aid = \"\"\"ALTER TABLE\n",
    "                        aid\n",
    "                    ADD PRIMARY KEY\n",
    "                        (id);\"\"\""
   ]
  },
  {
   "cell_type": "code",
   "execution_count": 294,
   "metadata": {},
   "outputs": [
    {
     "data": {
      "text/plain": [
       "<sqlalchemy.engine.result.ResultProxy at 0x7f18c44aca58>"
      ]
     },
     "execution_count": 294,
     "metadata": {},
     "output_type": "execute_result"
    }
   ],
   "source": [
    "conn.execute(primary_key_add_aid, conn)"
   ]
  },
  {
   "cell_type": "code",
   "execution_count": 296,
   "metadata": {
    "collapsed": true
   },
   "outputs": [],
   "source": [
    "primary_key_add_rpmt = \"\"\"ALTER TABLE\n",
    "                        repayment\n",
    "                    ADD PRIMARY KEY\n",
    "                        (id);\"\"\""
   ]
  },
  {
   "cell_type": "code",
   "execution_count": 297,
   "metadata": {},
   "outputs": [
    {
     "data": {
      "text/plain": [
       "<sqlalchemy.engine.result.ResultProxy at 0x7f18c2c534a8>"
      ]
     },
     "execution_count": 297,
     "metadata": {},
     "output_type": "execute_result"
    }
   ],
   "source": [
    "conn.execute(primary_key_add_rpmt, conn)"
   ]
  },
  {
   "cell_type": "code",
   "execution_count": null,
   "metadata": {
    "collapsed": true
   },
   "outputs": [],
   "source": []
  },
  {
   "cell_type": "code",
   "execution_count": null,
   "metadata": {
    "collapsed": true
   },
   "outputs": [],
   "source": []
  },
  {
   "cell_type": "code",
   "execution_count": null,
   "metadata": {
    "collapsed": true
   },
   "outputs": [],
   "source": []
  },
  {
   "cell_type": "code",
   "execution_count": null,
   "metadata": {
    "collapsed": true
   },
   "outputs": [],
   "source": []
  },
  {
   "cell_type": "code",
   "execution_count": null,
   "metadata": {
    "collapsed": true
   },
   "outputs": [],
   "source": []
  },
  {
   "cell_type": "code",
   "execution_count": null,
   "metadata": {
    "collapsed": true
   },
   "outputs": [],
   "source": []
  },
  {
   "cell_type": "code",
   "execution_count": null,
   "metadata": {
    "collapsed": true
   },
   "outputs": [],
   "source": []
  },
  {
   "cell_type": "code",
   "execution_count": null,
   "metadata": {
    "collapsed": true
   },
   "outputs": [],
   "source": []
  },
  {
   "cell_type": "code",
   "execution_count": null,
   "metadata": {
    "collapsed": true
   },
   "outputs": [],
   "source": []
  },
  {
   "cell_type": "code",
   "execution_count": null,
   "metadata": {
    "collapsed": true
   },
   "outputs": [],
   "source": []
  },
  {
   "cell_type": "code",
   "execution_count": null,
   "metadata": {
    "collapsed": true
   },
   "outputs": [],
   "source": []
  },
  {
   "cell_type": "code",
   "execution_count": null,
   "metadata": {
    "collapsed": true
   },
   "outputs": [],
   "source": []
  }
 ],
 "metadata": {
  "kernelspec": {
   "display_name": "Python 3",
   "language": "python",
   "name": "python3"
  },
  "language_info": {
   "codemirror_mode": {
    "name": "ipython",
    "version": 3
   },
   "file_extension": ".py",
   "mimetype": "text/x-python",
   "name": "python",
   "nbconvert_exporter": "python",
   "pygments_lexer": "ipython3",
   "version": "3.6.1"
  }
 },
 "nbformat": 4,
 "nbformat_minor": 2
}
